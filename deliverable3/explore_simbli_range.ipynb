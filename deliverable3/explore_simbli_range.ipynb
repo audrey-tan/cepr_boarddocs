{
 "cells": [
  {
   "cell_type": "markdown",
   "metadata": {},
   "source": [
    "This notebook explores the valid S values for simbli websites."
   ]
  },
  {
   "cell_type": "code",
   "execution_count": null,
   "metadata": {
    "vscode": {
     "languageId": "plaintext"
    }
   },
   "outputs": [],
   "source": [
    "import bs4\n",
    "\n",
    "url_format  = \"https://simbli.eboardsolutions.com/SB_Meetings/SB_MeetingListing.aspx?S=\"\n",
    "\n",
    "valids = [\n",
    "    920,\n",
    "    36030885,\n",
    "    11102, \n",
    "    36030236,\n",
    "    36030741,\n",
    "    36030703,\n",
    "    36030185,\n",
    "    36030373,\n",
    "    36030248,\n",
    "    240000\n",
    "\n",
    "# older version\n",
    "# https://simbli.eboardsolutions.com/Documents/ViewDocs.aspx?S=240000#elf_v1_RG9jdW1lbnQgSG9tZQ2\n",
    "\n",
    "# but it still uses the same index\n",
    "# https://simbli.eboardsolutions.com/Index.aspx?S=240000"
   ]
  }
 ],
 "metadata": {
  "language_info": {
   "name": "python"
  }
 },
 "nbformat": 4,
 "nbformat_minor": 2
}
