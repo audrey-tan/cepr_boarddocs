{
 "cells": [
  {
   "cell_type": "markdown",
   "metadata": {},
   "source": [
    "This notebook scrapes simbli websites and get the school district details.\n",
    "\n",
    "Input\n",
    "- `s_tokens.json`"
   ]
  },
  {
   "cell_type": "code",
   "execution_count": 2,
   "metadata": {},
   "outputs": [],
   "source": [
    "import json\n",
    "\n",
    "with open(\"s_tokens.json\",'r') as f:\n",
    "    urls = json.load(f)"
   ]
  },
  {
   "cell_type": "code",
   "execution_count": 4,
   "metadata": {},
   "outputs": [
    {
     "data": {
      "text/plain": [
       "2016"
      ]
     },
     "execution_count": 4,
     "metadata": {},
     "output_type": "execute_result"
    }
   ],
   "source": [
    "len(urls)"
   ]
  },
  {
   "cell_type": "code",
   "execution_count": 7,
   "metadata": {},
   "outputs": [
    {
     "data": {
      "text/plain": [
       "('2', ['Kirksville R-III School District', 'MO'])"
      ]
     },
     "execution_count": 7,
     "metadata": {},
     "output_type": "execute_result"
    }
   ],
   "source": [
    "list(urls.items())[0]"
   ]
  },
  {
   "cell_type": "code",
   "execution_count": 19,
   "metadata": {},
   "outputs": [
    {
     "name": "stdout",
     "output_type": "stream",
     "text": [
      "Fetching URL: https://simbli.eboardsolutions.com/Index.aspx?S=12345\n",
      "<html style=\"height:100%\"><head><meta name=\"ROBOTS\" content=\"NOINDEX, NOFOLLOW\"><meta name=\"format-detection\" content=\"telephone=no\"><meta name=\"viewport\" content=\"initial-scale=1.0\"><meta http-equiv=\"X-UA-Compatible\" content=\"IE=edge,chrome=1\"><script src=\"/Looke-From-wert-there-spoke-Who-cont-Macbeth-of-\" async=\"\"></script></head><body style=\"margin:0px;height:100%\"><iframe id=\"main-iframe\" src=\"/_Incapsula_Resource?SWUDNSAI=31&amp;xinfo=53-70142602-0%20NNNY%20RT%281737164597372%2029%29%20q%280%20-1%20-1%20-1%29%20r%280%20-1%29%20B12%2814%2c0%2c0%29%20U18&amp;incident_id=1842000300601806809-382744838177687477&amp;edet=12&amp;cinfo=0e0000005613&amp;rpinfo=0&amp;cts=rTbeyiCjS%2bPTIbuSDxAK3qYEf1DWMSwOakwuc71nVO3deZ2inOeo%2fguyRtLTvZn5&amp;mth=GET\" frameborder=\"0\" width=\"100%\" height=\"100%\" marginheight=\"0px\" marginwidth=\"0px\">Request unsuccessful. Incapsula incident ID: 1842000300601806809-382744838177687477</iframe></body></html>\n",
      "School District: Example School District, State: CA, Site Detail: Not found\n"
     ]
    }
   ],
   "source": [
    "from selenium import webdriver\n",
    "from selenium.webdriver.chrome.service import Service\n",
    "from selenium.webdriver.chrome.options import Options\n",
    "from selenium.webdriver.common.by import By\n",
    "from selenium.webdriver.support.ui import WebDriverWait\n",
    "from selenium.webdriver.support import expected_conditions as EC\n",
    "\n",
    "# Set up Chrome options\n",
    "options = Options()\n",
    "options.add_argument(\"--headless\")  # Run in headless mode\n",
    "options.add_argument(\"--disable-gpu\")  # Disable GPU\n",
    "options.add_argument(\"--no-sandbox\")  # Bypass OS security model\n",
    "options.add_argument(\"--disable-dev-shm-usage\")  # Overcome resource limitations\n",
    "\n",
    "# Path to ChromeDriver\n",
    "service = Service('/Users/jeqcho/chromedriver-mac-arm64/chromedriver')\n",
    "\n",
    "# Initialize WebDriver\n",
    "driver = webdriver.Chrome(service=service, options=options)\n",
    "\n",
    "# Add custom headers using DevTools protocol\n",
    "def add_custom_headers(driver, headers):\n",
    "    \"\"\"Adds custom headers to mimic a real browser.\"\"\"\n",
    "    driver.execute_cdp_cmd(\"Network.setExtraHTTPHeaders\", {\"headers\": headers})\n",
    "\n",
    "# Define custom headers\n",
    "headers = {\n",
    "    \"User-Agent\": \"Mozilla/5.0 (Windows NT 10.0; Win64; x64) AppleWebKit/537.36 (KHTML, like Gecko) Chrome/112.0.0.0 Safari/537.36\",\n",
    "    \"Accept-Language\": \"en-US,en;q=0.9\",\n",
    "    \"Accept-Encoding\": \"gzip, deflate, br\",\n",
    "    \"Referer\": \"https://google.com\",\n",
    "}\n",
    "\n",
    "# Apply the headers\n",
    "add_custom_headers(driver, headers)\n",
    "\n",
    "base_url = \"https://simbli.eboardsolutions.com/Index.aspx?S=\"\n",
    "\n",
    "try:\n",
    "    for s_token, details in urls.items():\n",
    "        name, stateabbr = details\n",
    "        url = base_url + s_token\n",
    "        print(f\"Fetching URL: {url}\")\n",
    "\n",
    "        # Load the page\n",
    "        driver.get(url)\n",
    "\n",
    "        # Wait for the page to load\n",
    "        WebDriverWait(driver, 15).until(\n",
    "            EC.presence_of_element_located((By.TAG_NAME, \"body\"))\n",
    "        )\n",
    "\n",
    "        # Get the page source\n",
    "        page_source = driver.page_source\n",
    "        print(page_source)  # Debug: Print the HTML\n",
    "\n",
    "        # Extract the desired content (modify as needed)\n",
    "        # Note: Use BeautifulSoup or Selenium's find_element(s) for parsing if necessary\n",
    "        try:\n",
    "            site_detail = driver.find_element(By.CLASS_NAME, \"site-detail\").text\n",
    "            print(f\"School District: {name}, State: {stateabbr}, Site Detail: {site_detail}\")\n",
    "        except:\n",
    "            print(f\"School District: {name}, State: {stateabbr}, Site Detail: Not found\")\n",
    "\n",
    "        break  # Remove to process all URLs\n",
    "\n",
    "finally:\n",
    "    driver.quit()"
   ]
  }
 ],
 "metadata": {
  "kernelspec": {
   "display_name": "Python (cepr_schoolboard)",
   "language": "python",
   "name": "cepr_schoolboard"
  },
  "language_info": {
   "codemirror_mode": {
    "name": "ipython",
    "version": 3
   },
   "file_extension": ".py",
   "mimetype": "text/x-python",
   "name": "python",
   "nbconvert_exporter": "python",
   "pygments_lexer": "ipython3",
   "version": "3.13.1"
  }
 },
 "nbformat": 4,
 "nbformat_minor": 2
}
