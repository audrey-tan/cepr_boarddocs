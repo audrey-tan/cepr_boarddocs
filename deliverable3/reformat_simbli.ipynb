{
 "cells": [
  {
   "cell_type": "code",
   "execution_count": 1,
   "id": "6782b7af",
   "metadata": {},
   "outputs": [
    {
     "name": "stdout",
     "output_type": "stream",
     "text": [
      "✅ Output written to reformatted_updated_merged_simbli.csv\n"
     ]
    }
   ],
   "source": [
    "import csv\n",
    "\n",
    "input_file = 'updated_merged_simbli.csv'\n",
    "output_file = 'reformatted_updated_merged_simbli.csv'\n",
    "base_url = 'https://simbli.eboardsolutions.com/SB_Meetings/SB_MeetingListing.aspx?S='\n",
    "\n",
    "with open(input_file, mode='r', newline='', encoding='utf-8') as infile, \\\n",
    "     open(output_file, mode='w', newline='', encoding='utf-8') as outfile:\n",
    "\n",
    "    reader = csv.DictReader(infile)\n",
    "    fieldnames = ['LEA_NAME', 'simbli_id', 'LEAID']\n",
    "    writer = csv.DictWriter(outfile, fieldnames=fieldnames)\n",
    "    writer.writeheader()\n",
    "\n",
    "    for row in reader:\n",
    "        writer.writerow({\n",
    "            'LEA_NAME': row['LEA_NAME'],\n",
    "            'simbli_id': base_url + row['simbli_id'],\n",
    "            'LEAID': row['LEAID']\n",
    "        })\n",
    "\n",
    "print(f\"✅ Output written to {output_file}\")\n"
   ]
  }
 ],
 "metadata": {
  "kernelspec": {
   "display_name": "Python 3",
   "language": "python",
   "name": "python3"
  },
  "language_info": {
   "codemirror_mode": {
    "name": "ipython",
    "version": 3
   },
   "file_extension": ".py",
   "mimetype": "text/x-python",
   "name": "python",
   "nbconvert_exporter": "python",
   "pygments_lexer": "ipython3",
   "version": "3.11.10"
  }
 },
 "nbformat": 4,
 "nbformat_minor": 5
}
