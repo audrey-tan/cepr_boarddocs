{
 "cells": [
  {
   "cell_type": "markdown",
   "metadata": {},
   "source": [
    "This notebook includes two JS code chunks to get the S tokens for simbli.\n",
    "\n",
    "The code should be run on the console at https://sites.eboardsolutions.com/\n",
    "\n",
    "The results are saved as `s_tokens.json`."
   ]
  },
  {
   "cell_type": "code",
   "execution_count": null,
   "metadata": {
    "vscode": {
     "languageId": "javascript"
    }
   },
   "outputs": [],
   "source": [
    "// Select the dropdown element by its ID\n",
    "const dropdown = document.querySelector('#ddlState');\n",
    "\n",
    "// Extract the abbreviations from the <option> elements\n",
    "const abbreviations = Array.from(dropdown.options)\n",
    "    .map(option => option.value) // Get the value of each <option>\n",
    "    .filter(value => value !== \"\"); // Exclude the empty value\n",
    "\n",
    "// Log the abbreviations\n",
    "console.log(\"Abbreviations:\", abbreviations);"
   ]
  },
  {
   "cell_type": "code",
   "execution_count": null,
   "metadata": {
    "vscode": {
     "languageId": "javascript"
    }
   },
   "outputs": [],
   "source": [
    "(async function() {\n",
    "    const url = \"https://sites.eboardsolutions.com/Home/GetOrgByState\";\n",
    "\n",
    "    // List of state abbreviations\n",
    "    const abbrList = abbreviations; // Add more abbreviations as needed\n",
    "\n",
    "    // Retrieve the CSRF token from the page\n",
    "    const csrfToken = document.querySelector('input[name=\"__RequestVerificationToken\"]')?.value;\n",
    "    if (!csrfToken) {\n",
    "        console.error(\"CSRF token not found on the page!\");\n",
    "        return;\n",
    "    }\n",
    "\n",
    "    // Dictionary to store the results\n",
    "    const resultsDict = {};\n",
    "\n",
    "    // Function to send the request for a single abbreviation\n",
    "    async function fetchData(abbr) {\n",
    "        const payload = {\n",
    "            abbr: abbr,\n",
    "            __RequestVerificationToken: csrfToken\n",
    "        };\n",
    "\n",
    "        try {\n",
    "            // Make the AJAX request\n",
    "            const response = await fetch(url, {\n",
    "                method: \"POST\",\n",
    "                headers: {\n",
    "                    \"Content-Type\": \"application/x-www-form-urlencoded; charset=UTF-8\",\n",
    "                    \"Accept\": \"application/json, text/javascript, */*; q=0.01\",\n",
    "                    \"X-Requested-With\": \"XMLHttpRequest\", // Indicates this is an AJAX request\n",
    "                    \"Referer\": window.location.href // Uses the current page's URL as the Referer\n",
    "                },\n",
    "                body: new URLSearchParams(payload).toString() // Encodes payload as application/x-www-form-urlencoded\n",
    "            });\n",
    "\n",
    "            // Check response status\n",
    "            if (!response.ok) throw new Error(`HTTP error! status: ${response.status}`);\n",
    "\n",
    "            // Parse the response\n",
    "            const data = await response.json();\n",
    "\n",
    "            // Process the array under the key \"d\"\n",
    "            if (data.d && Array.isArray(data.d)) {\n",
    "                data.d.forEach(item => {\n",
    "                    const { Id, Name, StateAbbr } = item;\n",
    "                    if (Id && Name && StateAbbr) {\n",
    "                        // Add to resultsDict\n",
    "                        resultsDict[Id] = [Name, StateAbbr];\n",
    "                    }\n",
    "                });\n",
    "            }\n",
    "        } catch (error) {\n",
    "            console.error(`Error fetching data for ${abbr}:`, error);\n",
    "        }\n",
    "    }\n",
    "\n",
    "    // Loop through the list of abbreviations and fetch data for each\n",
    "    for (const abbr of abbrList) {\n",
    "        await fetchData(abbr);\n",
    "    }\n",
    "\n",
    "    // Log the final dictionary\n",
    "    console.log(\"Results Dictionary:\", resultsDict);\n",
    "\n",
    "    // Save the resultsDict to a JSON file\n",
    "    const saveAsFile = (data, filename) => {\n",
    "        const blob = new Blob([JSON.stringify(data, null, 2)], { type: \"application/json\" });\n",
    "        const url = URL.createObjectURL(blob);\n",
    "        const a = document.createElement(\"a\");\n",
    "        a.href = url;\n",
    "        a.download = filename;\n",
    "        a.click();\n",
    "        URL.revokeObjectURL(url); // Clean up the URL object\n",
    "    };\n",
    "\n",
    "    // Call the save function\n",
    "    saveAsFile(resultsDict, \"results.json\");\n",
    "})();"
   ]
  }
 ],
 "metadata": {
  "kernelspec": {
   "display_name": "Python (cepr_schoolboard)",
   "language": "python",
   "name": "cepr_schoolboard"
  },
  "language_info": {
   "codemirror_mode": {
    "name": "ipython",
    "version": 3
   },
   "file_extension": ".py",
   "mimetype": "text/x-python",
   "name": "python",
   "nbconvert_exporter": "python",
   "pygments_lexer": "ipython3",
   "version": "3.13.1"
  }
 },
 "nbformat": 4,
 "nbformat_minor": 2
}
