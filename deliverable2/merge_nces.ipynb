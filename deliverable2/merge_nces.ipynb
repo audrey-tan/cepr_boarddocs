{
 "cells": [
  {
   "cell_type": "markdown",
   "metadata": {},
   "source": [
    "This notebook merges the NCES data with the BoardDocs URLs scrapped from deliverable 1.\n",
    "\n",
    "Input\n",
    "- `../deliverable1/release/deliverable_1.csv`\n",
    "- `../nces2324.csv`\n",
    "\n",
    "Output\n",
    "-  `release/deliverable_2.csv`"
   ]
  },
  {
   "cell_type": "code",
   "execution_count": 105,
   "metadata": {},
   "outputs": [
    {
     "name": "stderr",
     "output_type": "stream",
     "text": [
      "/var/folders/cp/kz443md17ndf52c8_802gy080000gn/T/ipykernel_84246/163765961.py:4: DtypeWarning: Columns (11) have mixed types. Specify dtype option on import or set low_memory=False.\n",
      "  nces_df = pd.read_csv(\"../nces2324.csv\")\n"
     ]
    }
   ],
   "source": [
    "import pandas as pd\n",
    "\n",
    "boarddocs_df = pd.read_csv(\"../deliverable1/release/deliverable_1.csv\")\n",
    "nces_df = pd.read_csv(\"../nces2324.csv\")"
   ]
  },
  {
   "cell_type": "code",
   "execution_count": 106,
   "metadata": {},
   "outputs": [],
   "source": [
    "# select relevant columns\n",
    "nces_df = nces_df[[\"LEA_NAME\", \"LEAID\", \"LSTREET1\", \"LSTREET2\",\"LSTREET3\",\"LCITY\",\"LSTATE\", \"LZIP\",\"PHONE\",\"WEBSITE\"]]"
   ]
  },
  {
   "cell_type": "code",
   "execution_count": 107,
   "metadata": {},
   "outputs": [],
   "source": [
    "# since the most coverage is by the website, let's do a merge there first\n",
    "# our goal is to match as much boarddocs as possible\n",
    "# so boarddocs_df is on the left\n",
    "nces_df = nces_df.rename(columns={\"WEBSITE\":\"home_website\"})"
   ]
  },
  {
   "cell_type": "code",
   "execution_count": 108,
   "metadata": {},
   "outputs": [
    {
     "data": {
      "text/plain": [
       "home_website\n",
       "False    16957\n",
       "True      2680\n",
       "Name: count, dtype: int64"
      ]
     },
     "execution_count": 108,
     "metadata": {},
     "output_type": "execute_result"
    }
   ],
   "source": [
    "nces_df[\"home_website\"].isna().value_counts()"
   ]
  },
  {
   "cell_type": "code",
   "execution_count": 109,
   "metadata": {},
   "outputs": [],
   "source": [
    "# before merge, let's clean\n",
    "# remove https and www\n",
    "url_prefix_pattern = r\"https?://(www.)?\"\n",
    "nces_df[\"home_website\"] = nces_df[\"home_website\"].str.replace(url_prefix_pattern, '', regex=True)\n",
    "boarddocs_df[\"home_website\"] = boarddocs_df[\"home_website\"].str.replace(url_prefix_pattern, '', regex=True)\n",
    "\n",
    "# also remove the trailing /\n",
    "single_slash_pattern = r\"[?<!/]/[?!/]\"\n",
    "nces_df[\"home_website\"] = nces_df[\"home_website\"].str.split(single_slash_pattern,n=1).str[0]\n",
    "boarddocs_df[\"home_website\"] = boarddocs_df[\"home_website\"].str.split(single_slash_pattern,n=1).str[0]"
   ]
  },
  {
   "cell_type": "code",
   "execution_count": 127,
   "metadata": {},
   "outputs": [
    {
     "data": {
      "text/plain": [
       "6.752558944849009"
      ]
     },
     "execution_count": 127,
     "metadata": {},
     "output_type": "execute_result"
    }
   ],
   "source": [
    "# check if the websites are duplicated\n",
    "sum(nces_df[~nces_df[\"home_website\"].isna()][\"home_website\"].duplicated(keep=False)) / nces_df.shape[0] * 100"
   ]
  },
  {
   "cell_type": "code",
   "execution_count": 129,
   "metadata": {},
   "outputs": [
    {
     "data": {
      "text/plain": [
       "1326"
      ]
     },
     "execution_count": 129,
     "metadata": {},
     "output_type": "execute_result"
    }
   ],
   "source": [
    "sum(nces_df[~nces_df[\"home_website\"].isna()][\"home_website\"].duplicated(keep=False))"
   ]
  },
  {
   "cell_type": "code",
   "execution_count": 128,
   "metadata": {},
   "outputs": [
    {
     "data": {
      "text/plain": [
       "1.3174404015056462"
      ]
     },
     "execution_count": 128,
     "metadata": {},
     "output_type": "execute_result"
    }
   ],
   "source": [
    "# check if the websites are duplicated\n",
    "sum(boarddocs_df[~boarddocs_df[\"home_website\"].isna()][\"home_website\"].duplicated(keep=False)) / boarddocs_df.shape[0] * 100"
   ]
  },
  {
   "cell_type": "code",
   "execution_count": 130,
   "metadata": {},
   "outputs": [
    {
     "data": {
      "text/plain": [
       "21"
      ]
     },
     "execution_count": 130,
     "metadata": {},
     "output_type": "execute_result"
    }
   ],
   "source": [
    "sum(boarddocs_df[~boarddocs_df[\"home_website\"].isna()][\"home_website\"].duplicated(keep=False))"
   ]
  },
  {
   "cell_type": "code",
   "execution_count": 134,
   "metadata": {},
   "outputs": [
    {
     "data": {
      "text/html": [
       "<div>\n",
       "<style scoped>\n",
       "    .dataframe tbody tr th:only-of-type {\n",
       "        vertical-align: middle;\n",
       "    }\n",
       "\n",
       "    .dataframe tbody tr th {\n",
       "        vertical-align: top;\n",
       "    }\n",
       "\n",
       "    .dataframe thead th {\n",
       "        text-align: right;\n",
       "    }\n",
       "</style>\n",
       "<table border=\"1\" class=\"dataframe\">\n",
       "  <thead>\n",
       "    <tr style=\"text-align: right;\">\n",
       "      <th></th>\n",
       "      <th>URL</th>\n",
       "      <th>school_district</th>\n",
       "      <th>address</th>\n",
       "      <th>home_website</th>\n",
       "      <th>phone</th>\n",
       "    </tr>\n",
       "  </thead>\n",
       "  <tbody>\n",
       "    <tr>\n",
       "      <th>322</th>\n",
       "      <td>https://go.boarddocs.com/nj/bergen/Board.nsf/P...</td>\n",
       "      <td>Bergen County Technical Schools</td>\n",
       "      <td>540 Farview Ave. , Paramus , NJ 07652</td>\n",
       "      <td>bergen.org</td>\n",
       "      <td>NaN</td>\n",
       "    </tr>\n",
       "    <tr>\n",
       "      <th>1781</th>\n",
       "      <td>https://go.boarddocs.com/nj/bergencss/Board.ns...</td>\n",
       "      <td>Bergen County Special Services</td>\n",
       "      <td>540 Farview Avenue, Paramus, NJ 07652</td>\n",
       "      <td>bergen.org</td>\n",
       "      <td>NaN</td>\n",
       "    </tr>\n",
       "    <tr>\n",
       "      <th>2275</th>\n",
       "      <td>https://go.boarddocs.com/oh/cmsd/Board.nsf/Public</td>\n",
       "      <td>Cleveland Metropolitan School District</td>\n",
       "      <td>NaN</td>\n",
       "      <td>clevelandmetrtoschools.org</td>\n",
       "      <td>NaN</td>\n",
       "    </tr>\n",
       "    <tr>\n",
       "      <th>2891</th>\n",
       "      <td>https://go.boarddocs.com/OH/CMSD/Board.nsf/Public</td>\n",
       "      <td>Cleveland Metropolitan School District</td>\n",
       "      <td>NaN</td>\n",
       "      <td>clevelandmetrtoschools.org</td>\n",
       "      <td>NaN</td>\n",
       "    </tr>\n",
       "    <tr>\n",
       "      <th>3133</th>\n",
       "      <td>https://go.boarddocs.com/mi/scacad/Board.nsf/P...</td>\n",
       "      <td>Saginaw Covenant Academy</td>\n",
       "      <td>508 S. Washington Avenue | Saginaw, MI 48607 |...</td>\n",
       "      <td>covenantacademies.org</td>\n",
       "      <td>(989) 596-1100</td>\n",
       "    </tr>\n",
       "    <tr>\n",
       "      <th>3777</th>\n",
       "      <td>https://go.boarddocs.com/mi/kcacad/Board.nsf/P...</td>\n",
       "      <td>Kalamazoo Covenant Academy</td>\n",
       "      <td>400 W Crosstown Pkwy | Kalamazoo, MI 49001 | 2...</td>\n",
       "      <td>covenantacademies.org</td>\n",
       "      <td>(269) 888-2700</td>\n",
       "    </tr>\n",
       "    <tr>\n",
       "      <th>483</th>\n",
       "      <td>https://go.boarddocs.com/mi/mcacad/Board.nsf/P...</td>\n",
       "      <td>Muskegon Covenant Academy</td>\n",
       "      <td>125 Catherine Avenue | Muskegon, MI 49442 | 23...</td>\n",
       "      <td>covenantacademies.org</td>\n",
       "      <td>(231) 720-3100</td>\n",
       "    </tr>\n",
       "    <tr>\n",
       "      <th>1876</th>\n",
       "      <td>https://go.boarddocs.com/mi/macki/Board.nsf/Pu...</td>\n",
       "      <td>NaN</td>\n",
       "      <td>NaN</td>\n",
       "      <td>eupschools.org</td>\n",
       "      <td>NaN</td>\n",
       "    </tr>\n",
       "    <tr>\n",
       "      <th>2370</th>\n",
       "      <td>https://go.boarddocs.com/mi/engadine/Board.nsf...</td>\n",
       "      <td>Engadine Consolidated Schools</td>\n",
       "      <td>NaN</td>\n",
       "      <td>eupschools.org</td>\n",
       "      <td>NaN</td>\n",
       "    </tr>\n",
       "    <tr>\n",
       "      <th>657</th>\n",
       "      <td>https://go.boarddocs.com/mi/lca/Board.nsf/Public</td>\n",
       "      <td>Livingston Classical Academy</td>\n",
       "      <td>8877 Main St., Whitmore Lake, MI 48189 Phone: ...</td>\n",
       "      <td>livingstonclassicalacademy.org</td>\n",
       "      <td>(734) 449-2052</td>\n",
       "    </tr>\n",
       "    <tr>\n",
       "      <th>3567</th>\n",
       "      <td>https://go.boarddocs.com/mi/lcca/Board.nsf/Public</td>\n",
       "      <td>Livingston Classical Academy</td>\n",
       "      <td>NaN</td>\n",
       "      <td>livingstonclassicalacademy.org</td>\n",
       "      <td>NaN</td>\n",
       "    </tr>\n",
       "    <tr>\n",
       "      <th>2231</th>\n",
       "      <td>https://go.boarddocs.com/sd/Meade/Board.nsf/Pu...</td>\n",
       "      <td>Meade County, South Dakota</td>\n",
       "      <td>1300 Sherman Street Ste 222 | Sturgis, SD  57785</td>\n",
       "      <td>meadecounty.org</td>\n",
       "      <td>NaN</td>\n",
       "    </tr>\n",
       "    <tr>\n",
       "      <th>26</th>\n",
       "      <td>https://go.boarddocs.com/sd/meade/Board.nsf/Pu...</td>\n",
       "      <td>Meade County, South Dakota</td>\n",
       "      <td>1300 Sherman Street Ste 222 | Sturgis, SD  57785</td>\n",
       "      <td>meadecounty.org</td>\n",
       "      <td>NaN</td>\n",
       "    </tr>\n",
       "    <tr>\n",
       "      <th>3506</th>\n",
       "      <td>https://go.boarddocs.com/ny/monticello/Board.n...</td>\n",
       "      <td>Monticello Central School District</td>\n",
       "      <td>60 Jefferson Street, Suite 3• Monticello, NY 1...</td>\n",
       "      <td>monticelloschools.net</td>\n",
       "      <td>(845) 794-7700</td>\n",
       "    </tr>\n",
       "    <tr>\n",
       "      <th>1623</th>\n",
       "      <td>https://go.boarddocs.com/ny/Monticello/Board.n...</td>\n",
       "      <td>Monticello Central School District</td>\n",
       "      <td>60 Jefferson Street, Suite 3• Monticello, NY 1...</td>\n",
       "      <td>monticelloschools.net</td>\n",
       "      <td>(845) 794-7700</td>\n",
       "    </tr>\n",
       "    <tr>\n",
       "      <th>2734</th>\n",
       "      <td>https://go.boarddocs.com/fl/putnam/Board.nsf/P...</td>\n",
       "      <td>Putnam County School District</td>\n",
       "      <td>200 Reid Street | Palatka, FL 32177 | (386) 32...</td>\n",
       "      <td>my.putnamschools.org</td>\n",
       "      <td>(386) 329-0602</td>\n",
       "    </tr>\n",
       "    <tr>\n",
       "      <th>3202</th>\n",
       "      <td>https://go.boarddocs.com/fl/Putnam/Board.nsf/P...</td>\n",
       "      <td>Putnam County School District</td>\n",
       "      <td>200 Reid Street | Palatka, FL 32177 | (386) 32...</td>\n",
       "      <td>my.putnamschools.org</td>\n",
       "      <td>(386) 329-0602</td>\n",
       "    </tr>\n",
       "    <tr>\n",
       "      <th>234</th>\n",
       "      <td>https://go.boarddocs.com/oh/lhlsd/Board.nsf/Pu...</td>\n",
       "      <td>Logan-Hocking Local School District</td>\n",
       "      <td>2019 East Front Street | Logan, OH 43138 | 740...</td>\n",
       "      <td>sites.google.com</td>\n",
       "      <td>(740) 385-8517</td>\n",
       "    </tr>\n",
       "    <tr>\n",
       "      <th>3478</th>\n",
       "      <td>https://go.boarddocs.com/oh/eclsd/Board.nsf/Pu...</td>\n",
       "      <td>East Clinton Local Schools</td>\n",
       "      <td>97 Astro Way, Sabina, OH 45169  Phone: (937) 5...</td>\n",
       "      <td>sites.google.com</td>\n",
       "      <td>(937) 584-2461</td>\n",
       "    </tr>\n",
       "    <tr>\n",
       "      <th>1841</th>\n",
       "      <td>https://go.boarddocs.com/fla/scsfl/Board.nsf/P...</td>\n",
       "      <td>Sumter District Schools</td>\n",
       "      <td>2680 West County Road 476 | Bushnell, Florida ...</td>\n",
       "      <td>sumter.k12.fl.us</td>\n",
       "      <td>(352) 793-2315</td>\n",
       "    </tr>\n",
       "    <tr>\n",
       "      <th>3661</th>\n",
       "      <td>https://go.boarddocs.com/FLA/scsfl/Board.nsf/P...</td>\n",
       "      <td>Sumter District Schools</td>\n",
       "      <td>2680 West County Road 476 | Bushnell, Florida ...</td>\n",
       "      <td>sumter.k12.fl.us</td>\n",
       "      <td>(352) 793-2315</td>\n",
       "    </tr>\n",
       "  </tbody>\n",
       "</table>\n",
       "</div>"
      ],
      "text/plain": [
       "                                                    URL  \\\n",
       "322   https://go.boarddocs.com/nj/bergen/Board.nsf/P...   \n",
       "1781  https://go.boarddocs.com/nj/bergencss/Board.ns...   \n",
       "2275  https://go.boarddocs.com/oh/cmsd/Board.nsf/Public   \n",
       "2891  https://go.boarddocs.com/OH/CMSD/Board.nsf/Public   \n",
       "3133  https://go.boarddocs.com/mi/scacad/Board.nsf/P...   \n",
       "3777  https://go.boarddocs.com/mi/kcacad/Board.nsf/P...   \n",
       "483   https://go.boarddocs.com/mi/mcacad/Board.nsf/P...   \n",
       "1876  https://go.boarddocs.com/mi/macki/Board.nsf/Pu...   \n",
       "2370  https://go.boarddocs.com/mi/engadine/Board.nsf...   \n",
       "657    https://go.boarddocs.com/mi/lca/Board.nsf/Public   \n",
       "3567  https://go.boarddocs.com/mi/lcca/Board.nsf/Public   \n",
       "2231  https://go.boarddocs.com/sd/Meade/Board.nsf/Pu...   \n",
       "26    https://go.boarddocs.com/sd/meade/Board.nsf/Pu...   \n",
       "3506  https://go.boarddocs.com/ny/monticello/Board.n...   \n",
       "1623  https://go.boarddocs.com/ny/Monticello/Board.n...   \n",
       "2734  https://go.boarddocs.com/fl/putnam/Board.nsf/P...   \n",
       "3202  https://go.boarddocs.com/fl/Putnam/Board.nsf/P...   \n",
       "234   https://go.boarddocs.com/oh/lhlsd/Board.nsf/Pu...   \n",
       "3478  https://go.boarddocs.com/oh/eclsd/Board.nsf/Pu...   \n",
       "1841  https://go.boarddocs.com/fla/scsfl/Board.nsf/P...   \n",
       "3661  https://go.boarddocs.com/FLA/scsfl/Board.nsf/P...   \n",
       "\n",
       "                             school_district  \\\n",
       "322          Bergen County Technical Schools   \n",
       "1781          Bergen County Special Services   \n",
       "2275  Cleveland Metropolitan School District   \n",
       "2891  Cleveland Metropolitan School District   \n",
       "3133                Saginaw Covenant Academy   \n",
       "3777              Kalamazoo Covenant Academy   \n",
       "483                Muskegon Covenant Academy   \n",
       "1876                                     NaN   \n",
       "2370           Engadine Consolidated Schools   \n",
       "657             Livingston Classical Academy   \n",
       "3567            Livingston Classical Academy   \n",
       "2231              Meade County, South Dakota   \n",
       "26                Meade County, South Dakota   \n",
       "3506      Monticello Central School District   \n",
       "1623      Monticello Central School District   \n",
       "2734           Putnam County School District   \n",
       "3202           Putnam County School District   \n",
       "234      Logan-Hocking Local School District   \n",
       "3478              East Clinton Local Schools   \n",
       "1841                 Sumter District Schools   \n",
       "3661                 Sumter District Schools   \n",
       "\n",
       "                                                address  \\\n",
       "322               540 Farview Ave. , Paramus , NJ 07652   \n",
       "1781              540 Farview Avenue, Paramus, NJ 07652   \n",
       "2275                                                NaN   \n",
       "2891                                                NaN   \n",
       "3133  508 S. Washington Avenue | Saginaw, MI 48607 |...   \n",
       "3777  400 W Crosstown Pkwy | Kalamazoo, MI 49001 | 2...   \n",
       "483   125 Catherine Avenue | Muskegon, MI 49442 | 23...   \n",
       "1876                                                NaN   \n",
       "2370                                                NaN   \n",
       "657   8877 Main St., Whitmore Lake, MI 48189 Phone: ...   \n",
       "3567                                                NaN   \n",
       "2231   1300 Sherman Street Ste 222 | Sturgis, SD  57785   \n",
       "26     1300 Sherman Street Ste 222 | Sturgis, SD  57785   \n",
       "3506  60 Jefferson Street, Suite 3• Monticello, NY 1...   \n",
       "1623  60 Jefferson Street, Suite 3• Monticello, NY 1...   \n",
       "2734  200 Reid Street | Palatka, FL 32177 | (386) 32...   \n",
       "3202  200 Reid Street | Palatka, FL 32177 | (386) 32...   \n",
       "234   2019 East Front Street | Logan, OH 43138 | 740...   \n",
       "3478  97 Astro Way, Sabina, OH 45169  Phone: (937) 5...   \n",
       "1841  2680 West County Road 476 | Bushnell, Florida ...   \n",
       "3661  2680 West County Road 476 | Bushnell, Florida ...   \n",
       "\n",
       "                        home_website           phone  \n",
       "322                       bergen.org             NaN  \n",
       "1781                      bergen.org             NaN  \n",
       "2275      clevelandmetrtoschools.org             NaN  \n",
       "2891      clevelandmetrtoschools.org             NaN  \n",
       "3133           covenantacademies.org  (989) 596-1100  \n",
       "3777           covenantacademies.org  (269) 888-2700  \n",
       "483            covenantacademies.org  (231) 720-3100  \n",
       "1876                  eupschools.org             NaN  \n",
       "2370                  eupschools.org             NaN  \n",
       "657   livingstonclassicalacademy.org  (734) 449-2052  \n",
       "3567  livingstonclassicalacademy.org             NaN  \n",
       "2231                 meadecounty.org             NaN  \n",
       "26                   meadecounty.org             NaN  \n",
       "3506           monticelloschools.net  (845) 794-7700  \n",
       "1623           monticelloschools.net  (845) 794-7700  \n",
       "2734            my.putnamschools.org  (386) 329-0602  \n",
       "3202            my.putnamschools.org  (386) 329-0602  \n",
       "234                 sites.google.com  (740) 385-8517  \n",
       "3478                sites.google.com  (937) 584-2461  \n",
       "1841                sumter.k12.fl.us  (352) 793-2315  \n",
       "3661                sumter.k12.fl.us  (352) 793-2315  "
      ]
     },
     "execution_count": 134,
     "metadata": {},
     "output_type": "execute_result"
    }
   ],
   "source": [
    "boarddocs_df.loc[(~boarddocs_df[\"home_website\"].isna()) & (boarddocs_df[\"home_website\"].duplicated(keep=False)),:].sort_values(by=\"home_website\")"
   ]
  },
  {
   "cell_type": "code",
   "execution_count": 110,
   "metadata": {},
   "outputs": [],
   "source": [
    "df = pd.merge(boarddocs_df, nces_df[~nces_df[\"home_website\"].isna()], how=\"left\", on=\"home_website\")"
   ]
  },
  {
   "cell_type": "code",
   "execution_count": 111,
   "metadata": {},
   "outputs": [
    {
     "data": {
      "text/plain": [
       "60.0200652119388"
      ]
     },
     "execution_count": 111,
     "metadata": {},
     "output_type": "execute_result"
    }
   ],
   "source": [
    "# let's check how good is the match\n",
    "# check how many rows have LEAID\n",
    "df[~df[\"LEAID\"].isna()].shape[0] / df.shape[0] * 100"
   ]
  },
  {
   "cell_type": "code",
   "execution_count": 112,
   "metadata": {},
   "outputs": [
    {
     "data": {
      "text/html": [
       "<div>\n",
       "<style scoped>\n",
       "    .dataframe tbody tr th:only-of-type {\n",
       "        vertical-align: middle;\n",
       "    }\n",
       "\n",
       "    .dataframe tbody tr th {\n",
       "        vertical-align: top;\n",
       "    }\n",
       "\n",
       "    .dataframe thead th {\n",
       "        text-align: right;\n",
       "    }\n",
       "</style>\n",
       "<table border=\"1\" class=\"dataframe\">\n",
       "  <thead>\n",
       "    <tr style=\"text-align: right;\">\n",
       "      <th></th>\n",
       "      <th>URL</th>\n",
       "      <th>school_district</th>\n",
       "      <th>address</th>\n",
       "      <th>home_website</th>\n",
       "      <th>phone</th>\n",
       "      <th>LEA_NAME</th>\n",
       "      <th>LEAID</th>\n",
       "      <th>LSTREET1</th>\n",
       "      <th>LSTREET2</th>\n",
       "      <th>LSTREET3</th>\n",
       "      <th>LCITY</th>\n",
       "      <th>LSTATE</th>\n",
       "      <th>LZIP</th>\n",
       "      <th>PHONE</th>\n",
       "    </tr>\n",
       "  </thead>\n",
       "  <tbody>\n",
       "    <tr>\n",
       "      <th>1569</th>\n",
       "      <td>https://go.boarddocs.com/md/msde/Board.nsf/Public</td>\n",
       "      <td>Maryland State Board of Education</td>\n",
       "      <td>200 West Baltimore Street, Baltimore, MD 21201...</td>\n",
       "      <td>marylandpublicschools.org</td>\n",
       "      <td>NaN</td>\n",
       "      <td>NaN</td>\n",
       "      <td>NaN</td>\n",
       "      <td>NaN</td>\n",
       "      <td>NaN</td>\n",
       "      <td>NaN</td>\n",
       "      <td>NaN</td>\n",
       "      <td>NaN</td>\n",
       "      <td>NaN</td>\n",
       "      <td>NaN</td>\n",
       "    </tr>\n",
       "    <tr>\n",
       "      <th>3949</th>\n",
       "      <td>https://go.boarddocs.com/oh/strasoh/Board.nsf/...</td>\n",
       "      <td>NaN</td>\n",
       "      <td>Strasburg-Franklin Local Schools | 140 North B...</td>\n",
       "      <td>strasburg.k12.oh.us</td>\n",
       "      <td>(330) 878-5571</td>\n",
       "      <td>NaN</td>\n",
       "      <td>NaN</td>\n",
       "      <td>NaN</td>\n",
       "      <td>NaN</td>\n",
       "      <td>NaN</td>\n",
       "      <td>NaN</td>\n",
       "      <td>NaN</td>\n",
       "      <td>NaN</td>\n",
       "      <td>NaN</td>\n",
       "    </tr>\n",
       "    <tr>\n",
       "      <th>621</th>\n",
       "      <td>https://go.boarddocs.com/la/ipssla/Board.nsf/P...</td>\n",
       "      <td>Iberia Parish School System</td>\n",
       "      <td>1500 Jane Street • P. O. Box 200 • New Iberia,...</td>\n",
       "      <td>iberiaschools.org</td>\n",
       "      <td>(337) 365-2341</td>\n",
       "      <td>NaN</td>\n",
       "      <td>NaN</td>\n",
       "      <td>NaN</td>\n",
       "      <td>NaN</td>\n",
       "      <td>NaN</td>\n",
       "      <td>NaN</td>\n",
       "      <td>NaN</td>\n",
       "      <td>NaN</td>\n",
       "      <td>NaN</td>\n",
       "    </tr>\n",
       "    <tr>\n",
       "      <th>2578</th>\n",
       "      <td>https://go.boarddocs.com/oh/fhocking/Board.nsf...</td>\n",
       "      <td>Federal Hocking Local School District</td>\n",
       "      <td>8461 State Route 144, Stewart, OH 45778 | (740...</td>\n",
       "      <td>fedhock.com</td>\n",
       "      <td>(740) 662-6691</td>\n",
       "      <td>NaN</td>\n",
       "      <td>NaN</td>\n",
       "      <td>NaN</td>\n",
       "      <td>NaN</td>\n",
       "      <td>NaN</td>\n",
       "      <td>NaN</td>\n",
       "      <td>NaN</td>\n",
       "      <td>NaN</td>\n",
       "      <td>NaN</td>\n",
       "    </tr>\n",
       "    <tr>\n",
       "      <th>114</th>\n",
       "      <td>https://go.boarddocs.com/sc/spart7/Board.nsf/P...</td>\n",
       "      <td>Spartanburg School District 7</td>\n",
       "      <td>610 Dupre Drive | Spartanburg, SC 29307 | Tel:...</td>\n",
       "      <td>spartanburg7.org</td>\n",
       "      <td>(864) 594-4400</td>\n",
       "      <td>NaN</td>\n",
       "      <td>NaN</td>\n",
       "      <td>NaN</td>\n",
       "      <td>NaN</td>\n",
       "      <td>NaN</td>\n",
       "      <td>NaN</td>\n",
       "      <td>NaN</td>\n",
       "      <td>NaN</td>\n",
       "      <td>NaN</td>\n",
       "    </tr>\n",
       "  </tbody>\n",
       "</table>\n",
       "</div>"
      ],
      "text/plain": [
       "                                                    URL  \\\n",
       "1569  https://go.boarddocs.com/md/msde/Board.nsf/Public   \n",
       "3949  https://go.boarddocs.com/oh/strasoh/Board.nsf/...   \n",
       "621   https://go.boarddocs.com/la/ipssla/Board.nsf/P...   \n",
       "2578  https://go.boarddocs.com/oh/fhocking/Board.nsf...   \n",
       "114   https://go.boarddocs.com/sc/spart7/Board.nsf/P...   \n",
       "\n",
       "                            school_district  \\\n",
       "1569      Maryland State Board of Education   \n",
       "3949                                    NaN   \n",
       "621             Iberia Parish School System   \n",
       "2578  Federal Hocking Local School District   \n",
       "114           Spartanburg School District 7   \n",
       "\n",
       "                                                address  \\\n",
       "1569  200 West Baltimore Street, Baltimore, MD 21201...   \n",
       "3949  Strasburg-Franklin Local Schools | 140 North B...   \n",
       "621   1500 Jane Street • P. O. Box 200 • New Iberia,...   \n",
       "2578  8461 State Route 144, Stewart, OH 45778 | (740...   \n",
       "114   610 Dupre Drive | Spartanburg, SC 29307 | Tel:...   \n",
       "\n",
       "                   home_website           phone LEA_NAME  LEAID LSTREET1  \\\n",
       "1569  marylandpublicschools.org             NaN      NaN    NaN      NaN   \n",
       "3949        strasburg.k12.oh.us  (330) 878-5571      NaN    NaN      NaN   \n",
       "621           iberiaschools.org  (337) 365-2341      NaN    NaN      NaN   \n",
       "2578                fedhock.com  (740) 662-6691      NaN    NaN      NaN   \n",
       "114            spartanburg7.org  (864) 594-4400      NaN    NaN      NaN   \n",
       "\n",
       "     LSTREET2 LSTREET3 LCITY LSTATE  LZIP PHONE  \n",
       "1569      NaN      NaN   NaN    NaN   NaN   NaN  \n",
       "3949      NaN      NaN   NaN    NaN   NaN   NaN  \n",
       "621       NaN      NaN   NaN    NaN   NaN   NaN  \n",
       "2578      NaN      NaN   NaN    NaN   NaN   NaN  \n",
       "114       NaN      NaN   NaN    NaN   NaN   NaN  "
      ]
     },
     "execution_count": 112,
     "metadata": {},
     "output_type": "execute_result"
    }
   ],
   "source": [
    "# ok we have matched 37% of them\n",
    "# check those that weren't matched but has website\n",
    "\n",
    "df[(~df[\"home_website\"].isna()) & (df[\"LEAID\"].isna())].sample(5)"
   ]
  },
  {
   "cell_type": "code",
   "execution_count": 113,
   "metadata": {},
   "outputs": [],
   "source": [
    "# let's take out the ones matched first\n",
    "matched = df[~df[\"LEAID\"].isna()]\n",
    "boarddocs_df = boarddocs_df[~boarddocs_df[\"URL\"].isin(matched[\"URL\"])]"
   ]
  },
  {
   "cell_type": "code",
   "execution_count": 114,
   "metadata": {},
   "outputs": [],
   "source": [
    "# match by phone\n",
    "# then hopefully that can tell us what is up with the website\n",
    "nces_df = nces_df.rename(columns={\n",
    "    \"PHONE\": \"phone\"\n",
    "})"
   ]
  },
  {
   "cell_type": "code",
   "execution_count": 115,
   "metadata": {},
   "outputs": [],
   "source": [
    "# check if all is in same format\n",
    "phone_pattern = r\"^\\(\\d{3}\\)\\d{3}\\-\\d{4}$\"\n",
    "nces_df[\"phone_good_pattern\"] = nces_df[\"phone\"].str.contains(phone_pattern, regex=True, na=False)"
   ]
  },
  {
   "cell_type": "code",
   "execution_count": 116,
   "metadata": {},
   "outputs": [
    {
     "data": {
      "text/plain": [
       "phone_good_pattern\n",
       "True    19637\n",
       "Name: count, dtype: int64"
      ]
     },
     "execution_count": 116,
     "metadata": {},
     "output_type": "execute_result"
    }
   ],
   "source": [
    "nces_df[\"phone_good_pattern\"].value_counts()"
   ]
  },
  {
   "cell_type": "code",
   "execution_count": 117,
   "metadata": {},
   "outputs": [],
   "source": [
    "# let's just add space\n",
    "nces_df[\"phone\"] = nces_df[\"phone\"].str.replace(\")\",\") \")"
   ]
  },
  {
   "cell_type": "code",
   "execution_count": 118,
   "metadata": {},
   "outputs": [
    {
     "data": {
      "text/plain": [
       "0"
      ]
     },
     "execution_count": 118,
     "metadata": {},
     "output_type": "execute_result"
    }
   ],
   "source": [
    "# make sure both are unique\n",
    "sum(nces_df[\"phone\"].isna())"
   ]
  },
  {
   "cell_type": "code",
   "execution_count": 119,
   "metadata": {},
   "outputs": [
    {
     "data": {
      "text/plain": [
       "1453"
      ]
     },
     "execution_count": 119,
     "metadata": {},
     "output_type": "execute_result"
    }
   ],
   "source": [
    "# make sure both are unique\n",
    "sum(nces_df[\"phone\"].duplicated(keep=False))"
   ]
  },
  {
   "cell_type": "code",
   "execution_count": 120,
   "metadata": {},
   "outputs": [
    {
     "data": {
      "text/plain": [
       "(19637, 11)"
      ]
     },
     "execution_count": 120,
     "metadata": {},
     "output_type": "execute_result"
    }
   ],
   "source": [
    "nces_df.shape"
   ]
  },
  {
   "cell_type": "code",
   "execution_count": 121,
   "metadata": {},
   "outputs": [
    {
     "data": {
      "text/html": [
       "<div>\n",
       "<style scoped>\n",
       "    .dataframe tbody tr th:only-of-type {\n",
       "        vertical-align: middle;\n",
       "    }\n",
       "\n",
       "    .dataframe tbody tr th {\n",
       "        vertical-align: top;\n",
       "    }\n",
       "\n",
       "    .dataframe thead th {\n",
       "        text-align: right;\n",
       "    }\n",
       "</style>\n",
       "<table border=\"1\" class=\"dataframe\">\n",
       "  <thead>\n",
       "    <tr style=\"text-align: right;\">\n",
       "      <th></th>\n",
       "      <th>LEA_NAME</th>\n",
       "      <th>LEAID</th>\n",
       "      <th>LSTREET1</th>\n",
       "      <th>LSTREET2</th>\n",
       "      <th>LSTREET3</th>\n",
       "      <th>LCITY</th>\n",
       "      <th>LSTATE</th>\n",
       "      <th>LZIP</th>\n",
       "      <th>phone</th>\n",
       "      <th>home_website</th>\n",
       "      <th>phone_good_pattern</th>\n",
       "    </tr>\n",
       "  </thead>\n",
       "  <tbody>\n",
       "    <tr>\n",
       "      <th>11110</th>\n",
       "      <td>Bergen County Vocational Technical School Dist...</td>\n",
       "      <td>3401470</td>\n",
       "      <td>540 Farview Avenue</td>\n",
       "      <td>NaN</td>\n",
       "      <td>NaN</td>\n",
       "      <td>Paramus</td>\n",
       "      <td>NJ</td>\n",
       "      <td>7652</td>\n",
       "      <td>(201) 343-6000</td>\n",
       "      <td>bcts.bergen.org</td>\n",
       "      <td>True</td>\n",
       "    </tr>\n",
       "    <tr>\n",
       "      <th>11109</th>\n",
       "      <td>Bergen County Special Services School District</td>\n",
       "      <td>3401450</td>\n",
       "      <td>540 Farview Avenue</td>\n",
       "      <td>NaN</td>\n",
       "      <td>NaN</td>\n",
       "      <td>Paramus</td>\n",
       "      <td>NJ</td>\n",
       "      <td>7652</td>\n",
       "      <td>(201) 343-6000</td>\n",
       "      <td>bcss.bergen.org</td>\n",
       "      <td>True</td>\n",
       "    </tr>\n",
       "    <tr>\n",
       "      <th>11070</th>\n",
       "      <td>Hudson Arts and Science Charter School</td>\n",
       "      <td>3400787</td>\n",
       "      <td>131 Midland Ave</td>\n",
       "      <td>NaN</td>\n",
       "      <td>NaN</td>\n",
       "      <td>Kearny</td>\n",
       "      <td>NJ</td>\n",
       "      <td>7032</td>\n",
       "      <td>(201) 773-9140</td>\n",
       "      <td>hudsoncharter.org</td>\n",
       "      <td>True</td>\n",
       "    </tr>\n",
       "    <tr>\n",
       "      <th>11023</th>\n",
       "      <td>Bergen Arts and Science Charter School</td>\n",
       "      <td>3400715</td>\n",
       "      <td>200 MacArthur Ave</td>\n",
       "      <td>NaN</td>\n",
       "      <td>NaN</td>\n",
       "      <td>Garfield</td>\n",
       "      <td>NJ</td>\n",
       "      <td>7026</td>\n",
       "      <td>(201) 773-9140</td>\n",
       "      <td>bergencharter.org</td>\n",
       "      <td>True</td>\n",
       "    </tr>\n",
       "    <tr>\n",
       "      <th>3802</th>\n",
       "      <td>Regional School District 09</td>\n",
       "      <td>903780</td>\n",
       "      <td>654 Morehouse Road</td>\n",
       "      <td>NaN</td>\n",
       "      <td>NaN</td>\n",
       "      <td>Easton</td>\n",
       "      <td>CT</td>\n",
       "      <td>6612</td>\n",
       "      <td>(203) 261-2513</td>\n",
       "      <td>er9.org</td>\n",
       "      <td>True</td>\n",
       "    </tr>\n",
       "  </tbody>\n",
       "</table>\n",
       "</div>"
      ],
      "text/plain": [
       "                                                LEA_NAME    LEAID  \\\n",
       "11110  Bergen County Vocational Technical School Dist...  3401470   \n",
       "11109     Bergen County Special Services School District  3401450   \n",
       "11070             Hudson Arts and Science Charter School  3400787   \n",
       "11023             Bergen Arts and Science Charter School  3400715   \n",
       "3802                         Regional School District 09   903780   \n",
       "\n",
       "                 LSTREET1 LSTREET2 LSTREET3     LCITY LSTATE  LZIP  \\\n",
       "11110  540 Farview Avenue      NaN      NaN   Paramus     NJ  7652   \n",
       "11109  540 Farview Avenue      NaN      NaN   Paramus     NJ  7652   \n",
       "11070     131 Midland Ave      NaN      NaN    Kearny     NJ  7032   \n",
       "11023   200 MacArthur Ave      NaN      NaN  Garfield     NJ  7026   \n",
       "3802   654 Morehouse Road      NaN      NaN    Easton     CT  6612   \n",
       "\n",
       "                phone       home_website  phone_good_pattern  \n",
       "11110  (201) 343-6000    bcts.bergen.org                True  \n",
       "11109  (201) 343-6000    bcss.bergen.org                True  \n",
       "11070  (201) 773-9140  hudsoncharter.org                True  \n",
       "11023  (201) 773-9140  bergencharter.org                True  \n",
       "3802   (203) 261-2513            er9.org                True  "
      ]
     },
     "execution_count": 121,
     "metadata": {},
     "output_type": "execute_result"
    }
   ],
   "source": [
    "# seems like almost 10% of the phone numbers in nces is duplicated\n",
    "nces_df[nces_df[\"phone\"].duplicated(keep=False)].sort_values(by=\"phone\").head()"
   ]
  },
  {
   "cell_type": "code",
   "execution_count": 122,
   "metadata": {},
   "outputs": [],
   "source": [
    "# merge it\n",
    "df = pd.merge(boarddocs_df, nces_df, how=\"left\", on=\"phone\")"
   ]
  },
  {
   "cell_type": "code",
   "execution_count": 123,
   "metadata": {},
   "outputs": [
    {
     "data": {
      "text/plain": [
       "41.95544554455445"
      ]
     },
     "execution_count": 123,
     "metadata": {},
     "output_type": "execute_result"
    }
   ],
   "source": [
    "# check matches\n",
    "# check how many rows have LEAID\n",
    "df[~df[\"LEAID\"].isna()].shape[0] / df.shape[0] * 100"
   ]
  },
  {
   "cell_type": "code",
   "execution_count": 124,
   "metadata": {},
   "outputs": [
    {
     "data": {
      "text/html": [
       "<div>\n",
       "<style scoped>\n",
       "    .dataframe tbody tr th:only-of-type {\n",
       "        vertical-align: middle;\n",
       "    }\n",
       "\n",
       "    .dataframe tbody tr th {\n",
       "        vertical-align: top;\n",
       "    }\n",
       "\n",
       "    .dataframe thead th {\n",
       "        text-align: right;\n",
       "    }\n",
       "</style>\n",
       "<table border=\"1\" class=\"dataframe\">\n",
       "  <thead>\n",
       "    <tr style=\"text-align: right;\">\n",
       "      <th></th>\n",
       "      <th>URL</th>\n",
       "      <th>school_district</th>\n",
       "      <th>address</th>\n",
       "      <th>home_website_x</th>\n",
       "      <th>phone</th>\n",
       "      <th>LEA_NAME</th>\n",
       "      <th>LEAID</th>\n",
       "      <th>LSTREET1</th>\n",
       "      <th>LSTREET2</th>\n",
       "      <th>LSTREET3</th>\n",
       "      <th>LCITY</th>\n",
       "      <th>LSTATE</th>\n",
       "      <th>LZIP</th>\n",
       "      <th>home_website_y</th>\n",
       "      <th>phone_good_pattern</th>\n",
       "    </tr>\n",
       "  </thead>\n",
       "  <tbody>\n",
       "    <tr>\n",
       "      <th>531</th>\n",
       "      <td>https://go.boarddocs.com/ny/gcsny/Board.nsf/Pu...</td>\n",
       "      <td>Goshen Central School District</td>\n",
       "      <td>227 Main Street Goshen, NY 10924 | (845) 615-6720</td>\n",
       "      <td>gcsny.org</td>\n",
       "      <td>(845) 615-6720</td>\n",
       "      <td>GOSHEN CENTRAL SCHOOL DISTRICT</td>\n",
       "      <td>3612330.0</td>\n",
       "      <td>227 MAIN ST</td>\n",
       "      <td>NaN</td>\n",
       "      <td>NaN</td>\n",
       "      <td>GOSHEN</td>\n",
       "      <td>NY</td>\n",
       "      <td>10924.0</td>\n",
       "      <td>goshenschoolsny.org</td>\n",
       "      <td>True</td>\n",
       "    </tr>\n",
       "    <tr>\n",
       "      <th>755</th>\n",
       "      <td>https://go.boarddocs.com/oh/tcsoh/Board.nsf/Pu...</td>\n",
       "      <td>Tallmadge City School District</td>\n",
       "      <td>486 East Avenue  |  Tallmadge, OH 44278  |  Ph...</td>\n",
       "      <td>tallmadgeschools.org</td>\n",
       "      <td>(330) 633-3291</td>\n",
       "      <td>Tallmadge City</td>\n",
       "      <td>3904488.0</td>\n",
       "      <td>486 East Ave</td>\n",
       "      <td>NaN</td>\n",
       "      <td>NaN</td>\n",
       "      <td>Tallmadge</td>\n",
       "      <td>OH</td>\n",
       "      <td>44278.0</td>\n",
       "      <td>tallmadgeschools.org/</td>\n",
       "      <td>True</td>\n",
       "    </tr>\n",
       "    <tr>\n",
       "      <th>528</th>\n",
       "      <td>https://go.boarddocs.com/vsba/lunenburg/Board....</td>\n",
       "      <td>Lunenburg County Public Schools</td>\n",
       "      <td>1009 Main St | Kenbridge, VA 23944 | 434.676.2...</td>\n",
       "      <td>lunenburgcountyschools.org</td>\n",
       "      <td>(434) 676-2467</td>\n",
       "      <td>Lunenburg County Public Schools</td>\n",
       "      <td>5102310.0</td>\n",
       "      <td>1009 Main Street</td>\n",
       "      <td>NaN</td>\n",
       "      <td>NaN</td>\n",
       "      <td>Kenbridge</td>\n",
       "      <td>VA</td>\n",
       "      <td>23944.0</td>\n",
       "      <td>lunenburgcountyschools.org/</td>\n",
       "      <td>True</td>\n",
       "    </tr>\n",
       "    <tr>\n",
       "      <th>113</th>\n",
       "      <td>https://go.boarddocs.com/wa/pasd/Board.nsf/Public</td>\n",
       "      <td>Port Angeles School District</td>\n",
       "      <td>905 West 9th Street • Port Angeles, Washington...</td>\n",
       "      <td>portangelesschools.org</td>\n",
       "      <td>(360) 457-8575</td>\n",
       "      <td>Port Angeles School District</td>\n",
       "      <td>5306820.0</td>\n",
       "      <td>905 W 9TH ST</td>\n",
       "      <td>NaN</td>\n",
       "      <td>NaN</td>\n",
       "      <td>PORT ANGELES</td>\n",
       "      <td>WA</td>\n",
       "      <td>98363.0</td>\n",
       "      <td>NaN</td>\n",
       "      <td>True</td>\n",
       "    </tr>\n",
       "    <tr>\n",
       "      <th>171</th>\n",
       "      <td>https://go.boarddocs.com/pa/parkland/Board.nsf...</td>\n",
       "      <td>Parkland School District</td>\n",
       "      <td>1210 Springhouse Road • Allentown PA 18104 • P...</td>\n",
       "      <td>parklandsd.org</td>\n",
       "      <td>(610) 351-5503</td>\n",
       "      <td>Parkland SD</td>\n",
       "      <td>4218510.0</td>\n",
       "      <td>1210 Springhouse Rd</td>\n",
       "      <td>NaN</td>\n",
       "      <td>NaN</td>\n",
       "      <td>Allentown</td>\n",
       "      <td>PA</td>\n",
       "      <td>18104.0</td>\n",
       "      <td>parklandsd.org/</td>\n",
       "      <td>True</td>\n",
       "    </tr>\n",
       "  </tbody>\n",
       "</table>\n",
       "</div>"
      ],
      "text/plain": [
       "                                                   URL  \\\n",
       "531  https://go.boarddocs.com/ny/gcsny/Board.nsf/Pu...   \n",
       "755  https://go.boarddocs.com/oh/tcsoh/Board.nsf/Pu...   \n",
       "528  https://go.boarddocs.com/vsba/lunenburg/Board....   \n",
       "113  https://go.boarddocs.com/wa/pasd/Board.nsf/Public   \n",
       "171  https://go.boarddocs.com/pa/parkland/Board.nsf...   \n",
       "\n",
       "                     school_district  \\\n",
       "531   Goshen Central School District   \n",
       "755   Tallmadge City School District   \n",
       "528  Lunenburg County Public Schools   \n",
       "113     Port Angeles School District   \n",
       "171         Parkland School District   \n",
       "\n",
       "                                               address  \\\n",
       "531  227 Main Street Goshen, NY 10924 | (845) 615-6720   \n",
       "755  486 East Avenue  |  Tallmadge, OH 44278  |  Ph...   \n",
       "528  1009 Main St | Kenbridge, VA 23944 | 434.676.2...   \n",
       "113  905 West 9th Street • Port Angeles, Washington...   \n",
       "171  1210 Springhouse Road • Allentown PA 18104 • P...   \n",
       "\n",
       "                 home_website_x           phone  \\\n",
       "531                   gcsny.org  (845) 615-6720   \n",
       "755        tallmadgeschools.org  (330) 633-3291   \n",
       "528  lunenburgcountyschools.org  (434) 676-2467   \n",
       "113      portangelesschools.org  (360) 457-8575   \n",
       "171              parklandsd.org  (610) 351-5503   \n",
       "\n",
       "                            LEA_NAME      LEAID             LSTREET1 LSTREET2  \\\n",
       "531   GOSHEN CENTRAL SCHOOL DISTRICT  3612330.0          227 MAIN ST      NaN   \n",
       "755                   Tallmadge City  3904488.0         486 East Ave      NaN   \n",
       "528  Lunenburg County Public Schools  5102310.0     1009 Main Street      NaN   \n",
       "113     Port Angeles School District  5306820.0         905 W 9TH ST      NaN   \n",
       "171                      Parkland SD  4218510.0  1210 Springhouse Rd      NaN   \n",
       "\n",
       "    LSTREET3         LCITY LSTATE     LZIP               home_website_y  \\\n",
       "531      NaN        GOSHEN     NY  10924.0          goshenschoolsny.org   \n",
       "755      NaN     Tallmadge     OH  44278.0        tallmadgeschools.org/   \n",
       "528      NaN     Kenbridge     VA  23944.0  lunenburgcountyschools.org/   \n",
       "113      NaN  PORT ANGELES     WA  98363.0                          NaN   \n",
       "171      NaN     Allentown     PA  18104.0              parklandsd.org/   \n",
       "\n",
       "    phone_good_pattern  \n",
       "531               True  \n",
       "755               True  \n",
       "528               True  \n",
       "113               True  \n",
       "171               True  "
      ]
     },
     "execution_count": 124,
     "metadata": {},
     "output_type": "execute_result"
    }
   ],
   "source": [
    "df[~df[\"LEAID\"].isna()].sample(5)"
   ]
  },
  {
   "cell_type": "code",
   "execution_count": 125,
   "metadata": {},
   "outputs": [],
   "source": [
    "# this matched 42% of the remaining ones\n",
    "# add them to the match doc"
   ]
  }
 ],
 "metadata": {
  "kernelspec": {
   "display_name": "Python (cepr_schoolboard)",
   "language": "python",
   "name": "cepr_schoolboard"
  },
  "language_info": {
   "codemirror_mode": {
    "name": "ipython",
    "version": 3
   },
   "file_extension": ".py",
   "mimetype": "text/x-python",
   "name": "python",
   "nbconvert_exporter": "python",
   "pygments_lexer": "ipython3",
   "version": "3.13.1"
  }
 },
 "nbformat": 4,
 "nbformat_minor": 2
}
