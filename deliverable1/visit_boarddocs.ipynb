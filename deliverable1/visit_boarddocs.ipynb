{
 "cells": [
  {
   "cell_type": "markdown",
   "metadata": {},
   "source": [
    "This notebook visits the query URLs to get the two elements on BoardDocs that should correspond to school district name and address. A subset of 1k successful rows are included.\n",
    "\n",
    "Input\n",
    "- `boarddocs_url_cleaned.csv`\n",
    "\n",
    "Output\n",
    "- `sample_deliverable_1.csv`"
   ]
  },
  {
   "cell_type": "code",
   "execution_count": 148,
   "metadata": {},
   "outputs": [],
   "source": [
    "import pandas as pd\n",
    "import numpy as np\n",
    "\n",
    "input_filename = \"boarddocs_url_cleaned.csv\"\n",
    "boarddocs_df = pd.read_csv(input_filename)"
   ]
  },
  {
   "cell_type": "code",
   "execution_count": 149,
   "metadata": {},
   "outputs": [
    {
     "data": {
      "text/plain": [
       "'Number of unique URLs: 3906'"
      ]
     },
     "execution_count": 149,
     "metadata": {},
     "output_type": "execute_result"
    }
   ],
   "source": [
    "unique_urls = list(set(boarddocs_df[\"query_url\"]))\n",
    "f\"Number of unique URLs: {len(unique_urls)}\""
   ]
  },
  {
   "cell_type": "code",
   "execution_count": 150,
   "metadata": {},
   "outputs": [],
   "source": [
    "# optional filter if we want to test out the scraping\n",
    "# unique_urls = np.random.choice(unique_urls,size=(1),replace=False)"
   ]
  },
  {
   "cell_type": "code",
   "execution_count": 151,
   "metadata": {},
   "outputs": [],
   "source": [
    "import requests\n",
    "from bs4 import BeautifulSoup\n",
    "\n",
    "def get_site_titles(url, timeout=10):\n",
    "    try:\n",
    "        # Add a timeout to the request\n",
    "        response = requests.get(url, timeout=timeout)\n",
    "\n",
    "        # Check if the response status code is 200 (OK)\n",
    "        if response.status_code == 200:\n",
    "            soup = BeautifulSoup(response.content, 'html.parser')\n",
    "            # Extract the site titles\n",
    "            site_title1 = soup.find(id='SiteTitle1')\n",
    "            site_title2 = soup.find(id='SiteTitle2')\n",
    "            navigation_link = soup.find(id='btn-home-nav')\n",
    "            return (\n",
    "                site_title1.text if site_title1 else None,\n",
    "                site_title2.text if site_title2 else None,\n",
    "                navigation_link.get(\"href\") if navigation_link else None,\n",
    "            )\n",
    "        else:\n",
    "            # Handle non-200 responses\n",
    "            return None, None, None\n",
    "    except requests.exceptions.Timeout:\n",
    "        # Handle timeout specifically\n",
    "        print(f\"Timeout occurred while fetching {url}\")\n",
    "        return None, None, None\n",
    "    except requests.exceptions.RequestException as e:\n",
    "        # Handle other request exceptions\n",
    "        print(f\"Error occurred while fetching {url}: {e}\")\n",
    "        return None, None, None"
   ]
  },
  {
   "cell_type": "code",
   "execution_count": 152,
   "metadata": {},
   "outputs": [
    {
     "name": "stderr",
     "output_type": "stream",
     "text": [
      " 33%|███▎      | 1293/3906 [01:38<03:04, 14.17it/s]"
     ]
    },
    {
     "name": "stdout",
     "output_type": "stream",
     "text": [
      "Timeout occurred while fetching https://go.boarddocs.com/ca/yccd/Board.nsf/Public\n"
     ]
    },
    {
     "name": "stderr",
     "output_type": "stream",
     "text": [
      " 34%|███▍      | 1319/3906 [01:41<03:10, 13.61it/s]"
     ]
    },
    {
     "name": "stdout",
     "output_type": "stream",
     "text": [
      "Timeout occurred while fetching https://go.boarddocs.com/ca/pasadena/Board.nsf/Public\n"
     ]
    },
    {
     "name": "stderr",
     "output_type": "stream",
     "text": [
      " 86%|████████▌ | 3364/3906 [04:20<00:46, 11.58it/s]"
     ]
    },
    {
     "name": "stdout",
     "output_type": "stream",
     "text": [
      "Timeout occurred while fetching https://go.boarddocs.com/ca/scccd/Board.nsf/Public\n"
     ]
    },
    {
     "name": "stderr",
     "output_type": "stream",
     "text": [
      " 91%|█████████ | 3556/3906 [04:37<00:27, 12.82it/s]"
     ]
    },
    {
     "name": "stdout",
     "output_type": "stream",
     "text": [
      "Error occurred while fetching nan: Invalid URL 'nan': No scheme supplied. Perhaps you meant https://nan?\n"
     ]
    },
    {
     "name": "stderr",
     "output_type": "stream",
     "text": [
      " 99%|█████████▉| 3862/3906 [05:03<00:04,  9.56it/s]"
     ]
    },
    {
     "name": "stdout",
     "output_type": "stream",
     "text": [
      "Timeout occurred while fetching https://go.boarddocs.com/ca/vcccd/Board.nsf/Public\n"
     ]
    },
    {
     "name": "stderr",
     "output_type": "stream",
     "text": [
      "100%|██████████| 3906/3906 [05:13<00:00, 12.47it/s]\n"
     ]
    }
   ],
   "source": [
    "from concurrent.futures import ThreadPoolExecutor, as_completed\n",
    "from tqdm import tqdm\n",
    "\n",
    "# Function to fetch site titles for a given URL\n",
    "def fetch_site_titles(url):\n",
    "    return url, get_site_titles(url)\n",
    "\n",
    "# Store the results in a dict\n",
    "results = dict()\n",
    "with ThreadPoolExecutor(max_workers=10) as executor:\n",
    "    future_to_url = {executor.submit(fetch_site_titles, url): url for url in unique_urls}\n",
    "    for future in tqdm(as_completed(future_to_url), total=len(unique_urls)):\n",
    "        url, titles = future.result()\n",
    "        results[url] = titles\n"
   ]
  },
  {
   "cell_type": "code",
   "execution_count": 153,
   "metadata": {},
   "outputs": [
    {
     "data": {
      "text/plain": [
       "[('https://go.boarddocs.com/mi/sjs/Board.nsf/Public',\n",
       "  ('Board Policies and Guidelines',\n",
       "   'St. Joseph Public Schools',\n",
       "   'https://www.sjschools.org/')),\n",
       " ('https://go.boarddocs.com/pa/cali/Board.nsf/Public',\n",
       "  ('School Board Policy Manual', '', 'www.calsd.org')),\n",
       " ('https://go.boarddocs.com/oh/mapleheights/Board.nsf/Public',\n",
       "  ('Maple Heights City Schools',\n",
       "   '5740 Lawn Avenue | Maple Heights, OH 44137 | 216-587-6100',\n",
       "   'http://www.mapleschools.com')),\n",
       " ('https://go.boarddocs.com/oh/rlsd/Board.nsf/Public',\n",
       "  ('585 Riverside Drive | Painesville, Ohio 44077 | 440.352.0668 | f 440.639.1959',\n",
       "   'Riverside Local School District ',\n",
       "   'https://www.riversidelocalschools.com/')),\n",
       " ('https://go.boarddocs.com/pa/shun/Board.nsf/Public',\n",
       "  ('School Board Policy Manual',\n",
       "   'Southern Huntingdon County School District',\n",
       "   'http://www.shcsd.org'))]"
      ]
     },
     "execution_count": 153,
     "metadata": {},
     "output_type": "execute_result"
    }
   ],
   "source": [
    "# inspect the results\n",
    "list(results.items())[:5]"
   ]
  },
  {
   "cell_type": "code",
   "execution_count": 154,
   "metadata": {},
   "outputs": [
    {
     "data": {
      "text/plain": [
       "3906"
      ]
     },
     "execution_count": 154,
     "metadata": {},
     "output_type": "execute_result"
    }
   ],
   "source": [
    "len(results)"
   ]
  },
  {
   "cell_type": "code",
   "execution_count": 169,
   "metadata": {},
   "outputs": [
    {
     "name": "stderr",
     "output_type": "stream",
     "text": [
      " 62%|██████▎   | 5/8 [00:38<00:28,  9.40s/it]"
     ]
    },
    {
     "name": "stdout",
     "output_type": "stream",
     "text": [
      "Error occurred while fetching nan: Invalid URL 'nan': No scheme supplied. Perhaps you meant https://nan?\n"
     ]
    },
    {
     "name": "stderr",
     "output_type": "stream",
     "text": [
      "100%|██████████| 8/8 [00:52<00:00,  6.53s/it]\n"
     ]
    }
   ],
   "source": [
    "# rerun for those with errors\n",
    "# keep rerunning this cell until there are no more timeouts\n",
    "# feel free to change the timeout\n",
    "\n",
    "error_urls = [url for url, result in results.items() if result == (None, None, None)]\n",
    "for url in tqdm(error_urls):\n",
    "    results[url] = get_site_titles(url, timeout=40)"
   ]
  },
  {
   "cell_type": "code",
   "execution_count": 170,
   "metadata": {},
   "outputs": [
    {
     "data": {
      "text/plain": [
       "['https://go.boarddocs.com/il/tfd215/Board.nsf/Public',\n",
       " 'https://go.boarddocs.com/mi/oxf/Board.nsf/Public',\n",
       " nan,\n",
       " 'https://go.boarddocs.com/mi/wpas/Board.nsf/Public']"
      ]
     },
     "execution_count": 170,
     "metadata": {},
     "output_type": "execute_result"
    }
   ],
   "source": [
    "error_urls = [url for url, result in results.items() if result == (None, None, None)]\n",
    "error_urls"
   ]
  },
  {
   "cell_type": "code",
   "execution_count": 171,
   "metadata": {},
   "outputs": [
    {
     "name": "stdout",
     "output_type": "stream",
     "text": [
      "404 https://go.boarddocs.com/il/tfd215/Board.nsf/Public\n",
      "404 https://go.boarddocs.com/mi/oxf/Board.nsf/Public\n",
      "Invalid URL 'nan': No scheme supplied. Perhaps you meant https://nan? nan\n",
      "404 https://go.boarddocs.com/mi/wpas/Board.nsf/Public\n"
     ]
    }
   ],
   "source": [
    "for url in error_urls:\n",
    "    try:\n",
    "        response = requests.get(url)\n",
    "        print(f\"{response.status_code} {url}\")\n",
    "    except Exception as e:\n",
    "        print(f\"{e} {url}\")"
   ]
  },
  {
   "cell_type": "code",
   "execution_count": 172,
   "metadata": {},
   "outputs": [
    {
     "data": {
      "text/plain": [
       "True"
      ]
     },
     "execution_count": 172,
     "metadata": {},
     "output_type": "execute_result"
    }
   ],
   "source": [
    "# I have looked into searching the original query url using \"boarddocs\" on google\n",
    "# it does appear that these 404 links are being returned in the Google search\n",
    "# except for il tfd 215\n",
    "# the query string returned this instead \"https://go.boarddocs.com/co/adams12/Board.nsf/Public\"\n",
    "# Original data\n",
    "# Thornton School District\n",
    "# NEW HAMPSHIRE\n",
    "# but regardless, both are wrong data\n",
    "# and the url is already pointed to by some other school\n",
    "\n",
    "\"https://go.boarddocs.com/co/adams12/Board.nsf/Public\" in unique_urls"
   ]
  },
  {
   "cell_type": "code",
   "execution_count": 174,
   "metadata": {},
   "outputs": [
    {
     "data": {
      "text/html": [
       "<div>\n",
       "<style scoped>\n",
       "    .dataframe tbody tr th:only-of-type {\n",
       "        vertical-align: middle;\n",
       "    }\n",
       "\n",
       "    .dataframe tbody tr th {\n",
       "        vertical-align: top;\n",
       "    }\n",
       "\n",
       "    .dataframe thead th {\n",
       "        text-align: right;\n",
       "    }\n",
       "</style>\n",
       "<table border=\"1\" class=\"dataframe\">\n",
       "  <thead>\n",
       "    <tr style=\"text-align: right;\">\n",
       "      <th></th>\n",
       "      <th>URL</th>\n",
       "      <th>title_1</th>\n",
       "      <th>title_2</th>\n",
       "      <th>home_website</th>\n",
       "    </tr>\n",
       "  </thead>\n",
       "  <tbody>\n",
       "    <tr>\n",
       "      <th>0</th>\n",
       "      <td>https://go.boarddocs.com/mi/sjs/Board.nsf/Public</td>\n",
       "      <td>Board Policies and Guidelines</td>\n",
       "      <td>St. Joseph Public Schools</td>\n",
       "      <td>https://www.sjschools.org/</td>\n",
       "    </tr>\n",
       "    <tr>\n",
       "      <th>1</th>\n",
       "      <td>https://go.boarddocs.com/pa/cali/Board.nsf/Public</td>\n",
       "      <td>School Board Policy Manual</td>\n",
       "      <td></td>\n",
       "      <td>www.calsd.org</td>\n",
       "    </tr>\n",
       "    <tr>\n",
       "      <th>2</th>\n",
       "      <td>https://go.boarddocs.com/oh/mapleheights/Board...</td>\n",
       "      <td>Maple Heights City Schools</td>\n",
       "      <td>5740 Lawn Avenue | Maple Heights, OH 44137 | 2...</td>\n",
       "      <td>http://www.mapleschools.com</td>\n",
       "    </tr>\n",
       "    <tr>\n",
       "      <th>3</th>\n",
       "      <td>https://go.boarddocs.com/oh/rlsd/Board.nsf/Public</td>\n",
       "      <td>585 Riverside Drive | Painesville, Ohio 44077 ...</td>\n",
       "      <td>Riverside Local School District</td>\n",
       "      <td>https://www.riversidelocalschools.com/</td>\n",
       "    </tr>\n",
       "    <tr>\n",
       "      <th>4</th>\n",
       "      <td>https://go.boarddocs.com/pa/shun/Board.nsf/Public</td>\n",
       "      <td>School Board Policy Manual</td>\n",
       "      <td>Southern Huntingdon County School District</td>\n",
       "      <td>http://www.shcsd.org</td>\n",
       "    </tr>\n",
       "  </tbody>\n",
       "</table>\n",
       "</div>"
      ],
      "text/plain": [
       "                                                 URL  \\\n",
       "0   https://go.boarddocs.com/mi/sjs/Board.nsf/Public   \n",
       "1  https://go.boarddocs.com/pa/cali/Board.nsf/Public   \n",
       "2  https://go.boarddocs.com/oh/mapleheights/Board...   \n",
       "3  https://go.boarddocs.com/oh/rlsd/Board.nsf/Public   \n",
       "4  https://go.boarddocs.com/pa/shun/Board.nsf/Public   \n",
       "\n",
       "                                             title_1  \\\n",
       "0                      Board Policies and Guidelines   \n",
       "1                         School Board Policy Manual   \n",
       "2                         Maple Heights City Schools   \n",
       "3  585 Riverside Drive | Painesville, Ohio 44077 ...   \n",
       "4                         School Board Policy Manual   \n",
       "\n",
       "                                             title_2  \\\n",
       "0                          St. Joseph Public Schools   \n",
       "1                                                      \n",
       "2  5740 Lawn Avenue | Maple Heights, OH 44137 | 2...   \n",
       "3                   Riverside Local School District    \n",
       "4         Southern Huntingdon County School District   \n",
       "\n",
       "                             home_website  \n",
       "0              https://www.sjschools.org/  \n",
       "1                           www.calsd.org  \n",
       "2             http://www.mapleschools.com  \n",
       "3  https://www.riversidelocalschools.com/  \n",
       "4                    http://www.shcsd.org  "
      ]
     },
     "execution_count": 174,
     "metadata": {},
     "output_type": "execute_result"
    }
   ],
   "source": [
    "# create a sample for Tom first\n",
    "# get those with postcodes\n",
    "\n",
    "# Create a DataFrame from the results dictionary\n",
    "results_df = pd.DataFrame.from_dict(results, orient='index', columns=['title_1', 'title_2', 'home_website']).reset_index()\n",
    "results_df.rename(columns={'index': 'URL'}, inplace=True)\n",
    "results_df.head()"
   ]
  },
  {
   "cell_type": "code",
   "execution_count": 175,
   "metadata": {},
   "outputs": [],
   "source": [
    "# save all the results from scrapping\n",
    "results_df.to_csv('prelim_results.csv', index=False)"
   ]
  },
  {
   "cell_type": "code",
   "execution_count": 176,
   "metadata": {},
   "outputs": [
    {
     "data": {
      "text/plain": [
       "(np.int64(1440), np.int64(1442))"
      ]
     },
     "execution_count": 176,
     "metadata": {},
     "output_type": "execute_result"
    }
   ],
   "source": [
    "# Define a regex pattern to match a 5-digit zip code\n",
    "zip_code_pattern = r'\\b\\d{5}\\b'\n",
    "\n",
    "# Find rows where title_1 has a 5-digit zip code\n",
    "title1_zip_count = results_df['title_1'].str.contains(zip_code_pattern, na=False).sum()\n",
    "\n",
    "# Find rows where title_2 has a 5-digit zip code\n",
    "title2_zip_count = results_df['title_2'].str.contains(zip_code_pattern, na=False).sum()\n",
    "\n",
    "title1_zip_count, title2_zip_count"
   ]
  },
  {
   "cell_type": "code",
   "execution_count": 177,
   "metadata": {},
   "outputs": [
    {
     "data": {
      "text/html": [
       "<div>\n",
       "<style scoped>\n",
       "    .dataframe tbody tr th:only-of-type {\n",
       "        vertical-align: middle;\n",
       "    }\n",
       "\n",
       "    .dataframe tbody tr th {\n",
       "        vertical-align: top;\n",
       "    }\n",
       "\n",
       "    .dataframe thead th {\n",
       "        text-align: right;\n",
       "    }\n",
       "</style>\n",
       "<table border=\"1\" class=\"dataframe\">\n",
       "  <thead>\n",
       "    <tr style=\"text-align: right;\">\n",
       "      <th></th>\n",
       "      <th>URL</th>\n",
       "      <th>title_1</th>\n",
       "      <th>title_2</th>\n",
       "      <th>home_website</th>\n",
       "    </tr>\n",
       "  </thead>\n",
       "  <tbody>\n",
       "    <tr>\n",
       "      <th>3</th>\n",
       "      <td>https://go.boarddocs.com/oh/rlsd/Board.nsf/Public</td>\n",
       "      <td>585 Riverside Drive | Painesville, Ohio 44077 ...</td>\n",
       "      <td>Riverside Local School District</td>\n",
       "      <td>https://www.riversidelocalschools.com/</td>\n",
       "    </tr>\n",
       "    <tr>\n",
       "      <th>5</th>\n",
       "      <td>https://go.boarddocs.com/de/sussexvt/Board.nsf...</td>\n",
       "      <td>17099 County Seat Hwy | Georgetown DE 19947 | ...</td>\n",
       "      <td>Sussex Technical School District</td>\n",
       "      <td>http://www.sussexvt.org</td>\n",
       "    </tr>\n",
       "    <tr>\n",
       "      <th>7</th>\n",
       "      <td>https://go.boarddocs.com/ca/mbusd/Board.nsf/Pu...</td>\n",
       "      <td>325 S. Peck Ave | Manhattan Beach, CA 90266 | ...</td>\n",
       "      <td>Manhattan Beach Unified School District</td>\n",
       "      <td>http://www.mbusd.org</td>\n",
       "    </tr>\n",
       "    <tr>\n",
       "      <th>12</th>\n",
       "      <td>https://go.boarddocs.com/oh/pcc/Board.nsf/Public</td>\n",
       "      <td>9301 Buck Rd. | Perrysburg, Ohio 43551 | High ...</td>\n",
       "      <td>Penta Career Center</td>\n",
       "      <td>http://www.pentacareercenter.org/</td>\n",
       "    </tr>\n",
       "    <tr>\n",
       "      <th>14</th>\n",
       "      <td>https://go.boarddocs.com/wa/msdwa/Board.nsf/Pu...</td>\n",
       "      <td>214 West Laurel Road | Bellingham, WA 98226 | ...</td>\n",
       "      <td>Meridian School District</td>\n",
       "      <td>http://www.meridian.wednet.edu/</td>\n",
       "    </tr>\n",
       "    <tr>\n",
       "      <th>...</th>\n",
       "      <td>...</td>\n",
       "      <td>...</td>\n",
       "      <td>...</td>\n",
       "      <td>...</td>\n",
       "    </tr>\n",
       "    <tr>\n",
       "      <th>3895</th>\n",
       "      <td>https://go.boarddocs.com/pa/iu05/Board.nsf/Public</td>\n",
       "      <td>252 Waterford St. | Edinboro, PA  16412 | (814...</td>\n",
       "      <td>Northwest Tri-County Intermediate Unit 5</td>\n",
       "      <td>http://www.iu5.org/</td>\n",
       "    </tr>\n",
       "    <tr>\n",
       "      <th>3896</th>\n",
       "      <td>https://go.boarddocs.com/oh/mevs/Board.nsf/Public</td>\n",
       "      <td>212 Chestnut Street, Marysville, Ohio 43040 | ...</td>\n",
       "      <td>Marysville Exempted Village Schools</td>\n",
       "      <td>http://www.marysville.k12.oh.us/site/</td>\n",
       "    </tr>\n",
       "    <tr>\n",
       "      <th>3897</th>\n",
       "      <td>https://go.boarddocs.com/co/jeffco/Board.nsf/P...</td>\n",
       "      <td>1829 Denver West Drive | Golden. CO 80401 | (3...</td>\n",
       "      <td>Jeffco Public Schools Board of Education</td>\n",
       "      <td>http://www.jeffcopublicschools.org/</td>\n",
       "    </tr>\n",
       "    <tr>\n",
       "      <th>3902</th>\n",
       "      <td>https://go.boarddocs.com/il/cowil/Board.nsf/Pu...</td>\n",
       "      <td>100 N. Martin Luther King Jr. Ave. | Waukegan,...</td>\n",
       "      <td>City of Waukegan</td>\n",
       "      <td>http://www.waukeganil.gov/</td>\n",
       "    </tr>\n",
       "    <tr>\n",
       "      <th>3904</th>\n",
       "      <td>https://go.boarddocs.com/md/stmarysco/Board.ns...</td>\n",
       "      <td>41770 Baldridge Street | Leonardtown, MD 20650...</td>\n",
       "      <td>St. Mary's County, Maryland</td>\n",
       "      <td>http://www.stmarysmd.com</td>\n",
       "    </tr>\n",
       "  </tbody>\n",
       "</table>\n",
       "<p>1440 rows × 4 columns</p>\n",
       "</div>"
      ],
      "text/plain": [
       "                                                    URL  \\\n",
       "3     https://go.boarddocs.com/oh/rlsd/Board.nsf/Public   \n",
       "5     https://go.boarddocs.com/de/sussexvt/Board.nsf...   \n",
       "7     https://go.boarddocs.com/ca/mbusd/Board.nsf/Pu...   \n",
       "12     https://go.boarddocs.com/oh/pcc/Board.nsf/Public   \n",
       "14    https://go.boarddocs.com/wa/msdwa/Board.nsf/Pu...   \n",
       "...                                                 ...   \n",
       "3895  https://go.boarddocs.com/pa/iu05/Board.nsf/Public   \n",
       "3896  https://go.boarddocs.com/oh/mevs/Board.nsf/Public   \n",
       "3897  https://go.boarddocs.com/co/jeffco/Board.nsf/P...   \n",
       "3902  https://go.boarddocs.com/il/cowil/Board.nsf/Pu...   \n",
       "3904  https://go.boarddocs.com/md/stmarysco/Board.ns...   \n",
       "\n",
       "                                                title_1  \\\n",
       "3     585 Riverside Drive | Painesville, Ohio 44077 ...   \n",
       "5     17099 County Seat Hwy | Georgetown DE 19947 | ...   \n",
       "7     325 S. Peck Ave | Manhattan Beach, CA 90266 | ...   \n",
       "12    9301 Buck Rd. | Perrysburg, Ohio 43551 | High ...   \n",
       "14    214 West Laurel Road | Bellingham, WA 98226 | ...   \n",
       "...                                                 ...   \n",
       "3895  252 Waterford St. | Edinboro, PA  16412 | (814...   \n",
       "3896  212 Chestnut Street, Marysville, Ohio 43040 | ...   \n",
       "3897  1829 Denver West Drive | Golden. CO 80401 | (3...   \n",
       "3902  100 N. Martin Luther King Jr. Ave. | Waukegan,...   \n",
       "3904  41770 Baldridge Street | Leonardtown, MD 20650...   \n",
       "\n",
       "                                       title_2  \\\n",
       "3             Riverside Local School District    \n",
       "5             Sussex Technical School District   \n",
       "7      Manhattan Beach Unified School District   \n",
       "12                         Penta Career Center   \n",
       "14                    Meridian School District   \n",
       "...                                        ...   \n",
       "3895  Northwest Tri-County Intermediate Unit 5   \n",
       "3896      Marysville Exempted Village Schools    \n",
       "3897  Jeffco Public Schools Board of Education   \n",
       "3902                          City of Waukegan   \n",
       "3904               St. Mary's County, Maryland   \n",
       "\n",
       "                                home_website  \n",
       "3     https://www.riversidelocalschools.com/  \n",
       "5                    http://www.sussexvt.org  \n",
       "7                       http://www.mbusd.org  \n",
       "12         http://www.pentacareercenter.org/  \n",
       "14           http://www.meridian.wednet.edu/  \n",
       "...                                      ...  \n",
       "3895                     http://www.iu5.org/  \n",
       "3896   http://www.marysville.k12.oh.us/site/  \n",
       "3897     http://www.jeffcopublicschools.org/  \n",
       "3902              http://www.waukeganil.gov/  \n",
       "3904                http://www.stmarysmd.com  \n",
       "\n",
       "[1440 rows x 4 columns]"
      ]
     },
     "execution_count": 177,
     "metadata": {},
     "output_type": "execute_result"
    }
   ],
   "source": [
    "# Filter rows where title_1 has a 5-digit zip code\n",
    "rows_with_zip_in_title1 = results_df[results_df['title_1'].str.contains(zip_code_pattern, na=False)]\n",
    "rows_with_zip_in_title1"
   ]
  },
  {
   "cell_type": "code",
   "execution_count": 178,
   "metadata": {},
   "outputs": [
    {
     "name": "stderr",
     "output_type": "stream",
     "text": [
      "/var/folders/cp/kz443md17ndf52c8_802gy080000gn/T/ipykernel_9567/663702229.py:1: SettingWithCopyWarning: \n",
      "A value is trying to be set on a copy of a slice from a DataFrame\n",
      "\n",
      "See the caveats in the documentation: https://pandas.pydata.org/pandas-docs/stable/user_guide/indexing.html#returning-a-view-versus-a-copy\n",
      "  rows_with_zip_in_title1.rename(columns={'title_1': 'address', 'title_2': 'school_district'}, inplace=True)\n"
     ]
    },
    {
     "data": {
      "text/html": [
       "<div>\n",
       "<style scoped>\n",
       "    .dataframe tbody tr th:only-of-type {\n",
       "        vertical-align: middle;\n",
       "    }\n",
       "\n",
       "    .dataframe tbody tr th {\n",
       "        vertical-align: top;\n",
       "    }\n",
       "\n",
       "    .dataframe thead th {\n",
       "        text-align: right;\n",
       "    }\n",
       "</style>\n",
       "<table border=\"1\" class=\"dataframe\">\n",
       "  <thead>\n",
       "    <tr style=\"text-align: right;\">\n",
       "      <th></th>\n",
       "      <th>URL</th>\n",
       "      <th>address</th>\n",
       "      <th>school_district</th>\n",
       "      <th>home_website</th>\n",
       "    </tr>\n",
       "  </thead>\n",
       "  <tbody>\n",
       "    <tr>\n",
       "      <th>3</th>\n",
       "      <td>https://go.boarddocs.com/oh/rlsd/Board.nsf/Public</td>\n",
       "      <td>585 Riverside Drive | Painesville, Ohio 44077 ...</td>\n",
       "      <td>Riverside Local School District</td>\n",
       "      <td>https://www.riversidelocalschools.com/</td>\n",
       "    </tr>\n",
       "    <tr>\n",
       "      <th>5</th>\n",
       "      <td>https://go.boarddocs.com/de/sussexvt/Board.nsf...</td>\n",
       "      <td>17099 County Seat Hwy | Georgetown DE 19947 | ...</td>\n",
       "      <td>Sussex Technical School District</td>\n",
       "      <td>http://www.sussexvt.org</td>\n",
       "    </tr>\n",
       "    <tr>\n",
       "      <th>7</th>\n",
       "      <td>https://go.boarddocs.com/ca/mbusd/Board.nsf/Pu...</td>\n",
       "      <td>325 S. Peck Ave | Manhattan Beach, CA 90266 | ...</td>\n",
       "      <td>Manhattan Beach Unified School District</td>\n",
       "      <td>http://www.mbusd.org</td>\n",
       "    </tr>\n",
       "    <tr>\n",
       "      <th>12</th>\n",
       "      <td>https://go.boarddocs.com/oh/pcc/Board.nsf/Public</td>\n",
       "      <td>9301 Buck Rd. | Perrysburg, Ohio 43551 | High ...</td>\n",
       "      <td>Penta Career Center</td>\n",
       "      <td>http://www.pentacareercenter.org/</td>\n",
       "    </tr>\n",
       "    <tr>\n",
       "      <th>14</th>\n",
       "      <td>https://go.boarddocs.com/wa/msdwa/Board.nsf/Pu...</td>\n",
       "      <td>214 West Laurel Road | Bellingham, WA 98226 | ...</td>\n",
       "      <td>Meridian School District</td>\n",
       "      <td>http://www.meridian.wednet.edu/</td>\n",
       "    </tr>\n",
       "  </tbody>\n",
       "</table>\n",
       "</div>"
      ],
      "text/plain": [
       "                                                  URL  \\\n",
       "3   https://go.boarddocs.com/oh/rlsd/Board.nsf/Public   \n",
       "5   https://go.boarddocs.com/de/sussexvt/Board.nsf...   \n",
       "7   https://go.boarddocs.com/ca/mbusd/Board.nsf/Pu...   \n",
       "12   https://go.boarddocs.com/oh/pcc/Board.nsf/Public   \n",
       "14  https://go.boarddocs.com/wa/msdwa/Board.nsf/Pu...   \n",
       "\n",
       "                                              address  \\\n",
       "3   585 Riverside Drive | Painesville, Ohio 44077 ...   \n",
       "5   17099 County Seat Hwy | Georgetown DE 19947 | ...   \n",
       "7   325 S. Peck Ave | Manhattan Beach, CA 90266 | ...   \n",
       "12  9301 Buck Rd. | Perrysburg, Ohio 43551 | High ...   \n",
       "14  214 West Laurel Road | Bellingham, WA 98226 | ...   \n",
       "\n",
       "                            school_district  \\\n",
       "3          Riverside Local School District    \n",
       "5          Sussex Technical School District   \n",
       "7   Manhattan Beach Unified School District   \n",
       "12                      Penta Career Center   \n",
       "14                 Meridian School District   \n",
       "\n",
       "                              home_website  \n",
       "3   https://www.riversidelocalschools.com/  \n",
       "5                  http://www.sussexvt.org  \n",
       "7                     http://www.mbusd.org  \n",
       "12       http://www.pentacareercenter.org/  \n",
       "14         http://www.meridian.wednet.edu/  "
      ]
     },
     "execution_count": 178,
     "metadata": {},
     "output_type": "execute_result"
    }
   ],
   "source": [
    "rows_with_zip_in_title1.rename(columns={'title_1': 'address', 'title_2': 'school_district'}, inplace=True)\n",
    "rows_with_zip_in_title1.head()"
   ]
  },
  {
   "cell_type": "code",
   "execution_count": 179,
   "metadata": {},
   "outputs": [
    {
     "data": {
      "text/plain": [
       "(1440, 4)"
      ]
     },
     "execution_count": 179,
     "metadata": {},
     "output_type": "execute_result"
    }
   ],
   "source": [
    "rows_with_zip_in_title1.shape"
   ]
  },
  {
   "cell_type": "code",
   "execution_count": 180,
   "metadata": {},
   "outputs": [],
   "source": [
    "rows_with_zip_in_title1 = rows_with_zip_in_title1.head(1000)"
   ]
  },
  {
   "cell_type": "code",
   "execution_count": 181,
   "metadata": {},
   "outputs": [
    {
     "data": {
      "text/plain": [
       "(1000, 4)"
      ]
     },
     "execution_count": 181,
     "metadata": {},
     "output_type": "execute_result"
    }
   ],
   "source": [
    "rows_with_zip_in_title1.shape"
   ]
  },
  {
   "cell_type": "code",
   "execution_count": 182,
   "metadata": {},
   "outputs": [],
   "source": [
    "rows_with_zip_in_title1.to_csv(\"sample_deliverable_1.csv\", index=False)"
   ]
  }
 ],
 "metadata": {
  "kernelspec": {
   "display_name": "Python (cepr_schoolboard)",
   "language": "python",
   "name": "cepr_schoolboard"
  },
  "language_info": {
   "codemirror_mode": {
    "name": "ipython",
    "version": 3
   },
   "file_extension": ".py",
   "mimetype": "text/x-python",
   "name": "python",
   "nbconvert_exporter": "python",
   "pygments_lexer": "ipython3",
   "version": "3.13.1"
  }
 },
 "nbformat": 4,
 "nbformat_minor": 2
}
