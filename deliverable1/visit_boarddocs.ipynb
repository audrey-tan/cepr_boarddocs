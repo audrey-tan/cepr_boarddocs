{
 "cells": [
  {
   "cell_type": "markdown",
   "metadata": {},
   "source": [
    "This notebook visits the query URLs to get the two elements on BoardDocs that should correspond to school district name and address. A subset of 1k successful rows are included.\n",
    "\n",
    "Input\n",
    "- `boarddocs_url_cleaned.csv`\n",
    "\n",
    "Output\n",
    "- `sample_deliverable_1.csv`"
   ]
  },
  {
   "cell_type": "code",
   "execution_count": 18,
   "metadata": {},
   "outputs": [],
   "source": [
    "import pandas as pd\n",
    "\n",
    "input_filename = \"boarddocs_url_cleaned.csv\"\n",
    "boarddocs_df = pd.read_csv(input_filename)"
   ]
  },
  {
   "cell_type": "code",
   "execution_count": 19,
   "metadata": {},
   "outputs": [
    {
     "data": {
      "text/plain": [
       "'Number of unique URLs: 3523'"
      ]
     },
     "execution_count": 19,
     "metadata": {},
     "output_type": "execute_result"
    }
   ],
   "source": [
    "unique_urls = list(set(boarddocs_df[\"query_url\"]))\n",
    "f\"Number of unique URLs: {len(unique_urls)}\""
   ]
  },
  {
   "cell_type": "code",
   "execution_count": 20,
   "metadata": {},
   "outputs": [],
   "source": [
    "import requests\n",
    "from bs4 import BeautifulSoup\n",
    "\n",
    "def get_site_titles(url, timeout=10):\n",
    "    try:\n",
    "        # Add a timeout to the request\n",
    "        response = requests.get(url, timeout=timeout)\n",
    "\n",
    "        # Check if the response status code is 200 (OK)\n",
    "        if response.status_code == 200:\n",
    "            soup = BeautifulSoup(response.content, 'html.parser')\n",
    "            # Extract the site titles\n",
    "            site_title1 = soup.find(id='SiteTitle1')\n",
    "            site_title2 = soup.find(id='SiteTitle2')\n",
    "            return (\n",
    "                site_title1.text if site_title1 else None,\n",
    "                site_title2.text if site_title2 else None\n",
    "            )\n",
    "        else:\n",
    "            # Handle non-200 responses\n",
    "            return None, None\n",
    "    except requests.exceptions.Timeout:\n",
    "        # Handle timeout specifically\n",
    "        print(f\"Timeout occurred while fetching {url}\")\n",
    "        return None, None\n",
    "    except requests.exceptions.RequestException as e:\n",
    "        # Handle other request exceptions\n",
    "        print(f\"Error occurred while fetching {url}: {e}\")\n",
    "        return None, None"
   ]
  },
  {
   "cell_type": "code",
   "execution_count": 21,
   "metadata": {},
   "outputs": [
    {
     "name": "stderr",
     "output_type": "stream",
     "text": [
      "  4%|▍         | 134/3523 [00:09<04:54, 11.50it/s]"
     ]
    },
    {
     "name": "stdout",
     "output_type": "stream",
     "text": [
      "Error occurred while fetching nan: Invalid URL 'nan': No scheme supplied. Perhaps you meant https://nan?\n"
     ]
    },
    {
     "name": "stderr",
     "output_type": "stream",
     "text": [
      " 46%|████▌     | 1619/3523 [01:58<02:17, 13.84it/s]"
     ]
    },
    {
     "name": "stdout",
     "output_type": "stream",
     "text": [
      "Timeout occurred while fetching https://go.boarddocs.com/ca/cabrillo/Board.nsf/Public\n"
     ]
    },
    {
     "name": "stderr",
     "output_type": "stream",
     "text": [
      " 52%|█████▏    | 1834/3523 [02:14<02:25, 11.64it/s]"
     ]
    },
    {
     "name": "stdout",
     "output_type": "stream",
     "text": [
      "Timeout occurred while fetching https://go.boarddocs.com/ca/yccd/Board.nsf/Public\n"
     ]
    },
    {
     "name": "stderr",
     "output_type": "stream",
     "text": [
      " 55%|█████▍    | 1937/3523 [02:24<01:57, 13.53it/s]"
     ]
    },
    {
     "name": "stdout",
     "output_type": "stream",
     "text": [
      "Timeout occurred while fetching https://go.boarddocs.com/ca/gjccd/Board.nsf/Public\n"
     ]
    },
    {
     "name": "stderr",
     "output_type": "stream",
     "text": [
      " 55%|█████▌    | 1955/3523 [02:28<05:48,  4.50it/s]"
     ]
    },
    {
     "name": "stdout",
     "output_type": "stream",
     "text": [
      "Timeout occurred while fetching https://go.boarddocs.com/ca/vcccd/Board.nsf/Public\n"
     ]
    },
    {
     "name": "stderr",
     "output_type": "stream",
     "text": [
      " 57%|█████▋    | 2023/3523 [02:34<01:55, 12.94it/s]"
     ]
    },
    {
     "name": "stdout",
     "output_type": "stream",
     "text": [
      "Timeout occurred while fetching https://go.boarddocs.com/ca/pasadena/Board.nsf/Public\n"
     ]
    },
    {
     "name": "stderr",
     "output_type": "stream",
     "text": [
      " 59%|█████▉    | 2071/3523 [02:41<02:15, 10.70it/s]"
     ]
    },
    {
     "name": "stdout",
     "output_type": "stream",
     "text": [
      "Timeout occurred while fetching https://go.boarddocs.com/ca/scccd/Board.nsf/Public\n"
     ]
    },
    {
     "name": "stderr",
     "output_type": "stream",
     "text": [
      " 77%|███████▋  | 2696/3523 [03:34<01:14, 11.07it/s]"
     ]
    },
    {
     "name": "stdout",
     "output_type": "stream",
     "text": [
      "Timeout occurred while fetching https://go.boarddocs.com/md/stmarysco/Board.nsf/Public\n"
     ]
    },
    {
     "name": "stderr",
     "output_type": "stream",
     "text": [
      "100%|██████████| 3523/3523 [04:47<00:00, 12.27it/s]\n"
     ]
    }
   ],
   "source": [
    "from concurrent.futures import ThreadPoolExecutor, as_completed\n",
    "from tqdm import tqdm\n",
    "\n",
    "# Function to fetch site titles for a given URL\n",
    "def fetch_site_titles(url):\n",
    "    return url, get_site_titles(url)\n",
    "\n",
    "# Store the results in a dict\n",
    "results = dict()\n",
    "with ThreadPoolExecutor(max_workers=10) as executor:\n",
    "    future_to_url = {executor.submit(fetch_site_titles, url): url for url in unique_urls}\n",
    "    for future in tqdm(as_completed(future_to_url), total=len(unique_urls)):\n",
    "        url, titles = future.result()\n",
    "        results[url] = titles\n"
   ]
  },
  {
   "cell_type": "code",
   "execution_count": 22,
   "metadata": {},
   "outputs": [
    {
     "data": {
      "text/plain": [
       "3523"
      ]
     },
     "execution_count": 22,
     "metadata": {},
     "output_type": "execute_result"
    }
   ],
   "source": [
    "len(results)"
   ]
  },
  {
   "cell_type": "code",
   "execution_count": 23,
   "metadata": {},
   "outputs": [
    {
     "name": "stderr",
     "output_type": "stream",
     "text": [
      " 27%|██▋       | 3/11 [00:00<00:00, 25.81it/s]"
     ]
    },
    {
     "name": "stdout",
     "output_type": "stream",
     "text": [
      "Error occurred while fetching nan: Invalid URL 'nan': No scheme supplied. Perhaps you meant https://nan?\n"
     ]
    },
    {
     "name": "stderr",
     "output_type": "stream",
     "text": [
      "100%|██████████| 11/11 [01:11<00:00,  6.46s/it]\n"
     ]
    }
   ],
   "source": [
    "# rerun for those with errors\n",
    "# keep rerunning this cell until there are no more timeouts\n",
    "# feel free to change the timeout\n",
    "\n",
    "error_urls = [url for url, result in results.items() if result == (None, None)]\n",
    "for url in tqdm(error_urls):\n",
    "    results[url] = get_site_titles(url, timeout=40)"
   ]
  },
  {
   "cell_type": "code",
   "execution_count": 24,
   "metadata": {},
   "outputs": [
    {
     "data": {
      "text/plain": [
       "[nan,\n",
       " 'https://go.boarddocs.com/mi/wpas/Board.nsf/Public',\n",
       " 'https://go.boarddocs.com/il/tfd215/Board.nsf/Public',\n",
       " 'https://go.boarddocs.com/mi/oxf/Board.nsf/Public']"
      ]
     },
     "execution_count": 24,
     "metadata": {},
     "output_type": "execute_result"
    }
   ],
   "source": [
    "error_urls = [url for url, result in results.items() if result == (None, None)]\n",
    "error_urls"
   ]
  },
  {
   "cell_type": "code",
   "execution_count": 27,
   "metadata": {},
   "outputs": [
    {
     "name": "stdout",
     "output_type": "stream",
     "text": [
      "Invalid URL 'nan': No scheme supplied. Perhaps you meant https://nan? nan\n",
      "404 https://go.boarddocs.com/mi/wpas/Board.nsf/Public\n",
      "404 https://go.boarddocs.com/il/tfd215/Board.nsf/Public\n",
      "404 https://go.boarddocs.com/mi/oxf/Board.nsf/Public\n"
     ]
    }
   ],
   "source": [
    "for url in error_urls:\n",
    "    try:\n",
    "        response = requests.get(url)\n",
    "        print(f\"{response.status_code} {url}\")\n",
    "    except Exception as e:\n",
    "        print(f\"{e} {url}\")"
   ]
  },
  {
   "cell_type": "code",
   "execution_count": 28,
   "metadata": {},
   "outputs": [
    {
     "data": {
      "text/plain": [
       "True"
      ]
     },
     "execution_count": 28,
     "metadata": {},
     "output_type": "execute_result"
    }
   ],
   "source": [
    "# I have looked into searching the original query url using \"boarddocs\" on google\n",
    "# it does appear that these 404 links are being returned in the Google search\n",
    "# except for il tfd 215\n",
    "# the query string returned this instead \"https://go.boarddocs.com/co/adams12/Board.nsf/Public\"\n",
    "# Original data\n",
    "# Thornton School District\n",
    "# NEW HAMPSHIRE\n",
    "# but regardless, both are wrong data\n",
    "# and the url is already pointed to by some other school\n",
    "\n",
    "\"https://go.boarddocs.com/co/adams12/Board.nsf/Public\" in unique_urls"
   ]
  },
  {
   "cell_type": "code",
   "execution_count": 36,
   "metadata": {},
   "outputs": [
    {
     "data": {
      "text/html": [
       "<div>\n",
       "<style scoped>\n",
       "    .dataframe tbody tr th:only-of-type {\n",
       "        vertical-align: middle;\n",
       "    }\n",
       "\n",
       "    .dataframe tbody tr th {\n",
       "        vertical-align: top;\n",
       "    }\n",
       "\n",
       "    .dataframe thead th {\n",
       "        text-align: right;\n",
       "    }\n",
       "</style>\n",
       "<table border=\"1\" class=\"dataframe\">\n",
       "  <thead>\n",
       "    <tr style=\"text-align: right;\">\n",
       "      <th></th>\n",
       "      <th>URL</th>\n",
       "      <th>Title1</th>\n",
       "      <th>Title2</th>\n",
       "    </tr>\n",
       "  </thead>\n",
       "  <tbody>\n",
       "    <tr>\n",
       "      <th>0</th>\n",
       "      <td>https://go.boarddocs.com/in/elkh/Board.nsf/Public</td>\n",
       "      <td>Elkhart Community Schools</td>\n",
       "      <td>NEOLA Board Policies</td>\n",
       "    </tr>\n",
       "    <tr>\n",
       "      <th>1</th>\n",
       "      <td>https://go.boarddocs.com/oh/copleyfairlawn/Boa...</td>\n",
       "      <td>Copley-Fairlawn City Schools</td>\n",
       "      <td>3797 Ridgewood Road | Copley, OH 44321 | 330-6...</td>\n",
       "    </tr>\n",
       "    <tr>\n",
       "      <th>2</th>\n",
       "      <td>https://go.boarddocs.com/il/msd60/Board.nsf/Pu...</td>\n",
       "      <td>eGovernance Site</td>\n",
       "      <td>Meetings, Agendas and Information</td>\n",
       "    </tr>\n",
       "    <tr>\n",
       "      <th>3</th>\n",
       "      <td>https://go.boarddocs.com/wi/cbus/Board.nsf/Public</td>\n",
       "      <td>Columbus School District</td>\n",
       "      <td>200 W. School Street, Columbus WI 53925 |  (92...</td>\n",
       "    </tr>\n",
       "    <tr>\n",
       "      <th>4</th>\n",
       "      <td>https://go.boarddocs.com/fl/taylor/Board.nsf/P...</td>\n",
       "      <td>318 North Clark Street | Perry, FL 32347 | 850...</td>\n",
       "      <td>Taylor County School District</td>\n",
       "    </tr>\n",
       "  </tbody>\n",
       "</table>\n",
       "</div>"
      ],
      "text/plain": [
       "                                                 URL  \\\n",
       "0  https://go.boarddocs.com/in/elkh/Board.nsf/Public   \n",
       "1  https://go.boarddocs.com/oh/copleyfairlawn/Boa...   \n",
       "2  https://go.boarddocs.com/il/msd60/Board.nsf/Pu...   \n",
       "3  https://go.boarddocs.com/wi/cbus/Board.nsf/Public   \n",
       "4  https://go.boarddocs.com/fl/taylor/Board.nsf/P...   \n",
       "\n",
       "                                              Title1  \\\n",
       "0                          Elkhart Community Schools   \n",
       "1                       Copley-Fairlawn City Schools   \n",
       "2                                   eGovernance Site   \n",
       "3                           Columbus School District   \n",
       "4  318 North Clark Street | Perry, FL 32347 | 850...   \n",
       "\n",
       "                                              Title2  \n",
       "0                               NEOLA Board Policies  \n",
       "1  3797 Ridgewood Road | Copley, OH 44321 | 330-6...  \n",
       "2                  Meetings, Agendas and Information  \n",
       "3  200 W. School Street, Columbus WI 53925 |  (92...  \n",
       "4                      Taylor County School District  "
      ]
     },
     "execution_count": 36,
     "metadata": {},
     "output_type": "execute_result"
    }
   ],
   "source": [
    "# create a sample for Tom first\n",
    "# get those with postcodes\n",
    "\n",
    "import re\n",
    "\n",
    "# Create a DataFrame from the results dictionary\n",
    "results_df = pd.DataFrame.from_dict(results, orient='index', columns=['Title1', 'Title2']).reset_index()\n",
    "results_df.rename(columns={'index': 'URL'}, inplace=True)\n",
    "results_df.head()"
   ]
  },
  {
   "cell_type": "code",
   "execution_count": 37,
   "metadata": {},
   "outputs": [],
   "source": [
    "results_df.to_csv('prelim_results.csv', index=False)"
   ]
  },
  {
   "cell_type": "code",
   "execution_count": 45,
   "metadata": {},
   "outputs": [
    {
     "data": {
      "text/plain": [
       "(np.int64(1331), np.int64(1301))"
      ]
     },
     "execution_count": 45,
     "metadata": {},
     "output_type": "execute_result"
    }
   ],
   "source": [
    "# Define a regex pattern to match a 5-digit zip code\n",
    "zip_code_pattern = r'\\b\\d{5}\\b'\n",
    "\n",
    "# Find rows where Title1 has a 5-digit zip code\n",
    "title1_zip_count = results_df['Title1'].str.contains(zip_code_pattern, na=False).sum()\n",
    "\n",
    "# Find rows where Title2 has a 5-digit zip code\n",
    "title2_zip_count = results_df['Title2'].str.contains(zip_code_pattern, na=False).sum()\n",
    "\n",
    "title1_zip_count, title2_zip_count"
   ]
  },
  {
   "cell_type": "code",
   "execution_count": 60,
   "metadata": {},
   "outputs": [
    {
     "data": {
      "text/html": [
       "<div>\n",
       "<style scoped>\n",
       "    .dataframe tbody tr th:only-of-type {\n",
       "        vertical-align: middle;\n",
       "    }\n",
       "\n",
       "    .dataframe tbody tr th {\n",
       "        vertical-align: top;\n",
       "    }\n",
       "\n",
       "    .dataframe thead th {\n",
       "        text-align: right;\n",
       "    }\n",
       "</style>\n",
       "<table border=\"1\" class=\"dataframe\">\n",
       "  <thead>\n",
       "    <tr style=\"text-align: right;\">\n",
       "      <th></th>\n",
       "      <th>URL</th>\n",
       "      <th>Title1</th>\n",
       "      <th>Title2</th>\n",
       "    </tr>\n",
       "  </thead>\n",
       "  <tbody>\n",
       "    <tr>\n",
       "      <th>4</th>\n",
       "      <td>https://go.boarddocs.com/fl/taylor/Board.nsf/P...</td>\n",
       "      <td>318 North Clark Street | Perry, FL 32347 | 850...</td>\n",
       "      <td>Taylor County School District</td>\n",
       "    </tr>\n",
       "    <tr>\n",
       "      <th>6</th>\n",
       "      <td>https://go.boarddocs.com/nj/colps/Board.nsf/Pu...</td>\n",
       "      <td>100 Lees Ave | Collingswood, NJ 08108 | 856-96...</td>\n",
       "      <td>Collingswood Public Schools</td>\n",
       "    </tr>\n",
       "    <tr>\n",
       "      <th>7</th>\n",
       "      <td>https://go.boarddocs.com/nc/wcpsnc/Board.nsf/P...</td>\n",
       "      <td>2001 E. Royall Ave | Goldsboro, NC 27534 | 919...</td>\n",
       "      <td>Wayne County Public Schools</td>\n",
       "    </tr>\n",
       "    <tr>\n",
       "      <th>9</th>\n",
       "      <td>https://go.boarddocs.com/la/ipsb/Board.nsf/Public</td>\n",
       "      <td>58060 Plaquemine Street | Plaquemine, LA 70764...</td>\n",
       "      <td>Iberville Parish Schools</td>\n",
       "    </tr>\n",
       "    <tr>\n",
       "      <th>12</th>\n",
       "      <td>https://go.boarddocs.com/ca/kccd/Board.nsf/Public</td>\n",
       "      <td>2100 Chester Ave | Bakersfield, CA 93301 | 661...</td>\n",
       "      <td>Kern Community College District</td>\n",
       "    </tr>\n",
       "    <tr>\n",
       "      <th>...</th>\n",
       "      <td>...</td>\n",
       "      <td>...</td>\n",
       "      <td>...</td>\n",
       "    </tr>\n",
       "    <tr>\n",
       "      <th>3505</th>\n",
       "      <td>https://go.boarddocs.com/oh/nocs/Board.nsf/Public</td>\n",
       "      <td>26669 Butternut Ridge Rd | North Olmsted OH 44...</td>\n",
       "      <td>North Olmsted City Schools</td>\n",
       "    </tr>\n",
       "    <tr>\n",
       "      <th>3506</th>\n",
       "      <td>https://go.boarddocs.com/va/corva/Board.nsf/Pu...</td>\n",
       "      <td>Rappahannock County, Virginia - 3 Library Road...</td>\n",
       "      <td></td>\n",
       "    </tr>\n",
       "    <tr>\n",
       "      <th>3515</th>\n",
       "      <td>https://go.boarddocs.com/oh/mevs/Board.nsf/Public</td>\n",
       "      <td>212 Chestnut Street, Marysville, Ohio 43040 | ...</td>\n",
       "      <td>Marysville Exempted Village Schools</td>\n",
       "    </tr>\n",
       "    <tr>\n",
       "      <th>3516</th>\n",
       "      <td>https://go.boarddocs.com/ak/akcrsd/Board.nsf/P...</td>\n",
       "      <td>P.O. Box 108 | Glennallen, AK. 99588 | Ph: (90...</td>\n",
       "      <td>Copper River School District</td>\n",
       "    </tr>\n",
       "    <tr>\n",
       "      <th>3522</th>\n",
       "      <td>https://go.boarddocs.com/ca/whccd/Board.nsf/Pu...</td>\n",
       "      <td>275 Phelps Avenue | Coalinga, CA 93210 | 559-9...</td>\n",
       "      <td>West Hills Community College District</td>\n",
       "    </tr>\n",
       "  </tbody>\n",
       "</table>\n",
       "<p>1331 rows × 3 columns</p>\n",
       "</div>"
      ],
      "text/plain": [
       "                                                    URL  \\\n",
       "4     https://go.boarddocs.com/fl/taylor/Board.nsf/P...   \n",
       "6     https://go.boarddocs.com/nj/colps/Board.nsf/Pu...   \n",
       "7     https://go.boarddocs.com/nc/wcpsnc/Board.nsf/P...   \n",
       "9     https://go.boarddocs.com/la/ipsb/Board.nsf/Public   \n",
       "12    https://go.boarddocs.com/ca/kccd/Board.nsf/Public   \n",
       "...                                                 ...   \n",
       "3505  https://go.boarddocs.com/oh/nocs/Board.nsf/Public   \n",
       "3506  https://go.boarddocs.com/va/corva/Board.nsf/Pu...   \n",
       "3515  https://go.boarddocs.com/oh/mevs/Board.nsf/Public   \n",
       "3516  https://go.boarddocs.com/ak/akcrsd/Board.nsf/P...   \n",
       "3522  https://go.boarddocs.com/ca/whccd/Board.nsf/Pu...   \n",
       "\n",
       "                                                 Title1  \\\n",
       "4     318 North Clark Street | Perry, FL 32347 | 850...   \n",
       "6     100 Lees Ave | Collingswood, NJ 08108 | 856-96...   \n",
       "7     2001 E. Royall Ave | Goldsboro, NC 27534 | 919...   \n",
       "9     58060 Plaquemine Street | Plaquemine, LA 70764...   \n",
       "12    2100 Chester Ave | Bakersfield, CA 93301 | 661...   \n",
       "...                                                 ...   \n",
       "3505  26669 Butternut Ridge Rd | North Olmsted OH 44...   \n",
       "3506  Rappahannock County, Virginia - 3 Library Road...   \n",
       "3515  212 Chestnut Street, Marysville, Ohio 43040 | ...   \n",
       "3516  P.O. Box 108 | Glennallen, AK. 99588 | Ph: (90...   \n",
       "3522  275 Phelps Avenue | Coalinga, CA 93210 | 559-9...   \n",
       "\n",
       "                                     Title2  \n",
       "4             Taylor County School District  \n",
       "6               Collingswood Public Schools  \n",
       "7               Wayne County Public Schools  \n",
       "9                  Iberville Parish Schools  \n",
       "12          Kern Community College District  \n",
       "...                                     ...  \n",
       "3505             North Olmsted City Schools  \n",
       "3506                                         \n",
       "3515   Marysville Exempted Village Schools   \n",
       "3516           Copper River School District  \n",
       "3522  West Hills Community College District  \n",
       "\n",
       "[1331 rows x 3 columns]"
      ]
     },
     "execution_count": 60,
     "metadata": {},
     "output_type": "execute_result"
    }
   ],
   "source": [
    "# Filter rows where Title1 has a 5-digit zip code\n",
    "rows_with_zip_in_title1 = results_df[results_df['Title1'].str.contains(zip_code_pattern, na=False)]\n",
    "rows_with_zip_in_title1"
   ]
  },
  {
   "cell_type": "code",
   "execution_count": 61,
   "metadata": {},
   "outputs": [
    {
     "name": "stderr",
     "output_type": "stream",
     "text": [
      "/var/folders/cp/kz443md17ndf52c8_802gy080000gn/T/ipykernel_52900/350998978.py:1: SettingWithCopyWarning: \n",
      "A value is trying to be set on a copy of a slice from a DataFrame\n",
      "\n",
      "See the caveats in the documentation: https://pandas.pydata.org/pandas-docs/stable/user_guide/indexing.html#returning-a-view-versus-a-copy\n",
      "  rows_with_zip_in_title1.rename(columns={'Title1': 'address', 'Title2': 'school_district'}, inplace=True)\n"
     ]
    },
    {
     "data": {
      "text/html": [
       "<div>\n",
       "<style scoped>\n",
       "    .dataframe tbody tr th:only-of-type {\n",
       "        vertical-align: middle;\n",
       "    }\n",
       "\n",
       "    .dataframe tbody tr th {\n",
       "        vertical-align: top;\n",
       "    }\n",
       "\n",
       "    .dataframe thead th {\n",
       "        text-align: right;\n",
       "    }\n",
       "</style>\n",
       "<table border=\"1\" class=\"dataframe\">\n",
       "  <thead>\n",
       "    <tr style=\"text-align: right;\">\n",
       "      <th></th>\n",
       "      <th>URL</th>\n",
       "      <th>address</th>\n",
       "      <th>school_district</th>\n",
       "    </tr>\n",
       "  </thead>\n",
       "  <tbody>\n",
       "    <tr>\n",
       "      <th>4</th>\n",
       "      <td>https://go.boarddocs.com/fl/taylor/Board.nsf/P...</td>\n",
       "      <td>318 North Clark Street | Perry, FL 32347 | 850...</td>\n",
       "      <td>Taylor County School District</td>\n",
       "    </tr>\n",
       "    <tr>\n",
       "      <th>6</th>\n",
       "      <td>https://go.boarddocs.com/nj/colps/Board.nsf/Pu...</td>\n",
       "      <td>100 Lees Ave | Collingswood, NJ 08108 | 856-96...</td>\n",
       "      <td>Collingswood Public Schools</td>\n",
       "    </tr>\n",
       "    <tr>\n",
       "      <th>7</th>\n",
       "      <td>https://go.boarddocs.com/nc/wcpsnc/Board.nsf/P...</td>\n",
       "      <td>2001 E. Royall Ave | Goldsboro, NC 27534 | 919...</td>\n",
       "      <td>Wayne County Public Schools</td>\n",
       "    </tr>\n",
       "    <tr>\n",
       "      <th>9</th>\n",
       "      <td>https://go.boarddocs.com/la/ipsb/Board.nsf/Public</td>\n",
       "      <td>58060 Plaquemine Street | Plaquemine, LA 70764...</td>\n",
       "      <td>Iberville Parish Schools</td>\n",
       "    </tr>\n",
       "    <tr>\n",
       "      <th>12</th>\n",
       "      <td>https://go.boarddocs.com/ca/kccd/Board.nsf/Public</td>\n",
       "      <td>2100 Chester Ave | Bakersfield, CA 93301 | 661...</td>\n",
       "      <td>Kern Community College District</td>\n",
       "    </tr>\n",
       "  </tbody>\n",
       "</table>\n",
       "</div>"
      ],
      "text/plain": [
       "                                                  URL  \\\n",
       "4   https://go.boarddocs.com/fl/taylor/Board.nsf/P...   \n",
       "6   https://go.boarddocs.com/nj/colps/Board.nsf/Pu...   \n",
       "7   https://go.boarddocs.com/nc/wcpsnc/Board.nsf/P...   \n",
       "9   https://go.boarddocs.com/la/ipsb/Board.nsf/Public   \n",
       "12  https://go.boarddocs.com/ca/kccd/Board.nsf/Public   \n",
       "\n",
       "                                              address  \\\n",
       "4   318 North Clark Street | Perry, FL 32347 | 850...   \n",
       "6   100 Lees Ave | Collingswood, NJ 08108 | 856-96...   \n",
       "7   2001 E. Royall Ave | Goldsboro, NC 27534 | 919...   \n",
       "9   58060 Plaquemine Street | Plaquemine, LA 70764...   \n",
       "12  2100 Chester Ave | Bakersfield, CA 93301 | 661...   \n",
       "\n",
       "                    school_district  \n",
       "4     Taylor County School District  \n",
       "6       Collingswood Public Schools  \n",
       "7       Wayne County Public Schools  \n",
       "9          Iberville Parish Schools  \n",
       "12  Kern Community College District  "
      ]
     },
     "execution_count": 61,
     "metadata": {},
     "output_type": "execute_result"
    }
   ],
   "source": [
    "rows_with_zip_in_title1.rename(columns={'Title1': 'address', 'Title2': 'school_district'}, inplace=True)\n",
    "rows_with_zip_in_title1.head()"
   ]
  },
  {
   "cell_type": "code",
   "execution_count": 64,
   "metadata": {},
   "outputs": [
    {
     "data": {
      "text/plain": [
       "(1000, 3)"
      ]
     },
     "execution_count": 64,
     "metadata": {},
     "output_type": "execute_result"
    }
   ],
   "source": [
    "rows_with_zip_in_title1.shape"
   ]
  },
  {
   "cell_type": "code",
   "execution_count": 63,
   "metadata": {},
   "outputs": [],
   "source": [
    "rows_with_zip_in_title1 = rows_with_zip_in_title1.head(1000)"
   ]
  },
  {
   "cell_type": "code",
   "execution_count": 65,
   "metadata": {},
   "outputs": [
    {
     "data": {
      "text/plain": [
       "(1000, 3)"
      ]
     },
     "execution_count": 65,
     "metadata": {},
     "output_type": "execute_result"
    }
   ],
   "source": [
    "rows_with_zip_in_title1.shape"
   ]
  },
  {
   "cell_type": "code",
   "execution_count": 66,
   "metadata": {},
   "outputs": [],
   "source": [
    "rows_with_zip_in_title1.to_csv(\"sample_deliverable_1.csv\", index=False)"
   ]
  }
 ],
 "metadata": {
  "kernelspec": {
   "display_name": "Python (cepr_schoolboard)",
   "language": "python",
   "name": "cepr_schoolboard"
  },
  "language_info": {
   "name": "python",
   "version": "3.13.1"
  }
 },
 "nbformat": 4,
 "nbformat_minor": 2
}
