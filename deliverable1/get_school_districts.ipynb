{
 "cells": [
  {
   "cell_type": "markdown",
   "metadata": {},
   "source": [
    "This notebook gets all the school districts and its state from `school_district_list.html`. This HTML file is downloaded from [https://ballotpedia.org/List_of_school_districts_in_the_United_States](https://ballotpedia.org/List_of_school_districts_in_the_United_States)\n",
    "\n",
    "Input:\n",
    "- `school_district_list.html`\n",
    "\n",
    "Output:\n",
    "- `school_districts.csv`"
   ]
  },
  {
   "cell_type": "code",
   "execution_count": 19,
   "metadata": {},
   "outputs": [],
   "source": [
    "from bs4 import BeautifulSoup\n",
    "import pandas as pd\n",
    "\n",
    "# Load the HTML file\n",
    "with open(\"school-district-list.html\", \"r\", encoding=\"utf-8\") as file:\n",
    "    soup = BeautifulSoup(file, \"html.parser\")\n",
    "\n",
    "# Initialize an empty list to store the data\n",
    "data = []\n",
    "\n",
    "# Find the element with id \"headertabs\"\n",
    "headertabs = soup.find(id=\"headertabs\")"
   ]
  },
  {
   "cell_type": "code",
   "execution_count": 20,
   "metadata": {},
   "outputs": [
    {
     "name": "stdout",
     "output_type": "stream",
     "text": [
      "Alabama\n",
      "Alaska\n",
      "Arizona\n",
      "Arkansas\n",
      "California\n",
      "Colorado\n",
      "Connecticut\n",
      "Delaware\n",
      "District_of_Columbia\n",
      "Florida\n",
      "Georgia\n",
      "Hawaii\n",
      "Idaho\n",
      "Illinois\n",
      "Indiana\n",
      "Iowa\n",
      "Kansas\n",
      "Kentucky\n",
      "Louisiana\n",
      "Maine\n",
      "Maryland\n",
      "Massachusetts\n",
      "Michigan\n",
      "Minnesota\n",
      "Mississippi\n",
      "Missouri\n",
      "Montana\n",
      "Nebraska\n",
      "Nevada\n",
      "New_Hampshire\n",
      "New_Jersey\n",
      "New_Mexico\n",
      "New_York\n",
      "North_Carolina\n",
      "North_Dakota\n",
      "Ohio\n",
      "Oklahoma\n",
      "Oregon\n",
      "Pennsylvania\n",
      "Rhode_Island\n",
      "South_Carolina\n",
      "South_Dakota\n",
      "Tennessee\n",
      "Texas\n",
      "Utah\n",
      "Vermont\n",
      "Virginia\n",
      "Washington\n",
      "West_Virginia\n",
      "Wisconsin\n",
      "Wyoming\n"
     ]
    }
   ],
   "source": [
    "for state_div in headertabs.find_all(\"div\", recursive=False):\n",
    "    print(state_div.get(\"id\"))"
   ]
  },
  {
   "cell_type": "code",
   "execution_count": 21,
   "metadata": {},
   "outputs": [
    {
     "name": "stdout",
     "output_type": "stream",
     "text": [
      "Schools not found for District_of_Columbia\n",
      "                                         school_district    state\n",
      "0      Alabama Department of Youth Services Schools, ...  Alabama\n",
      "1                           Dothan City Schools, Alabama  Alabama\n",
      "2                 Coffee County School District, Alabama  Alabama\n",
      "3                       Haleyville City Schools, Alabama  Alabama\n",
      "4                 Geneva County School District, Alabama  Alabama\n",
      "...                                                  ...      ...\n",
      "11752     Uinta County School District Number 6, Wyoming  Wyoming\n",
      "11753  Washakie County School District Number 2, Wyoming  Wyoming\n",
      "11754    Weston County School District Number 1, Wyoming  Wyoming\n",
      "11755    Weston County School District Number 7, Wyoming  Wyoming\n",
      "11756                    Natrona County Schools, Wyoming  Wyoming\n",
      "\n",
      "[11757 rows x 2 columns]\n"
     ]
    }
   ],
   "source": [
    "import re\n",
    "\n",
    "# Iterate over all divs inside \"headertabs\"\n",
    "for state_div in headertabs.find_all(\"div\", recursive=False):\n",
    "    state_name = state_div.get(\"id\")  # Get the state name from the div id\n",
    "    assert state_name\n",
    "    # Find all <a> tags inside the div's ul\n",
    "    ul = state_div.find(\"ul\")\n",
    "    if not ul:\n",
    "        print(f\"Schools not found for {state_name}\")\n",
    "        continue\n",
    "    for a_tag in ul.find_all(\"a\"):\n",
    "        school_district = a_tag.get_text(strip=True)\n",
    "        # remove double spaces and newlines with spaces\n",
    "        school_district = re.sub(r'\\s+', ' ', school_district).strip()\n",
    "        # Append the school district and state name to the data list\n",
    "        data.append({\"school_district\": school_district, \"state\": state_name})\n",
    "\n",
    "# Convert the data list to a DataFrame\n",
    "df = pd.DataFrame(data)\n",
    "\n",
    "# Display the DataFrame\n",
    "print(df)"
   ]
  },
  {
   "cell_type": "code",
   "execution_count": 27,
   "metadata": {},
   "outputs": [
    {
     "data": {
      "text/plain": [
       "50"
      ]
     },
     "execution_count": 27,
     "metadata": {},
     "output_type": "execute_result"
    }
   ],
   "source": [
    "# number of states\n",
    "len(df[\"state\"].unique())"
   ]
  },
  {
   "cell_type": "code",
   "execution_count": 23,
   "metadata": {},
   "outputs": [
    {
     "name": "stdout",
     "output_type": "stream",
     "text": [
      "Alabama Department of Youth Services Schools, Alabama\n"
     ]
    }
   ],
   "source": [
    "# Save the DataFrame to a CSV file\n",
    "df.to_csv(\"school_districts.csv\", index=False)"
   ]
  }
 ],
 "metadata": {
  "kernelspec": {
   "display_name": "Python (cepr_schoolboard)",
   "language": "python",
   "name": "cepr_schoolboard"
  },
  "language_info": {
   "codemirror_mode": {
    "name": "ipython",
    "version": 3
   },
   "file_extension": ".py",
   "mimetype": "text/x-python",
   "name": "python",
   "nbconvert_exporter": "python",
   "pygments_lexer": "ipython3",
   "version": "3.13.1"
  }
 },
 "nbformat": 4,
 "nbformat_minor": 2
}
