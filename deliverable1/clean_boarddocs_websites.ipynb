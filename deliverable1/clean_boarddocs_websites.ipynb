{
 "cells": [
  {
   "cell_type": "markdown",
   "metadata": {},
   "source": [
    "This notebook takes a look at the scrapped results from the BoardDocs website and gets the correct addresses for each row.\n",
    "\n",
    "Input:\n",
    "- `prelim_results.csv`"
   ]
  },
  {
   "cell_type": "code",
   "execution_count": 559,
   "metadata": {},
   "outputs": [
    {
     "data": {
      "text/html": [
       "<div>\n",
       "<style scoped>\n",
       "    .dataframe tbody tr th:only-of-type {\n",
       "        vertical-align: middle;\n",
       "    }\n",
       "\n",
       "    .dataframe tbody tr th {\n",
       "        vertical-align: top;\n",
       "    }\n",
       "\n",
       "    .dataframe thead th {\n",
       "        text-align: right;\n",
       "    }\n",
       "</style>\n",
       "<table border=\"1\" class=\"dataframe\">\n",
       "  <thead>\n",
       "    <tr style=\"text-align: right;\">\n",
       "      <th></th>\n",
       "      <th>URL</th>\n",
       "      <th>title_1</th>\n",
       "      <th>title_2</th>\n",
       "      <th>home_website</th>\n",
       "    </tr>\n",
       "  </thead>\n",
       "  <tbody>\n",
       "    <tr>\n",
       "      <th>0</th>\n",
       "      <td>https://go.boarddocs.com/pa/shun/Board.nsf/Public</td>\n",
       "      <td>School Board Policy Manual</td>\n",
       "      <td>Southern Huntingdon County School District</td>\n",
       "      <td>http://www.shcsd.org</td>\n",
       "    </tr>\n",
       "    <tr>\n",
       "      <th>1</th>\n",
       "      <td>https://go.boarddocs.com/pa/cali/Board.nsf/Public</td>\n",
       "      <td>School Board Policy Manual</td>\n",
       "      <td>NaN</td>\n",
       "      <td>www.calsd.org</td>\n",
       "    </tr>\n",
       "    <tr>\n",
       "      <th>2</th>\n",
       "      <td>https://go.boarddocs.com/ca/mbusd/Board.nsf/Public</td>\n",
       "      <td>325 S. Peck Ave | Manhattan Beach, CA 90266 | (310) 318-7345 | f  (310) 303-3822</td>\n",
       "      <td>Manhattan Beach Unified School District</td>\n",
       "      <td>http://www.mbusd.org</td>\n",
       "    </tr>\n",
       "    <tr>\n",
       "      <th>3</th>\n",
       "      <td>https://go.boarddocs.com/il/bhsd228/Board.nsf/Public</td>\n",
       "      <td>Bremen High School District 228</td>\n",
       "      <td>15233 S. Pulaski Rd, Midlothian, IL 60445 | 708-389-1175</td>\n",
       "      <td>https://www.bhsd228.com/</td>\n",
       "    </tr>\n",
       "    <tr>\n",
       "      <th>4</th>\n",
       "      <td>https://go.boarddocs.com/mi/sjs/Board.nsf/Public</td>\n",
       "      <td>Board Policies and Guidelines</td>\n",
       "      <td>St. Joseph Public Schools</td>\n",
       "      <td>https://www.sjschools.org/</td>\n",
       "    </tr>\n",
       "  </tbody>\n",
       "</table>\n",
       "</div>"
      ],
      "text/plain": [
       "                                                    URL  \\\n",
       "0     https://go.boarddocs.com/pa/shun/Board.nsf/Public   \n",
       "1     https://go.boarddocs.com/pa/cali/Board.nsf/Public   \n",
       "2    https://go.boarddocs.com/ca/mbusd/Board.nsf/Public   \n",
       "3  https://go.boarddocs.com/il/bhsd228/Board.nsf/Public   \n",
       "4      https://go.boarddocs.com/mi/sjs/Board.nsf/Public   \n",
       "\n",
       "                                                                            title_1  \\\n",
       "0                                                        School Board Policy Manual   \n",
       "1                                                        School Board Policy Manual   \n",
       "2  325 S. Peck Ave | Manhattan Beach, CA 90266 | (310) 318-7345 | f  (310) 303-3822   \n",
       "3                                                   Bremen High School District 228   \n",
       "4                                                     Board Policies and Guidelines   \n",
       "\n",
       "                                                    title_2  \\\n",
       "0                Southern Huntingdon County School District   \n",
       "1                                                       NaN   \n",
       "2                   Manhattan Beach Unified School District   \n",
       "3  15233 S. Pulaski Rd, Midlothian, IL 60445 | 708-389-1175   \n",
       "4                                 St. Joseph Public Schools   \n",
       "\n",
       "                 home_website  \n",
       "0        http://www.shcsd.org  \n",
       "1               www.calsd.org  \n",
       "2        http://www.mbusd.org  \n",
       "3    https://www.bhsd228.com/  \n",
       "4  https://www.sjschools.org/  "
      ]
     },
     "execution_count": 559,
     "metadata": {},
     "output_type": "execute_result"
    }
   ],
   "source": [
    "import pandas as pd\n",
    "\n",
    "df = pd.read_csv(\"prelim_results.csv\")\n",
    "df.head()"
   ]
  },
  {
   "cell_type": "code",
   "execution_count": 560,
   "metadata": {},
   "outputs": [],
   "source": [
    "# consider the 5-digit zip code approach\n",
    "# check which rows have 5-digit codes in Title1, and those with them in Title2.\n",
    "# Hopefully this will be a partition\n",
    "\n",
    "# Define a regex pattern to match a 5-digit zip code\n",
    "zip_code_pattern = r'\\b\\d{5}\\b'\n",
    "\n",
    "# Find rows where Title1 has a 5-digit zip code\n",
    "df['Title1_has_zipcode'] = df['title_1'].str.contains(zip_code_pattern, na=False)\n",
    "\n",
    "# Find rows where Title2 has a 5-digit zip code\n",
    "df['Title2_has_zipcode'] = df['title_2'].str.contains(zip_code_pattern, na=False)"
   ]
  },
  {
   "cell_type": "code",
   "execution_count": 561,
   "metadata": {},
   "outputs": [
    {
     "name": "stdout",
     "output_type": "stream",
     "text": [
      "Num of rows where title 1 has zipcode 1325\n",
      "Num of rows where title 2 has zipcode 1298\n",
      "Num of rows where title 1 or title 2 has zipcode 2623\n",
      "Num of rows where title 1 and title 2 have zipcode 0\n",
      "Num of total rows 3523\n"
     ]
    }
   ],
   "source": [
    "# check if it is a partition\n",
    "# first check if they add up\n",
    "\n",
    "import numpy as np\n",
    "\n",
    "print(f\"Num of rows where title 1 has zipcode {df['Title1_has_zipcode'].sum()}\")\n",
    "print(f\"Num of rows where title 2 has zipcode {df['Title2_has_zipcode'].sum()}\")\n",
    "print(f\"Num of rows where title 1 or title 2 has zipcode {np.sum(df['Title1_has_zipcode'] | df['Title2_has_zipcode'])}\")\n",
    "print(f\"Num of rows where title 1 and title 2 have zipcode {np.sum(df['Title1_has_zipcode'] & df['Title2_has_zipcode'])}\")\n",
    "print(f\"Num of total rows {df.shape[0]}\")"
   ]
  },
  {
   "cell_type": "code",
   "execution_count": 562,
   "metadata": {},
   "outputs": [
    {
     "name": "stdout",
     "output_type": "stream",
     "text": [
      "Num of rows without zipcode 900\n"
     ]
    },
    {
     "data": {
      "text/html": [
       "<div>\n",
       "<style scoped>\n",
       "    .dataframe tbody tr th:only-of-type {\n",
       "        vertical-align: middle;\n",
       "    }\n",
       "\n",
       "    .dataframe tbody tr th {\n",
       "        vertical-align: top;\n",
       "    }\n",
       "\n",
       "    .dataframe thead th {\n",
       "        text-align: right;\n",
       "    }\n",
       "</style>\n",
       "<table border=\"1\" class=\"dataframe\">\n",
       "  <thead>\n",
       "    <tr style=\"text-align: right;\">\n",
       "      <th></th>\n",
       "      <th>URL</th>\n",
       "      <th>title_1</th>\n",
       "      <th>title_2</th>\n",
       "      <th>home_website</th>\n",
       "      <th>Title1_has_zipcode</th>\n",
       "      <th>Title2_has_zipcode</th>\n",
       "    </tr>\n",
       "  </thead>\n",
       "  <tbody>\n",
       "    <tr>\n",
       "      <th>480</th>\n",
       "      <td>https://go.boarddocs.com/ny/greece/Board.nsf/Public</td>\n",
       "      <td>GREECE CENTRAL SCHOOL DISTRICT</td>\n",
       "      <td>Board of Education</td>\n",
       "      <td>http://web001.greece.k12.ny.us/</td>\n",
       "      <td>False</td>\n",
       "      <td>False</td>\n",
       "    </tr>\n",
       "    <tr>\n",
       "      <th>299</th>\n",
       "      <td>https://go.boarddocs.com/oh/bri/Board.nsf/Public</td>\n",
       "      <td>Board Policies and By-Laws</td>\n",
       "      <td>Bridgeport Exempted Village School District</td>\n",
       "      <td>https://www.bevs.k12.oh.us</td>\n",
       "      <td>False</td>\n",
       "      <td>False</td>\n",
       "    </tr>\n",
       "    <tr>\n",
       "      <th>1168</th>\n",
       "      <td>https://go.boarddocs.com/oh/pdys/Board.nsf/Public</td>\n",
       "      <td>Policy Manual</td>\n",
       "      <td>Pike-Delta-York Local School District</td>\n",
       "      <td>http://pdys.org/</td>\n",
       "      <td>False</td>\n",
       "      <td>False</td>\n",
       "    </tr>\n",
       "    <tr>\n",
       "      <th>1668</th>\n",
       "      <td>https://go.boarddocs.com/pa/seli/Board.nsf/Public</td>\n",
       "      <td>School Board Policy Manual</td>\n",
       "      <td>Selinsgrove Area School District</td>\n",
       "      <td>http://www.seal-pa.org</td>\n",
       "      <td>False</td>\n",
       "      <td>False</td>\n",
       "    </tr>\n",
       "    <tr>\n",
       "      <th>1111</th>\n",
       "      <td>https://go.boarddocs.com/pa/shan/Board.nsf/Public</td>\n",
       "      <td>Shanksville-Stonycreek School District</td>\n",
       "      <td>School Board Information and Policy Manual</td>\n",
       "      <td>https://www.sssd.com/</td>\n",
       "      <td>False</td>\n",
       "      <td>False</td>\n",
       "    </tr>\n",
       "  </tbody>\n",
       "</table>\n",
       "</div>"
      ],
      "text/plain": [
       "                                                      URL  \\\n",
       "480   https://go.boarddocs.com/ny/greece/Board.nsf/Public   \n",
       "299      https://go.boarddocs.com/oh/bri/Board.nsf/Public   \n",
       "1168    https://go.boarddocs.com/oh/pdys/Board.nsf/Public   \n",
       "1668    https://go.boarddocs.com/pa/seli/Board.nsf/Public   \n",
       "1111    https://go.boarddocs.com/pa/shan/Board.nsf/Public   \n",
       "\n",
       "                                     title_1  \\\n",
       "480           GREECE CENTRAL SCHOOL DISTRICT   \n",
       "299               Board Policies and By-Laws   \n",
       "1168                           Policy Manual   \n",
       "1668              School Board Policy Manual   \n",
       "1111  Shanksville-Stonycreek School District   \n",
       "\n",
       "                                          title_2  \\\n",
       "480                            Board of Education   \n",
       "299   Bridgeport Exempted Village School District   \n",
       "1168        Pike-Delta-York Local School District   \n",
       "1668             Selinsgrove Area School District   \n",
       "1111   School Board Information and Policy Manual   \n",
       "\n",
       "                         home_website  Title1_has_zipcode  Title2_has_zipcode  \n",
       "480   http://web001.greece.k12.ny.us/               False               False  \n",
       "299        https://www.bevs.k12.oh.us               False               False  \n",
       "1168                 http://pdys.org/               False               False  \n",
       "1668           http://www.seal-pa.org               False               False  \n",
       "1111            https://www.sssd.com/               False               False  "
      ]
     },
     "execution_count": 562,
     "metadata": {},
     "output_type": "execute_result"
    }
   ],
   "source": [
    "# ok great, there are no rows where you can find zipcodes on both cols\n",
    "# but some rows don't have zipcodes in either\n",
    "# let's check them out\n",
    "\n",
    "no_zipcode_df = df[~(df['Title1_has_zipcode'] | df['Title2_has_zipcode'])]\n",
    "print(f\"Num of rows without zipcode {no_zipcode_df.shape[0]}\")\n",
    "no_zipcode_df.sample(5)"
   ]
  },
  {
   "cell_type": "code",
   "execution_count": 563,
   "metadata": {},
   "outputs": [
    {
     "data": {
      "text/plain": [
       "title_1\n",
       "School Board Policy Manual              100\n",
       "Policy Manual                            48\n",
       "School Board Policies and Guidelines     35\n",
       "School Board Policies                    18\n",
       "BoardDocs PL                              8\n",
       "Name: count, dtype: int64"
      ]
     },
     "execution_count": 563,
     "metadata": {},
     "output_type": "execute_result"
    }
   ],
   "source": [
    "# some NaNs, some \"Policy Manual\", \"School Board Policy and Guidelines\", etc\n",
    "# let's check the most common values\n",
    "\n",
    "no_zipcode_df[\"title_1\"].value_counts().head()"
   ]
  },
  {
   "cell_type": "code",
   "execution_count": 564,
   "metadata": {},
   "outputs": [
    {
     "data": {
      "text/plain": [
       "title_2\n",
       "                                    20\n",
       "Board Policies                      18\n",
       "School Board Policies               15\n",
       "Board of Education                   9\n",
       "Board of Education Policy Manual     8\n",
       "Name: count, dtype: int64"
      ]
     },
     "execution_count": 564,
     "metadata": {},
     "output_type": "execute_result"
    }
   ],
   "source": [
    "no_zipcode_df[\"title_2\"].value_counts().head()"
   ]
  },
  {
   "cell_type": "code",
   "execution_count": 565,
   "metadata": {},
   "outputs": [
    {
     "data": {
      "text/plain": [
       "57"
      ]
     },
     "execution_count": 565,
     "metadata": {},
     "output_type": "execute_result"
    }
   ],
   "source": [
    "# ok, now let's check the website col\n",
    "sum(df[\"home_website\"].isna())"
   ]
  },
  {
   "cell_type": "code",
   "execution_count": 566,
   "metadata": {},
   "outputs": [
    {
     "name": "stdout",
     "output_type": "stream",
     "text": [
      "Percent of websites without links to official: 1.62%\n"
     ]
    }
   ],
   "source": [
    "# ok, unfortunately there are boarddocs without the home website linked\n",
    "print(f\"Percent of websites without links to official: {sum(df[\"home_website\"].isna())/df.shape[0]*100:.3}%\")"
   ]
  },
  {
   "cell_type": "code",
   "execution_count": 567,
   "metadata": {},
   "outputs": [
    {
     "data": {
      "text/html": [
       "<div>\n",
       "<style scoped>\n",
       "    .dataframe tbody tr th:only-of-type {\n",
       "        vertical-align: middle;\n",
       "    }\n",
       "\n",
       "    .dataframe tbody tr th {\n",
       "        vertical-align: top;\n",
       "    }\n",
       "\n",
       "    .dataframe thead th {\n",
       "        text-align: right;\n",
       "    }\n",
       "</style>\n",
       "<table border=\"1\" class=\"dataframe\">\n",
       "  <thead>\n",
       "    <tr style=\"text-align: right;\">\n",
       "      <th></th>\n",
       "      <th>URL</th>\n",
       "      <th>title_1</th>\n",
       "      <th>title_2</th>\n",
       "      <th>home_website</th>\n",
       "      <th>Title1_has_zipcode</th>\n",
       "      <th>Title2_has_zipcode</th>\n",
       "    </tr>\n",
       "  </thead>\n",
       "  <tbody>\n",
       "    <tr>\n",
       "      <th>217</th>\n",
       "      <td>https://go.boarddocs.com/pa/camb/Board.nsf/Public</td>\n",
       "      <td>NaN</td>\n",
       "      <td>NaN</td>\n",
       "      <td>NaN</td>\n",
       "      <td>False</td>\n",
       "      <td>False</td>\n",
       "    </tr>\n",
       "    <tr>\n",
       "      <th>399</th>\n",
       "      <td>https://go.boarddocs.com/oh/oakhil/Board.nsf/Public</td>\n",
       "      <td>NaN</td>\n",
       "      <td>NaN</td>\n",
       "      <td>NaN</td>\n",
       "      <td>False</td>\n",
       "      <td>False</td>\n",
       "    </tr>\n",
       "    <tr>\n",
       "      <th>414</th>\n",
       "      <td>https://go.boarddocs.com/oh/warrenoh/Board.nsf/Public</td>\n",
       "      <td>NaN</td>\n",
       "      <td>NaN</td>\n",
       "      <td>NaN</td>\n",
       "      <td>False</td>\n",
       "      <td>False</td>\n",
       "    </tr>\n",
       "    <tr>\n",
       "      <th>416</th>\n",
       "      <td>https://go.boarddocs.com/pa/marp/Board.nsf/Public</td>\n",
       "      <td>School Board Policy Manual</td>\n",
       "      <td>Marple Newtown School District</td>\n",
       "      <td>NaN</td>\n",
       "      <td>False</td>\n",
       "      <td>False</td>\n",
       "    </tr>\n",
       "    <tr>\n",
       "      <th>481</th>\n",
       "      <td>https://go.boarddocs.com/oh/meigs/Board.nsf/Public</td>\n",
       "      <td>NaN</td>\n",
       "      <td>NaN</td>\n",
       "      <td>NaN</td>\n",
       "      <td>False</td>\n",
       "      <td>False</td>\n",
       "    </tr>\n",
       "  </tbody>\n",
       "</table>\n",
       "</div>"
      ],
      "text/plain": [
       "                                                       URL  \\\n",
       "217      https://go.boarddocs.com/pa/camb/Board.nsf/Public   \n",
       "399    https://go.boarddocs.com/oh/oakhil/Board.nsf/Public   \n",
       "414  https://go.boarddocs.com/oh/warrenoh/Board.nsf/Public   \n",
       "416      https://go.boarddocs.com/pa/marp/Board.nsf/Public   \n",
       "481     https://go.boarddocs.com/oh/meigs/Board.nsf/Public   \n",
       "\n",
       "                        title_1                         title_2 home_website  \\\n",
       "217                         NaN                             NaN          NaN   \n",
       "399                         NaN                             NaN          NaN   \n",
       "414                         NaN                             NaN          NaN   \n",
       "416  School Board Policy Manual  Marple Newtown School District          NaN   \n",
       "481                         NaN                             NaN          NaN   \n",
       "\n",
       "     Title1_has_zipcode  Title2_has_zipcode  \n",
       "217               False               False  \n",
       "399               False               False  \n",
       "414               False               False  \n",
       "416               False               False  \n",
       "481               False               False  "
      ]
     },
     "execution_count": 567,
     "metadata": {},
     "output_type": "execute_result"
    }
   ],
   "source": [
    "# but thankfully this number is small\n",
    "# let's take a look at these websites\n",
    "\n",
    "# do not truncate the col values in display\n",
    "pd.set_option('display.max_colwidth', None)\n",
    "\n",
    "df[df[\"home_website\"].isna()].head()"
   ]
  },
  {
   "cell_type": "code",
   "execution_count": 568,
   "metadata": {},
   "outputs": [],
   "source": [
    "# after inspecting a few, it seems like they will usually write their school district as the h1 tag at least."
   ]
  },
  {
   "cell_type": "code",
   "execution_count": 569,
   "metadata": {},
   "outputs": [
    {
     "name": "stdout",
     "output_type": "stream",
     "text": [
      "Number of no-zipcode rows that contain a number\n"
     ]
    },
    {
     "data": {
      "text/plain": [
       "44"
      ]
     },
     "execution_count": 569,
     "metadata": {},
     "output_type": "execute_result"
    }
   ],
   "source": [
    "# back to the address\n",
    "# an observation is that I don't think those that don't contain zip codes will have addresses on the website\n",
    "# let's check if a single number exists in them\n",
    "\n",
    "number_pattern = r'\\d'\n",
    "print(\"Number of no-zipcode rows that contain a number\")\n",
    "sum(no_zipcode_df[\"title_1\"].str.contains(number_pattern, na=False))"
   ]
  },
  {
   "cell_type": "code",
   "execution_count": 570,
   "metadata": {},
   "outputs": [
    {
     "data": {
      "text/html": [
       "<div>\n",
       "<style scoped>\n",
       "    .dataframe tbody tr th:only-of-type {\n",
       "        vertical-align: middle;\n",
       "    }\n",
       "\n",
       "    .dataframe tbody tr th {\n",
       "        vertical-align: top;\n",
       "    }\n",
       "\n",
       "    .dataframe thead th {\n",
       "        text-align: right;\n",
       "    }\n",
       "</style>\n",
       "<table border=\"1\" class=\"dataframe\">\n",
       "  <thead>\n",
       "    <tr style=\"text-align: right;\">\n",
       "      <th></th>\n",
       "      <th>URL</th>\n",
       "      <th>title_1</th>\n",
       "      <th>title_2</th>\n",
       "      <th>home_website</th>\n",
       "      <th>Title1_has_zipcode</th>\n",
       "      <th>Title2_has_zipcode</th>\n",
       "    </tr>\n",
       "  </thead>\n",
       "  <tbody>\n",
       "    <tr>\n",
       "      <th>2679</th>\n",
       "      <td>https://go.boarddocs.com/il/rlasd/Board.nsf/Public</td>\n",
       "      <td>Round Lake Area School District CUSD 116</td>\n",
       "      <td>NaN</td>\n",
       "      <td>http://www.rlas-116.org</td>\n",
       "      <td>False</td>\n",
       "      <td>False</td>\n",
       "    </tr>\n",
       "    <tr>\n",
       "      <th>648</th>\n",
       "      <td>https://go.boarddocs.com/il/thsd211/Board.nsf/Public</td>\n",
       "      <td>G.A. McElroy Administration Center, 1750 South Roselle Road, Palatine, Illinois</td>\n",
       "      <td>Board of Education</td>\n",
       "      <td>http://www.adc.d211.org</td>\n",
       "      <td>False</td>\n",
       "      <td>False</td>\n",
       "    </tr>\n",
       "    <tr>\n",
       "      <th>1926</th>\n",
       "      <td>https://go.boarddocs.com/oh/polaris/Board.nsf/Public</td>\n",
       "      <td>7285 Old Oak Blvd., | Middleburg Heights, OH |  440-891-7600</td>\n",
       "      <td>Polaris Career Center</td>\n",
       "      <td>http://www.polaris.edu/</td>\n",
       "      <td>False</td>\n",
       "      <td>False</td>\n",
       "    </tr>\n",
       "    <tr>\n",
       "      <th>990</th>\n",
       "      <td>https://go.boarddocs.com/la/pcpsb/Board.nsf/Public</td>\n",
       "      <td>337 Napoleon Street ● New Roads, Louisiana ● p 225-638-8674 ● f 225-638-3237</td>\n",
       "      <td>Pointe Coupee Parish School System</td>\n",
       "      <td>http://www.pcpsb.net/</td>\n",
       "      <td>False</td>\n",
       "      <td>False</td>\n",
       "    </tr>\n",
       "    <tr>\n",
       "      <th>2239</th>\n",
       "      <td>https://go.boarddocs.com/in/brem/Board.nsf/Public</td>\n",
       "      <td>Bremen Public Schools | Phone: (574) 546-3929 | Fax: (574) 546-6303 | School Board Policies and Guidelines</td>\n",
       "      <td>NaN</td>\n",
       "      <td>https://www.bps.k12.in.us</td>\n",
       "      <td>False</td>\n",
       "      <td>False</td>\n",
       "    </tr>\n",
       "  </tbody>\n",
       "</table>\n",
       "</div>"
      ],
      "text/plain": [
       "                                                       URL  \\\n",
       "2679    https://go.boarddocs.com/il/rlasd/Board.nsf/Public   \n",
       "648   https://go.boarddocs.com/il/thsd211/Board.nsf/Public   \n",
       "1926  https://go.boarddocs.com/oh/polaris/Board.nsf/Public   \n",
       "990     https://go.boarddocs.com/la/pcpsb/Board.nsf/Public   \n",
       "2239     https://go.boarddocs.com/in/brem/Board.nsf/Public   \n",
       "\n",
       "                                                                                                         title_1  \\\n",
       "2679                                                                    Round Lake Area School District CUSD 116   \n",
       "648                              G.A. McElroy Administration Center, 1750 South Roselle Road, Palatine, Illinois   \n",
       "1926                                               7285 Old Oak Blvd., | Middleburg Heights, OH |  440-891-7600    \n",
       "990                                 337 Napoleon Street ● New Roads, Louisiana ● p 225-638-8674 ● f 225-638-3237   \n",
       "2239  Bremen Public Schools | Phone: (574) 546-3929 | Fax: (574) 546-6303 | School Board Policies and Guidelines   \n",
       "\n",
       "                                 title_2               home_website  \\\n",
       "2679                                 NaN    http://www.rlas-116.org   \n",
       "648                   Board of Education    http://www.adc.d211.org   \n",
       "1926               Polaris Career Center    http://www.polaris.edu/   \n",
       "990   Pointe Coupee Parish School System      http://www.pcpsb.net/   \n",
       "2239                                 NaN  https://www.bps.k12.in.us   \n",
       "\n",
       "      Title1_has_zipcode  Title2_has_zipcode  \n",
       "2679               False               False  \n",
       "648                False               False  \n",
       "1926               False               False  \n",
       "990                False               False  \n",
       "2239               False               False  "
      ]
     },
     "execution_count": 570,
     "metadata": {},
     "output_type": "execute_result"
    }
   ],
   "source": [
    "no_zipcode_df[no_zipcode_df[\"title_1\"].str.contains(number_pattern, na=False)].sample(5)"
   ]
  },
  {
   "cell_type": "code",
   "execution_count": 571,
   "metadata": {},
   "outputs": [
    {
     "data": {
      "text/html": [
       "<div>\n",
       "<style scoped>\n",
       "    .dataframe tbody tr th:only-of-type {\n",
       "        vertical-align: middle;\n",
       "    }\n",
       "\n",
       "    .dataframe tbody tr th {\n",
       "        vertical-align: top;\n",
       "    }\n",
       "\n",
       "    .dataframe thead th {\n",
       "        text-align: right;\n",
       "    }\n",
       "</style>\n",
       "<table border=\"1\" class=\"dataframe\">\n",
       "  <thead>\n",
       "    <tr style=\"text-align: right;\">\n",
       "      <th></th>\n",
       "      <th>URL</th>\n",
       "      <th>title_1</th>\n",
       "      <th>title_2</th>\n",
       "      <th>home_website</th>\n",
       "      <th>Title1_has_zipcode</th>\n",
       "      <th>Title2_has_zipcode</th>\n",
       "    </tr>\n",
       "  </thead>\n",
       "  <tbody>\n",
       "    <tr>\n",
       "      <th>2491</th>\n",
       "      <td>https://go.boarddocs.com/pa/iu12/Board.nsf/Public</td>\n",
       "      <td>Board Policy Manual</td>\n",
       "      <td>Lincoln Intermediate Unit 12</td>\n",
       "      <td>https://www.iu12.org/Page/9</td>\n",
       "      <td>False</td>\n",
       "      <td>False</td>\n",
       "    </tr>\n",
       "    <tr>\n",
       "      <th>926</th>\n",
       "      <td>https://go.boarddocs.com/mi/wake/Board.nsf/Public</td>\n",
       "      <td>Wakefield-Marenisco School District</td>\n",
       "      <td>(906) 224-7211</td>\n",
       "      <td>http://www.wmschools.org</td>\n",
       "      <td>False</td>\n",
       "      <td>False</td>\n",
       "    </tr>\n",
       "    <tr>\n",
       "      <th>641</th>\n",
       "      <td>https://go.boarddocs.com/mi/brand/Board.nsf/Public</td>\n",
       "      <td>Brandywine Community Schools</td>\n",
       "      <td>269-684-7150</td>\n",
       "      <td>http://www.brandywinebobcats.org</td>\n",
       "      <td>False</td>\n",
       "      <td>False</td>\n",
       "    </tr>\n",
       "    <tr>\n",
       "      <th>3046</th>\n",
       "      <td>https://go.boarddocs.com/pa/iu07/Board.nsf/Public</td>\n",
       "      <td>Policy Manual</td>\n",
       "      <td>Westmoreland Intermediate Unit 7</td>\n",
       "      <td>https://go.boarddocs.com/pa/iu07/</td>\n",
       "      <td>False</td>\n",
       "      <td>False</td>\n",
       "    </tr>\n",
       "    <tr>\n",
       "      <th>2069</th>\n",
       "      <td>https://go.boarddocs.com/mi/clark/Board.nsf/Public</td>\n",
       "      <td>Clarkston Community Schools</td>\n",
       "      <td>248-623-5400</td>\n",
       "      <td>http://www.clarkston.k12.mi.us</td>\n",
       "      <td>False</td>\n",
       "      <td>False</td>\n",
       "    </tr>\n",
       "  </tbody>\n",
       "</table>\n",
       "</div>"
      ],
      "text/plain": [
       "                                                     URL  \\\n",
       "2491   https://go.boarddocs.com/pa/iu12/Board.nsf/Public   \n",
       "926    https://go.boarddocs.com/mi/wake/Board.nsf/Public   \n",
       "641   https://go.boarddocs.com/mi/brand/Board.nsf/Public   \n",
       "3046   https://go.boarddocs.com/pa/iu07/Board.nsf/Public   \n",
       "2069  https://go.boarddocs.com/mi/clark/Board.nsf/Public   \n",
       "\n",
       "                                  title_1                           title_2  \\\n",
       "2491                  Board Policy Manual      Lincoln Intermediate Unit 12   \n",
       "926   Wakefield-Marenisco School District                   (906) 224-7211    \n",
       "641          Brandywine Community Schools                      269-684-7150   \n",
       "3046                        Policy Manual  Westmoreland Intermediate Unit 7   \n",
       "2069          Clarkston Community Schools                      248-623-5400   \n",
       "\n",
       "                           home_website  Title1_has_zipcode  \\\n",
       "2491        https://www.iu12.org/Page/9               False   \n",
       "926            http://www.wmschools.org               False   \n",
       "641    http://www.brandywinebobcats.org               False   \n",
       "3046  https://go.boarddocs.com/pa/iu07/               False   \n",
       "2069     http://www.clarkston.k12.mi.us               False   \n",
       "\n",
       "      Title2_has_zipcode  \n",
       "2491               False  \n",
       "926                False  \n",
       "641                False  \n",
       "3046               False  \n",
       "2069               False  "
      ]
     },
     "execution_count": 571,
     "metadata": {},
     "output_type": "execute_result"
    }
   ],
   "source": [
    "no_zipcode_df[no_zipcode_df[\"title_2\"].str.contains(number_pattern, na=False)].sample(5)"
   ]
  },
  {
   "cell_type": "code",
   "execution_count": 572,
   "metadata": {},
   "outputs": [
    {
     "data": {
      "text/plain": [
       "97"
      ]
     },
     "execution_count": 572,
     "metadata": {},
     "output_type": "execute_result"
    }
   ],
   "source": [
    "# it turns out that they could either be an address with a missing zip code, or phone numbers\n",
    "# there are also misc cases\n",
    "\n",
    "# let's get a conservative (high) bound on the number of addresses that we will miss\n",
    "\n",
    "num_no_zipcode_with_number = no_zipcode_df[no_zipcode_df[\"title_1\"].str.contains(number_pattern, na=False) | no_zipcode_df[\"title_2\"].str.contains(number_pattern, na=False)].shape[0]\n",
    "num_no_zipcode_with_number"
   ]
  },
  {
   "cell_type": "code",
   "execution_count": 573,
   "metadata": {},
   "outputs": [],
   "source": [
    "num_zipcode = df.shape[0] - no_zipcode_df.shape[0]"
   ]
  },
  {
   "cell_type": "code",
   "execution_count": 574,
   "metadata": {},
   "outputs": [
    {
     "name": "stdout",
     "output_type": "stream",
     "text": [
      "Worst case proportion of addresses that we will miss 3.6%\n"
     ]
    }
   ],
   "source": [
    "print(f\"Worst case proportion of addresses that we will miss {num_no_zipcode_with_number/(num_no_zipcode_with_number+num_zipcode)*100:.2}%\")"
   ]
  },
  {
   "cell_type": "code",
   "execution_count": 575,
   "metadata": {},
   "outputs": [
    {
     "data": {
      "text/html": [
       "<div>\n",
       "<style scoped>\n",
       "    .dataframe tbody tr th:only-of-type {\n",
       "        vertical-align: middle;\n",
       "    }\n",
       "\n",
       "    .dataframe tbody tr th {\n",
       "        vertical-align: top;\n",
       "    }\n",
       "\n",
       "    .dataframe thead th {\n",
       "        text-align: right;\n",
       "    }\n",
       "</style>\n",
       "<table border=\"1\" class=\"dataframe\">\n",
       "  <thead>\n",
       "    <tr style=\"text-align: right;\">\n",
       "      <th></th>\n",
       "      <th>URL</th>\n",
       "      <th>title_1</th>\n",
       "      <th>title_2</th>\n",
       "      <th>home_website</th>\n",
       "      <th>Title1_has_zipcode</th>\n",
       "      <th>Title2_has_zipcode</th>\n",
       "      <th>address</th>\n",
       "    </tr>\n",
       "  </thead>\n",
       "  <tbody>\n",
       "    <tr>\n",
       "      <th>379</th>\n",
       "      <td>https://go.boarddocs.com/mo/nwr1/Board.nsf/Public</td>\n",
       "      <td>Northwest School District</td>\n",
       "      <td>4290 Gravois Road, House Springs, MO 63051</td>\n",
       "      <td>www.northwestschools.net</td>\n",
       "      <td>False</td>\n",
       "      <td>True</td>\n",
       "      <td>4290 Gravois Road, House Springs, MO 63051</td>\n",
       "    </tr>\n",
       "    <tr>\n",
       "      <th>211</th>\n",
       "      <td>https://go.boarddocs.com/ny/oriskany/Board.nsf/Public</td>\n",
       "      <td>Oriskany Central School District</td>\n",
       "      <td>1313 Utica Street Oriskany, NY 13424 | 315.768.2058</td>\n",
       "      <td>https://www.oriskanycsd.org</td>\n",
       "      <td>False</td>\n",
       "      <td>True</td>\n",
       "      <td>1313 Utica Street Oriskany, NY 13424 | 315.768.2058</td>\n",
       "    </tr>\n",
       "    <tr>\n",
       "      <th>1832</th>\n",
       "      <td>https://go.boarddocs.com/il/ipsd/Board.nsf/Public</td>\n",
       "      <td>780 Shoreline Drive |Aurora, IL 60504 | 630.375.3000</td>\n",
       "      <td>Indian Prairie School District 204, serving Naperville, Aurora, Bolingbrook, &amp; Plainfield, IL.</td>\n",
       "      <td>http://www.ipsd.org</td>\n",
       "      <td>True</td>\n",
       "      <td>False</td>\n",
       "      <td>780 Shoreline Drive |Aurora, IL 60504 | 630.375.3000</td>\n",
       "    </tr>\n",
       "    <tr>\n",
       "      <th>1576</th>\n",
       "      <td>https://go.boarddocs.com/in/cps/Board.nsf/Public</td>\n",
       "      <td>Crown Point Community School Corporation</td>\n",
       "      <td>NaN</td>\n",
       "      <td>http://www.cps.k12.in.us</td>\n",
       "      <td>False</td>\n",
       "      <td>False</td>\n",
       "      <td>None</td>\n",
       "    </tr>\n",
       "    <tr>\n",
       "      <th>494</th>\n",
       "      <td>https://go.boarddocs.com/il/vose/Board.nsf/Public</td>\n",
       "      <td>Village of South Elgin</td>\n",
       "      <td>10 N. Water Street South Elgin, IL 60177-1602 | 847-742-5780</td>\n",
       "      <td>https://www.southelgin.com</td>\n",
       "      <td>False</td>\n",
       "      <td>True</td>\n",
       "      <td>10 N. Water Street South Elgin, IL 60177-1602 | 847-742-5780</td>\n",
       "    </tr>\n",
       "  </tbody>\n",
       "</table>\n",
       "</div>"
      ],
      "text/plain": [
       "                                                        URL  \\\n",
       "379       https://go.boarddocs.com/mo/nwr1/Board.nsf/Public   \n",
       "211   https://go.boarddocs.com/ny/oriskany/Board.nsf/Public   \n",
       "1832      https://go.boarddocs.com/il/ipsd/Board.nsf/Public   \n",
       "1576       https://go.boarddocs.com/in/cps/Board.nsf/Public   \n",
       "494       https://go.boarddocs.com/il/vose/Board.nsf/Public   \n",
       "\n",
       "                                                   title_1  \\\n",
       "379                              Northwest School District   \n",
       "211                       Oriskany Central School District   \n",
       "1832  780 Shoreline Drive |Aurora, IL 60504 | 630.375.3000   \n",
       "1576              Crown Point Community School Corporation   \n",
       "494                                 Village of South Elgin   \n",
       "\n",
       "                                                                                             title_2  \\\n",
       "379                                                       4290 Gravois Road, House Springs, MO 63051   \n",
       "211                                              1313 Utica Street Oriskany, NY 13424 | 315.768.2058   \n",
       "1832  Indian Prairie School District 204, serving Naperville, Aurora, Bolingbrook, & Plainfield, IL.   \n",
       "1576                                                                                             NaN   \n",
       "494                                     10 N. Water Street South Elgin, IL 60177-1602 | 847-742-5780   \n",
       "\n",
       "                     home_website  Title1_has_zipcode  Title2_has_zipcode  \\\n",
       "379      www.northwestschools.net               False                True   \n",
       "211   https://www.oriskanycsd.org               False                True   \n",
       "1832          http://www.ipsd.org                True               False   \n",
       "1576     http://www.cps.k12.in.us               False               False   \n",
       "494    https://www.southelgin.com               False                True   \n",
       "\n",
       "                                                           address  \n",
       "379                     4290 Gravois Road, House Springs, MO 63051  \n",
       "211            1313 Utica Street Oriskany, NY 13424 | 315.768.2058  \n",
       "1832          780 Shoreline Drive |Aurora, IL 60504 | 630.375.3000  \n",
       "1576                                                          None  \n",
       "494   10 N. Water Street South Elgin, IL 60177-1602 | 847-742-5780  "
      ]
     },
     "execution_count": 575,
     "metadata": {},
     "output_type": "execute_result"
    }
   ],
   "source": [
    "# we put the ones we know are correct at a new address field\n",
    "\n",
    "df[\"address\"] = None\n",
    "df.loc[df['Title1_has_zipcode'], \"address\"] = df[\"title_1\"]\n",
    "df.loc[df['Title2_has_zipcode'], \"address\"] = df[\"title_2\"]\n",
    "df.sample(5)"
   ]
  },
  {
   "cell_type": "code",
   "execution_count": 576,
   "metadata": {},
   "outputs": [],
   "source": [
    "# now, let's try to get the school district name.\n",
    "# let's check if they have the word school\n",
    "\n",
    "df[\"title_1_has_school\"] = df[\"title_1\"].str.contains(\"school\",case=False,na=False)\n",
    "df[\"title_2_has_school\"] = df[\"title_2\"].str.contains(\"school\",case=False,na=False)"
   ]
  },
  {
   "cell_type": "code",
   "execution_count": 577,
   "metadata": {},
   "outputs": [
    {
     "data": {
      "text/plain": [
       "2885"
      ]
     },
     "execution_count": 577,
     "metadata": {},
     "output_type": "execute_result"
    }
   ],
   "source": [
    "# number of rows with schools in at least one col\n",
    "df[df[\"title_1_has_school\"] | df[\"title_2_has_school\"]].shape[0]"
   ]
  },
  {
   "cell_type": "code",
   "execution_count": 578,
   "metadata": {},
   "outputs": [
    {
     "data": {
      "text/plain": [
       "325"
      ]
     },
     "execution_count": 578,
     "metadata": {},
     "output_type": "execute_result"
    }
   ],
   "source": [
    "# number of rows with schools in both cols\n",
    "df[df[\"title_1_has_school\"] & df[\"title_2_has_school\"]].shape[0]"
   ]
  },
  {
   "cell_type": "code",
   "execution_count": 579,
   "metadata": {},
   "outputs": [
    {
     "data": {
      "text/html": [
       "<div>\n",
       "<style scoped>\n",
       "    .dataframe tbody tr th:only-of-type {\n",
       "        vertical-align: middle;\n",
       "    }\n",
       "\n",
       "    .dataframe tbody tr th {\n",
       "        vertical-align: top;\n",
       "    }\n",
       "\n",
       "    .dataframe thead th {\n",
       "        text-align: right;\n",
       "    }\n",
       "</style>\n",
       "<table border=\"1\" class=\"dataframe\">\n",
       "  <thead>\n",
       "    <tr style=\"text-align: right;\">\n",
       "      <th></th>\n",
       "      <th>URL</th>\n",
       "      <th>title_1</th>\n",
       "      <th>title_2</th>\n",
       "      <th>home_website</th>\n",
       "      <th>Title1_has_zipcode</th>\n",
       "      <th>Title2_has_zipcode</th>\n",
       "      <th>address</th>\n",
       "      <th>title_1_has_school</th>\n",
       "      <th>title_2_has_school</th>\n",
       "    </tr>\n",
       "  </thead>\n",
       "  <tbody>\n",
       "    <tr>\n",
       "      <th>1261</th>\n",
       "      <td>https://go.boarddocs.com/mi/rave/Board.nsf/Public</td>\n",
       "      <td>School Board Policies and Guidelines</td>\n",
       "      <td>Ravenna Public Schools</td>\n",
       "      <td>http://www.ravennaschools.org</td>\n",
       "      <td>False</td>\n",
       "      <td>False</td>\n",
       "      <td>None</td>\n",
       "      <td>True</td>\n",
       "      <td>True</td>\n",
       "    </tr>\n",
       "    <tr>\n",
       "      <th>1354</th>\n",
       "      <td>https://go.boarddocs.com/in/ncsc/Board.nsf/Public</td>\n",
       "      <td>School Board Policies</td>\n",
       "      <td>Nettle Creek School Corporation</td>\n",
       "      <td>https://www.nettlecreek.k12.in.us</td>\n",
       "      <td>False</td>\n",
       "      <td>False</td>\n",
       "      <td>None</td>\n",
       "      <td>True</td>\n",
       "      <td>True</td>\n",
       "    </tr>\n",
       "    <tr>\n",
       "      <th>3029</th>\n",
       "      <td>https://go.boarddocs.com/ny/brcsny/Board.nsf/Public</td>\n",
       "      <td>Bolivar-Richburg Central School District</td>\n",
       "      <td>100 School Street, Bolivar, NY 14715 Phone: 585-928-2561</td>\n",
       "      <td>http://www.brcs.wnyric.org</td>\n",
       "      <td>False</td>\n",
       "      <td>True</td>\n",
       "      <td>100 School Street, Bolivar, NY 14715 Phone: 585-928-2561</td>\n",
       "      <td>True</td>\n",
       "      <td>True</td>\n",
       "    </tr>\n",
       "    <tr>\n",
       "      <th>3103</th>\n",
       "      <td>https://go.boarddocs.com/pa/stlv/Board.nsf/Public</td>\n",
       "      <td>School Board Policy Manual</td>\n",
       "      <td>Steel Valley School District</td>\n",
       "      <td>http://steelvalleysd.org/</td>\n",
       "      <td>False</td>\n",
       "      <td>False</td>\n",
       "      <td>None</td>\n",
       "      <td>True</td>\n",
       "      <td>True</td>\n",
       "    </tr>\n",
       "    <tr>\n",
       "      <th>2138</th>\n",
       "      <td>https://go.boarddocs.com/pa/blkv/Board.nsf/Public</td>\n",
       "      <td>School Board Policy Manual</td>\n",
       "      <td>Blacklick Valley School District</td>\n",
       "      <td>http://www.bvsd.k12.pa.us</td>\n",
       "      <td>False</td>\n",
       "      <td>False</td>\n",
       "      <td>None</td>\n",
       "      <td>True</td>\n",
       "      <td>True</td>\n",
       "    </tr>\n",
       "  </tbody>\n",
       "</table>\n",
       "</div>"
      ],
      "text/plain": [
       "                                                      URL  \\\n",
       "1261    https://go.boarddocs.com/mi/rave/Board.nsf/Public   \n",
       "1354    https://go.boarddocs.com/in/ncsc/Board.nsf/Public   \n",
       "3029  https://go.boarddocs.com/ny/brcsny/Board.nsf/Public   \n",
       "3103    https://go.boarddocs.com/pa/stlv/Board.nsf/Public   \n",
       "2138    https://go.boarddocs.com/pa/blkv/Board.nsf/Public   \n",
       "\n",
       "                                       title_1  \\\n",
       "1261      School Board Policies and Guidelines   \n",
       "1354                     School Board Policies   \n",
       "3029  Bolivar-Richburg Central School District   \n",
       "3103                School Board Policy Manual   \n",
       "2138                School Board Policy Manual   \n",
       "\n",
       "                                                       title_2  \\\n",
       "1261                                    Ravenna Public Schools   \n",
       "1354                           Nettle Creek School Corporation   \n",
       "3029  100 School Street, Bolivar, NY 14715 Phone: 585-928-2561   \n",
       "3103                              Steel Valley School District   \n",
       "2138                          Blacklick Valley School District   \n",
       "\n",
       "                           home_website  Title1_has_zipcode  \\\n",
       "1261      http://www.ravennaschools.org               False   \n",
       "1354  https://www.nettlecreek.k12.in.us               False   \n",
       "3029         http://www.brcs.wnyric.org               False   \n",
       "3103         http://steelvalleysd.org/                False   \n",
       "2138          http://www.bvsd.k12.pa.us               False   \n",
       "\n",
       "      Title2_has_zipcode  \\\n",
       "1261               False   \n",
       "1354               False   \n",
       "3029                True   \n",
       "3103               False   \n",
       "2138               False   \n",
       "\n",
       "                                                       address  \\\n",
       "1261                                                      None   \n",
       "1354                                                      None   \n",
       "3029  100 School Street, Bolivar, NY 14715 Phone: 585-928-2561   \n",
       "3103                                                      None   \n",
       "2138                                                      None   \n",
       "\n",
       "      title_1_has_school  title_2_has_school  \n",
       "1261                True                True  \n",
       "1354                True                True  \n",
       "3029                True                True  \n",
       "3103                True                True  \n",
       "2138                True                True  "
      ]
     },
     "execution_count": 579,
     "metadata": {},
     "output_type": "execute_result"
    }
   ],
   "source": [
    "# check out these rows with both cols having schools\n",
    "df[df[\"title_1_has_school\"] & df[\"title_2_has_school\"]].sample(5)"
   ]
  },
  {
   "cell_type": "code",
   "execution_count": 580,
   "metadata": {},
   "outputs": [
    {
     "data": {
      "text/plain": [
       "title_1\n",
       "School Board Policy Manual              103\n",
       "Policy Manual                            49\n",
       "School Board Policies and Guidelines     35\n",
       "School Board Policies                    18\n",
       "Board Policy and Guidelines               8\n",
       "BoardDocs PL                              8\n",
       "School Board Policies & Bylaws            6\n",
       "School Board Policies and Bylaws          6\n",
       "Board Policy                              5\n",
       "Board Policies and Guidelines             5\n",
       "Name: count, dtype: int64"
      ]
     },
     "execution_count": 580,
     "metadata": {},
     "output_type": "execute_result"
    }
   ],
   "source": [
    "# there is boilerplate text like School Board Policies\n",
    "# let's try to get the top few popular ones and remove them\n",
    "\n",
    "df[\"title_1\"].value_counts().head(10)"
   ]
  },
  {
   "cell_type": "code",
   "execution_count": 581,
   "metadata": {},
   "outputs": [
    {
     "data": {
      "text/plain": [
       "title_2\n",
       "                                    22\n",
       "Board Policies                      19\n",
       "School Board Policies               16\n",
       "Board of Education                  12\n",
       "NEOLA Board Policies                 8\n",
       "Board of Education Policies          8\n",
       "Board of Education Policy Manual     8\n",
       "School Board Policy Manual           5\n",
       "Policy Manual                        4\n",
       "eGovernance Site                     4\n",
       "Name: count, dtype: int64"
      ]
     },
     "execution_count": 581,
     "metadata": {},
     "output_type": "execute_result"
    }
   ],
   "source": [
    "df[\"title_2\"].value_counts().head(10)"
   ]
  },
  {
   "cell_type": "code",
   "execution_count": 582,
   "metadata": {},
   "outputs": [
    {
     "data": {
      "text/plain": [
       "title_1\n",
       "School District Policies                               5\n",
       "Board Policies and Bylaws                              4\n",
       "Board Policies                                         4\n",
       "School Board Policies & Guidelines                     4\n",
       "eGovernance Site                                       4\n",
       "Board Policy Manual                                    4\n",
       "Board Policies & Bylaws                                3\n",
       "School Board Policy                                    3\n",
       "School Board Policies and Administrative Guidelines    3\n",
       "Board of Education Policies and Guidelines             3\n",
       "Name: count, dtype: int64"
      ]
     },
     "execution_count": 582,
     "metadata": {},
     "output_type": "execute_result"
    }
   ],
   "source": [
    "# let's remove these\n",
    "\n",
    "remove_title_1_list = df[\"title_1\"].value_counts().head(10).index\n",
    "df.loc[df[\"title_1\"].isin(remove_title_1_list), \"title_1\"] = None\n",
    "# let's check what's left\n",
    "df[\"title_1\"].value_counts().head(10)"
   ]
  },
  {
   "cell_type": "code",
   "execution_count": 583,
   "metadata": {},
   "outputs": [
    {
     "data": {
      "text/plain": [
       "title_1\n",
       "                                                                     3\n",
       "School District Policy Manual                                        3\n",
       "School Board Policy and Guidelines                                   3\n",
       "School Board Bylaws and Policies                                     2\n",
       "Cleveland Metropolitan School District                               2\n",
       "Board of Education                                                   2\n",
       "Board Policies & Guidelines                                          2\n",
       "1300 Sherman Street Ste 222 | Sturgis, SD  57785                     2\n",
       "Policy Manual and Agendas                                            2\n",
       "60 Jefferson Street, Suite 3• Monticello, NY 12701 • 845-794-7700    2\n",
       "Name: count, dtype: int64"
      ]
     },
     "execution_count": 583,
     "metadata": {},
     "output_type": "execute_result"
    }
   ],
   "source": [
    "# let's remove these\n",
    "remove_title_1_list = df[\"title_1\"].value_counts().head(10).index\n",
    "df.loc[df[\"title_1\"].isin(remove_title_1_list), \"title_1\"] = None\n",
    "# let's check what's left\n",
    "df[\"title_1\"].value_counts().head(10)"
   ]
  },
  {
   "cell_type": "code",
   "execution_count": 584,
   "metadata": {},
   "outputs": [
    {
     "data": {
      "text/plain": [
       "Index([' ', 'School District Policy Manual',\n",
       "       'School Board Policy and Guidelines',\n",
       "       'School Board Bylaws and Policies',\n",
       "       'Cleveland Metropolitan School District', 'Board of Education',\n",
       "       'Board Policies & Guidelines'],\n",
       "      dtype='object', name='title_1')"
      ]
     },
     "execution_count": 584,
     "metadata": {},
     "output_type": "execute_result"
    }
   ],
   "source": [
    "# let's remove the first few\n",
    "remove_title_1_list = df[\"title_1\"].value_counts().head(7).index\n",
    "remove_title_1_list"
   ]
  },
  {
   "cell_type": "code",
   "execution_count": 585,
   "metadata": {},
   "outputs": [
    {
     "data": {
      "text/plain": [
       "title_1\n",
       "School Board By-Laws and Policies                                                              2\n",
       "1300 Sherman Street Ste 222 | Sturgis, SD  57785                                               2\n",
       "60 Jefferson Street, Suite 3• Monticello, NY 12701 • 845-794-7700                              2\n",
       "Policy Manual and Agendas                                                                      2\n",
       "1725 North Dodge St. |  Iowa City, IA 52245 | p (319) 688-1000 | f (319) 688-1009              2\n",
       "Board of Education Policies                                                                    2\n",
       "1290 Ridder Park Drive | San Jose, CA 95131-2304 | (408) 453-6500                              2\n",
       "6301 Springside Avenue | Downers Grove, IL 60516 | Ph: (630) 795-7100  | Fx: (630) 795-7199    2\n",
       "School Board Policy and Bylaws                                                                 2\n",
       "200 Reid Street | Palatka, FL 32177 | (386) 329-0602                                           2\n",
       "Name: count, dtype: int64"
      ]
     },
     "execution_count": 585,
     "metadata": {},
     "output_type": "execute_result"
    }
   ],
   "source": [
    "df.loc[df[\"title_1\"].isin(remove_title_1_list), \"title_1\"] = None\n",
    "# let's check what's left\n",
    "df[\"title_1\"].value_counts().head(10)"
   ]
  },
  {
   "cell_type": "code",
   "execution_count": 586,
   "metadata": {},
   "outputs": [
    {
     "data": {
      "text/plain": [
       "title_1\n",
       "60 Jefferson Street, Suite 3• Monticello, NY 12701 • 845-794-7700                              2\n",
       "200 Reid Street | Palatka, FL 32177 | (386) 329-0602                                           2\n",
       "6301 Springside Avenue | Downers Grove, IL 60516 | Ph: (630) 795-7100  | Fx: (630) 795-7199    2\n",
       "2680 West County Road 476 | Bushnell, Florida 33513 | Ph: 352-793-2315  Fx: 352-793-4180       2\n",
       "1300 Sherman Street Ste 222 | Sturgis, SD  57785                                               2\n",
       "                                                                                              ..\n",
       "East Valley School District #361                                                               1\n",
       "Moraga School District                                                                         1\n",
       "1255 Superior Ave | Calumet City, IL 60409 | (708) 868-7500                                    1\n",
       "Hawthorn School District 73                                                                    1\n",
       "41770 Baldridge Street | Leonardtown, MD 20650 | 301-475-4200                                  1\n",
       "Name: count, Length: 3112, dtype: int64"
      ]
     },
     "execution_count": 586,
     "metadata": {},
     "output_type": "execute_result"
    }
   ],
   "source": [
    "# pick those\n",
    "remove_title_1_list = [\n",
    "    \"School Board By-Laws and Policies\",\n",
    "    \"Policy Manual and Agendas\",\n",
    "    \"Board of Education Policies\",\n",
    "    \"School Board Policy and Bylaws\",\n",
    "    \"Board Policy and Bylaws\",\n",
    "    \"Board Policies and By-Laws\",\n",
    "    \"School Board Policies \"\n",
    "]\n",
    "df.loc[df[\"title_1\"].isin(remove_title_1_list), \"title_1\"] = None\n",
    "# let's check what's left\n",
    "df[\"title_1\"].value_counts()"
   ]
  },
  {
   "cell_type": "code",
   "execution_count": 587,
   "metadata": {},
   "outputs": [
    {
     "data": {
      "text/plain": [
       "Index([' ', 'Board Policies', 'School Board Policies', 'Board of Education',\n",
       "       'NEOLA Board Policies', 'Board of Education Policies',\n",
       "       'Board of Education Policy Manual', 'School Board Policy Manual',\n",
       "       'Policy Manual', 'eGovernance Site'],\n",
       "      dtype='object', name='title_2')"
      ]
     },
     "execution_count": 587,
     "metadata": {},
     "output_type": "execute_result"
    }
   ],
   "source": [
    "# do this for title_2\n",
    "# let's remove these\n",
    "# NOTE: NEOLOA Board Policies might provide coarse information on whether the school could be located\n",
    "\n",
    "remove_title_2_list = df[\"title_2\"].value_counts().head(10).index\n",
    "remove_title_2_list"
   ]
  },
  {
   "cell_type": "code",
   "execution_count": 588,
   "metadata": {},
   "outputs": [
    {
     "data": {
      "text/plain": [
       "title_2\n",
       "Board of Education Meetings                              3\n",
       "Board of Directors                                       3\n",
       "Board of Education Policy                                3\n",
       "Bylaws & Policies                                        3\n",
       "Central Valley School District                           2\n",
       "Iowa City Community School District                      2\n",
       "Arlington Public Schools                                 2\n",
       "Meetings and Information                                 2\n",
       "8485 Homestead, Zeeland, MI 49464 Phone: 616-748-5637    2\n",
       "Meade County, South Dakota                               2\n",
       "Name: count, dtype: int64"
      ]
     },
     "execution_count": 588,
     "metadata": {},
     "output_type": "execute_result"
    }
   ],
   "source": [
    "df.loc[df[\"title_2\"].isin(remove_title_2_list), \"title_2\"] = None\n",
    "# let's check what's left\n",
    "df[\"title_2\"].value_counts().head(10)"
   ]
  },
  {
   "cell_type": "code",
   "execution_count": 589,
   "metadata": {},
   "outputs": [
    {
     "data": {
      "text/plain": [
       "title_2\n",
       "Green Local Schools                    2\n",
       "Putnam County School District          2\n",
       "Iowa City Community School District    2\n",
       "Meetings and Information               2\n",
       "Arlington Public Schools               2\n",
       "Neola Board Policies                   2\n",
       "Meade County, South Dakota             2\n",
       "Central Valley School District         2\n",
       "Meetings, Agendas and Information      2\n",
       "Board Policy Manual                    2\n",
       "Name: count, dtype: int64"
      ]
     },
     "execution_count": 589,
     "metadata": {},
     "output_type": "execute_result"
    }
   ],
   "source": [
    "remove_title_2_list = df[\"title_2\"].value_counts().head(4).index\n",
    "df.loc[df[\"title_2\"].isin(remove_title_2_list), \"title_2\"] = None\n",
    "# let's check what's left\n",
    "df[\"title_2\"].value_counts().head(10)"
   ]
  },
  {
   "cell_type": "code",
   "execution_count": 590,
   "metadata": {},
   "outputs": [
    {
     "data": {
      "text/plain": [
       "title_2\n",
       "Community High School District 99                        2\n",
       "NEOLA Board Policy                                       2\n",
       "Iowa City Community School District                      2\n",
       "Meade County, South Dakota                               2\n",
       "Neola Board Policies                                     2\n",
       "Board of Education Policies                              2\n",
       "Central Valley School District                           2\n",
       "Green Local Schools                                      2\n",
       "8485 Homestead, Zeeland, MI 49464 Phone: 616-748-5637    2\n",
       "Sumter District Schools                                  2\n",
       "Name: count, dtype: int64"
      ]
     },
     "execution_count": 590,
     "metadata": {},
     "output_type": "execute_result"
    }
   ],
   "source": [
    "remove_title_2_list = [\n",
    "    \"Meetings and Information\",\n",
    "    \"Meetings, Agendas and Information\",\n",
    "    \"Board Policy Manual\"\n",
    "]\n",
    "df.loc[df[\"title_2\"].isin(remove_title_2_list), \"title_2\"] = None\n",
    "# let's check what's left\n",
    "df[\"title_2\"].value_counts().head(10)"
   ]
  },
  {
   "cell_type": "code",
   "execution_count": null,
   "metadata": {},
   "outputs": [],
   "source": [
    "# now, we check for the intersections again"
   ]
  }
 ],
 "metadata": {
  "kernelspec": {
   "display_name": "Python (cepr_schoolboard)",
   "language": "python",
   "name": "cepr_schoolboard"
  },
  "language_info": {
   "codemirror_mode": {
    "name": "ipython",
    "version": 3
   },
   "file_extension": ".py",
   "mimetype": "text/x-python",
   "name": "python",
   "nbconvert_exporter": "python",
   "pygments_lexer": "ipython3",
   "version": "3.13.1"
  }
 },
 "nbformat": 4,
 "nbformat_minor": 2
}
