{
 "cells": [
  {
   "cell_type": "markdown",
   "metadata": {},
   "source": [
    "This notebook searches Google to get the boarddocs website of each school district. We iteratively work on the csv marked as \"working\" to get the schools that we didn't get to before because of errors.\n",
    "\n",
    "Input:\n",
    "- `school_district_list.html`\n",
    "- `working_school_districts_with_boarddocs_scraped.csv`\n",
    "\n",
    "Output:\n",
    "- `working_school_districts_with_boarddocs_scraped.csv`\n",
    "- `school_districts_with_boarddocs_scraped.csv`"
   ]
  },
  {
   "cell_type": "code",
   "execution_count": 213,
   "metadata": {},
   "outputs": [],
   "source": [
    "import pandas as pd\n",
    "import requests\n",
    "from tqdm import tqdm\n",
    "from dotenv import load_dotenv\n",
    "import os\n",
    "\n",
    "# Load environment variables from .env file\n",
    "load_dotenv()\n",
    "\n",
    "# Get API credentials\n",
    "google_api_key = os.getenv(\"GOOGLE_API_KEY\")\n",
    "google_cse_id = os.getenv(\"GOOGLE_CSE_ID\")\n",
    "\n",
    "if not google_api_key or not google_cse_id:\n",
    "    raise ValueError(\"API Key or CSE ID not found. Ensure they are set in the environment.\")\n",
    "\n",
    "# Function to perform Google API search\n",
    "def google_search(query):\n",
    "    url = \"https://www.googleapis.com/customsearch/v1\"\n",
    "    params = {\n",
    "        \"key\": google_api_key,\n",
    "        \"cx\": google_cse_id,\n",
    "        \"q\": query,\n",
    "        \"num\": 1,  # Fetch only the top result\n",
    "    }\n",
    "    try:\n",
    "        response = requests.get(url, params=params)\n",
    "        response.raise_for_status()\n",
    "        results = response.json()\n",
    "        if \"items\" in results:\n",
    "            return results[\"items\"][0][\"link\"]\n",
    "    except Exception as e:\n",
    "        print(f\"Error for query '{query}': {e}\")\n",
    "    return None"
   ]
  },
  {
   "cell_type": "code",
   "execution_count": 214,
   "metadata": {},
   "outputs": [],
   "source": [
    "# Check if the file exists\n",
    "working_filename = \"working_school_districts_with_boarddocs_scraped.csv\"\n",
    "\n",
    "if not os.path.exists(working_filename):\n",
    "    # Load the school districts CSV\n",
    "    df = pd.read_csv(\"school_districts.csv\")\n",
    "    # Add an empty column called 'url' to the dataframe\n",
    "    df['url'] = ''\n",
    "    df['url'] = df['url'].astype('str')\n",
    "    # Write the dataframe to a CSV file\n",
    "    df.to_csv(working_filename, index=False)"
   ]
  },
  {
   "cell_type": "code",
   "execution_count": 215,
   "metadata": {},
   "outputs": [],
   "source": [
    "# Load the working copy\n",
    "df = pd.read_csv(working_filename)"
   ]
  },
  {
   "cell_type": "code",
   "execution_count": 216,
   "metadata": {},
   "outputs": [
    {
     "data": {
      "text/plain": [
       "school_district    object\n",
       "state              object\n",
       "url                object\n",
       "dtype: object"
      ]
     },
     "execution_count": 216,
     "metadata": {},
     "output_type": "execute_result"
    }
   ],
   "source": [
    "# get them to be objects as dtype\n",
    "df = df.astype('object')\n",
    "df.dtypes"
   ]
  },
  {
   "cell_type": "code",
   "execution_count": 217,
   "metadata": {},
   "outputs": [
    {
     "name": "stdout",
     "output_type": "stream",
     "text": [
      "Total number of all school boards: 11757\n"
     ]
    }
   ],
   "source": [
    "print(f\"Total number of all school boards: {df.shape[0]}\")"
   ]
  },
  {
   "cell_type": "code",
   "execution_count": 218,
   "metadata": {},
   "outputs": [
    {
     "name": "stdout",
     "output_type": "stream",
     "text": [
      "Number of remaining school boards to scrape: 11718\n"
     ]
    }
   ],
   "source": [
    "# get the remaining ones\n",
    "remaining_df = df[df['url'].isna()]\n",
    "print(f\"Number of remaining school boards to scrape: {remaining_df.shape[0]}\")"
   ]
  },
  {
   "cell_type": "code",
   "execution_count": 219,
   "metadata": {},
   "outputs": [],
   "source": [
    "# test with 10\n",
    "remaining_df = remaining_df.sample(10)"
   ]
  },
  {
   "cell_type": "code",
   "execution_count": null,
   "metadata": {},
   "outputs": [],
   "source": [
    "# Prepare the queries\n",
    "queries = [f'{district} \"boarddocs\"' for district in remaining_df[\"school_district\"]]\n",
    "\n",
    "# Perform Google search for each school district with tqdm progress bar\n",
    "results = []\n",
    "for query in tqdm(queries, desc=\"Searching Google\", unit=\"query\"):\n",
    "    results.append(google_search(query))\n",
    "\n",
    "# Add the results to the DataFrame\n",
    "remaining_df[\"url\"] = results"
   ]
  },
  {
   "cell_type": "code",
   "execution_count": 221,
   "metadata": {},
   "outputs": [
    {
     "name": "stdout",
     "output_type": "stream",
     "text": [
      "Number of new non-NA results: 0\n"
     ]
    }
   ],
   "source": [
    "# only keep the ones with non NA\n",
    "remaining_df = remaining_df[~remaining_df['url'].isna()]\n",
    "print(f\"Number of new non-NA results: {remaining_df.shape[0]}\")"
   ]
  },
  {
   "cell_type": "code",
   "execution_count": 222,
   "metadata": {},
   "outputs": [],
   "source": [
    "# Remove rows that are in remaining_df[\"school_district\"]\n",
    "df = df[~df[\"school_district\"].isin(remaining_df[\"school_district\"])]\n",
    "\n",
    "# Concatenate remaining_df to df\n",
    "df = pd.concat([df, remaining_df], ignore_index=True)"
   ]
  },
  {
   "cell_type": "code",
   "execution_count": 223,
   "metadata": {},
   "outputs": [],
   "source": [
    "# Merge remaining_df with df on 'school_district' and 'state' columns\n",
    "df.update(remaining_df.set_index('school_district'), overwrite=False)"
   ]
  },
  {
   "cell_type": "code",
   "execution_count": 224,
   "metadata": {},
   "outputs": [],
   "source": [
    "# Save the results to the working CSV\n",
    "df.to_csv(working_filename, index=False)"
   ]
  },
  {
   "cell_type": "code",
   "execution_count": 225,
   "metadata": {},
   "outputs": [
    {
     "name": "stdout",
     "output_type": "stream",
     "text": [
      "Percentage of total school boards scrapped: 0.33%\n"
     ]
    }
   ],
   "source": [
    "# percentage done\n",
    "percentage_done = str(round((df[~df[\"url\"].isna()].shape[0] / df.shape[0])*100,2)) + '%'\n",
    "print(f\"Percentage of total school boards scrapped: {percentage_done}\")"
   ]
  }
 ],
 "metadata": {
  "kernelspec": {
   "display_name": "Python (cepr_schoolboard)",
   "language": "python",
   "name": "cepr_schoolboard"
  },
  "language_info": {
   "codemirror_mode": {
    "name": "ipython",
    "version": 3
   },
   "file_extension": ".py",
   "mimetype": "text/x-python",
   "name": "python",
   "nbconvert_exporter": "python",
   "pygments_lexer": "ipython3",
   "version": "3.13.1"
  }
 },
 "nbformat": 4,
 "nbformat_minor": 2
}
