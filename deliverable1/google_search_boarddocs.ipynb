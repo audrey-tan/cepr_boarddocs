{
 "cells": [
  {
   "cell_type": "markdown",
   "metadata": {},
   "source": [
    "This notebook searches Google to get the boarddocs website of each school district. We iteratively work on the csv marked as \"working\" to get the schools that we didn't get to before because of errors.\n",
    "\n",
    "Input:\n",
    "- `kaggle_school_districts.csv`\n",
    "- `working_school_districts_with_boarddocs_scraped.csv`\n",
    "\n",
    "Output:\n",
    "- `working_school_districts_with_boarddocs_scraped.csv`\n",
    "- `school_districts_with_boarddocs_scraped.csv`"
   ]
  },
  {
   "cell_type": "code",
   "execution_count": 523,
   "metadata": {},
   "outputs": [],
   "source": [
    "import pandas as pd\n",
    "import requests\n",
    "from tqdm import tqdm\n",
    "from dotenv import load_dotenv\n",
    "import os\n",
    "import random\n",
    "\n",
    "# Load environment variables from .env file\n",
    "load_dotenv()\n",
    "\n",
    "# Get API credentials\n",
    "google_api_key = os.getenv(\"GOOGLE_API_KEY\")\n",
    "google_cse_id = os.getenv(\"GOOGLE_CSE_ID\")\n",
    "\n",
    "if not google_api_key or not google_cse_id:\n",
    "    raise ValueError(\"API Key or CSE ID not found. Ensure they are set in the environment.\")\n",
    "\n",
    "\n",
    "# Function to perform Google API search\n",
    "def google_search(query, user_id=0):\n",
    "    url = \"https://customsearch.googleapis.com/customsearch/v1\"\n",
    "    \n",
    "    params = {\n",
    "        \"key\": google_api_key,\n",
    "        \"cx\": google_cse_id,\n",
    "        \"q\": query,\n",
    "        \"num\": 1,  # Fetch only the top result\n",
    "    }\n",
    "    \n",
    "    try:\n",
    "        response = requests.get(url, params=params)\n",
    "        response.raise_for_status()\n",
    "        results = response.json()\n",
    "        if \"items\" in results:\n",
    "            return results[\"items\"][0][\"link\"]\n",
    "    except Exception as e:\n",
    "        # before printing the error, remove any secrets\n",
    "        error_string = str(e)\n",
    "        # error_string = error_string.replace(google_api_key, \"REDACTED_GOOGLE_API_KEY\")\n",
    "        # error_string = error_string.replace(google_cse_id, \"REDACTED_GOOGLE_CSE_KEY\")\n",
    "        print(f\"Error for query '{query}': {error_string}\")\n",
    "    return None"
   ]
  },
  {
   "cell_type": "code",
   "execution_count": 524,
   "metadata": {},
   "outputs": [],
   "source": [
    "# Check if the file exists\n",
    "working_filename = \"working_school_districts_with_boarddocs_scraped.csv\"\n",
    "\n",
    "if not os.path.exists(working_filename):\n",
    "    # Load the school districts CSV\n",
    "    df = pd.read_csv(\"lea_boarddocs_queries.csv\")\n",
    "    # Add an empty column called 'url' to the dataframe\n",
    "    df['url'] = ''\n",
    "    df['url'] = df['url'].astype('str')\n",
    "    # Write the dataframe to a CSV file\n",
    "    df.to_csv(working_filename, index=False)"
   ]
  },
  {
   "cell_type": "code",
   "execution_count": 525,
   "metadata": {},
   "outputs": [],
   "source": [
    "# Load the working copy\n",
    "df = pd.read_csv(working_filename)"
   ]
  },
  {
   "cell_type": "code",
   "execution_count": 526,
   "metadata": {},
   "outputs": [
    {
     "data": {
      "text/plain": [
       "LEA_NAME     object\n",
       "LEAID        object\n",
       "STATENAME    object\n",
       "url          object\n",
       "dtype: object"
      ]
     },
     "execution_count": 526,
     "metadata": {},
     "output_type": "execute_result"
    }
   ],
   "source": [
    "# get them to be objects as dtype\n",
    "df = df.astype('object')\n",
    "df.dtypes"
   ]
  },
  {
   "cell_type": "code",
   "execution_count": 527,
   "metadata": {},
   "outputs": [
    {
     "name": "stdout",
     "output_type": "stream",
     "text": [
      "Total number of all school boards: 19637\n"
     ]
    }
   ],
   "source": [
    "print(f\"Total number of all school boards: {df.shape[0]}\")"
   ]
  },
  {
   "cell_type": "code",
   "execution_count": 528,
   "metadata": {},
   "outputs": [
    {
     "name": "stdout",
     "output_type": "stream",
     "text": [
      "Number of remaining school boards to scrape: 6195\n"
     ]
    }
   ],
   "source": [
    "# get the remaining ones\n",
    "remaining_df = df[df['url'].isna()]\n",
    "print(f\"Number of remaining school boards to scrape: {remaining_df.shape[0]}\")"
   ]
  },
  {
   "cell_type": "code",
   "execution_count": 529,
   "metadata": {},
   "outputs": [],
   "source": [
    "# test with 10\n",
    "remaining_df = remaining_df.sample(1900)"
   ]
  },
  {
   "cell_type": "code",
   "execution_count": null,
   "metadata": {},
   "outputs": [],
   "source": [
    "# Prepare the queries\n",
    "import time\n",
    "\n",
    "queries = remaining_df[\"LEA_NAME\"]\n",
    "\n",
    "# Perform Google search for each school district with tqdm progress bar\n",
    "results = []\n",
    "sleep_flag = True\n",
    "for query in tqdm(queries, desc=\"Searching Google\", unit=\"query\"):\n",
    "    # sleep will introduce the lag so that we hit right at the rate limit by Google\n",
    "    if sleep_flag:\n",
    "        # 60 seconds per 100 operations\n",
    "        # time.sleep(60/100)\n",
    "        # time.sleep(60/200)\n",
    "        # optimized to sleep for less by including computation time\n",
    "        # should be 25% faster\n",
    "        time.sleep(0.4)\n",
    "    results.append(google_search(query))\n",
    "\n",
    "# Add the results to the DataFrame\n",
    "remaining_df[\"url\"] = results"
   ]
  },
  {
   "cell_type": "code",
   "execution_count": 531,
   "metadata": {},
   "outputs": [
    {
     "data": {
      "text/html": [
       "<div>\n",
       "<style scoped>\n",
       "    .dataframe tbody tr th:only-of-type {\n",
       "        vertical-align: middle;\n",
       "    }\n",
       "\n",
       "    .dataframe tbody tr th {\n",
       "        vertical-align: top;\n",
       "    }\n",
       "\n",
       "    .dataframe thead th {\n",
       "        text-align: right;\n",
       "    }\n",
       "</style>\n",
       "<table border=\"1\" class=\"dataframe\">\n",
       "  <thead>\n",
       "    <tr style=\"text-align: right;\">\n",
       "      <th></th>\n",
       "      <th>LEA_NAME</th>\n",
       "      <th>LEAID</th>\n",
       "      <th>STATENAME</th>\n",
       "      <th>url</th>\n",
       "    </tr>\n",
       "  </thead>\n",
       "  <tbody>\n",
       "    <tr>\n",
       "      <th>3251</th>\n",
       "      <td>MIRABILE C-1</td>\n",
       "      <td>2921030</td>\n",
       "      <td>MISSOURI</td>\n",
       "      <td>https://go.boarddocs.com/ny/crboces/Board.nsf/...</td>\n",
       "    </tr>\n",
       "    <tr>\n",
       "      <th>2781</th>\n",
       "      <td>Crawford AuSable Schools</td>\n",
       "      <td>2611030</td>\n",
       "      <td>MICHIGAN</td>\n",
       "      <td>https://www.boarddocs.com/mi/casd/Board.nsf/Pu...</td>\n",
       "    </tr>\n",
       "    <tr>\n",
       "      <th>1598</th>\n",
       "      <td>Illini Central CUSD 189</td>\n",
       "      <td>1700113</td>\n",
       "      <td>ILLINOIS</td>\n",
       "      <td>None</td>\n",
       "    </tr>\n",
       "    <tr>\n",
       "      <th>3374</th>\n",
       "      <td>Dawson H S</td>\n",
       "      <td>3008340</td>\n",
       "      <td>MONTANA</td>\n",
       "      <td>https://go.boarddocs.com/ga/musc/Board.nsf/fil...</td>\n",
       "    </tr>\n",
       "    <tr>\n",
       "      <th>3227</th>\n",
       "      <td>HAYTI R-II</td>\n",
       "      <td>2913800</td>\n",
       "      <td>MISSOURI</td>\n",
       "      <td>https://go.boarddocs.com/mo/foxc6/Board.nsf/fi...</td>\n",
       "    </tr>\n",
       "  </tbody>\n",
       "</table>\n",
       "</div>"
      ],
      "text/plain": [
       "                      LEA_NAME    LEAID STATENAME  \\\n",
       "3251              MIRABILE C-1  2921030  MISSOURI   \n",
       "2781  Crawford AuSable Schools  2611030  MICHIGAN   \n",
       "1598   Illini Central CUSD 189  1700113  ILLINOIS   \n",
       "3374                Dawson H S  3008340   MONTANA   \n",
       "3227                HAYTI R-II  2913800  MISSOURI   \n",
       "\n",
       "                                                    url  \n",
       "3251  https://go.boarddocs.com/ny/crboces/Board.nsf/...  \n",
       "2781  https://www.boarddocs.com/mi/casd/Board.nsf/Pu...  \n",
       "1598                                               None  \n",
       "3374  https://go.boarddocs.com/ga/musc/Board.nsf/fil...  \n",
       "3227  https://go.boarddocs.com/mo/foxc6/Board.nsf/fi...  "
      ]
     },
     "execution_count": 531,
     "metadata": {},
     "output_type": "execute_result"
    }
   ],
   "source": [
    "# show a sample of results\n",
    "remaining_df.sample(5)"
   ]
  },
  {
   "cell_type": "code",
   "execution_count": 532,
   "metadata": {},
   "outputs": [
    {
     "name": "stdout",
     "output_type": "stream",
     "text": [
      "Number of new non-NA results: 1421\n"
     ]
    }
   ],
   "source": [
    "# only keep the ones with non NA\n",
    "remaining_df = remaining_df[~remaining_df['url'].isna()]\n",
    "print(f\"Number of new non-NA results: {remaining_df.shape[0]}\")"
   ]
  },
  {
   "cell_type": "code",
   "execution_count": 533,
   "metadata": {},
   "outputs": [],
   "source": [
    "# Remove rows that are in remaining_df[\"school_district\"]\n",
    "df = df[~df[\"LEAID\"].isin(remaining_df[\"LEAID\"])]\n",
    "\n",
    "# Concatenate remaining_df to df\n",
    "df = pd.concat([df, remaining_df], ignore_index=True)"
   ]
  },
  {
   "cell_type": "code",
   "execution_count": 534,
   "metadata": {},
   "outputs": [],
   "source": [
    "# Merge remaining_df with df on 'school_district' and 'state' columns\n",
    "df.update(remaining_df.set_index('LEAID'), overwrite=False)"
   ]
  },
  {
   "cell_type": "code",
   "execution_count": 535,
   "metadata": {},
   "outputs": [],
   "source": [
    "# Save the results to the working CSV\n",
    "df.to_csv(working_filename, index=False)"
   ]
  },
  {
   "cell_type": "code",
   "execution_count": 536,
   "metadata": {},
   "outputs": [
    {
     "name": "stdout",
     "output_type": "stream",
     "text": [
      "Percentage of total school boards scrapped: 75.69%\n"
     ]
    }
   ],
   "source": [
    "# percentage done\n",
    "percentage_done = str(round((df[~df[\"url\"].isna()].shape[0] / df.shape[0])*100,2)) + '%'\n",
    "print(f\"Percentage of total school boards scrapped: {percentage_done}\")"
   ]
  }
 ],
 "metadata": {
  "kernelspec": {
   "display_name": "Python (cepr_schoolboard)",
   "language": "python",
   "name": "cepr_schoolboard"
  },
  "language_info": {
   "codemirror_mode": {
    "name": "ipython",
    "version": 3
   },
   "file_extension": ".py",
   "mimetype": "text/x-python",
   "name": "python",
   "nbconvert_exporter": "python",
   "pygments_lexer": "ipython3",
   "version": "3.13.1"
  }
 },
 "nbformat": 4,
 "nbformat_minor": 2
}
