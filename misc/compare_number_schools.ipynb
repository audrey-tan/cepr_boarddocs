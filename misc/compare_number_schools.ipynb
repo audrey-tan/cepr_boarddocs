{
 "cells": [
  {
   "cell_type": "markdown",
   "metadata": {},
   "source": [
    "This notebook finds the number of boarddocs for each state, and compare it to number of schools from NCES for each state.\n",
    "\n",
    "Input\n",
    "- `../deliverable1/release/deliverable_1.csv`"
   ]
  },
  {
   "cell_type": "code",
   "execution_count": 3,
   "metadata": {},
   "outputs": [
    {
     "data": {
      "text/html": [
       "<div>\n",
       "<style scoped>\n",
       "    .dataframe tbody tr th:only-of-type {\n",
       "        vertical-align: middle;\n",
       "    }\n",
       "\n",
       "    .dataframe tbody tr th {\n",
       "        vertical-align: top;\n",
       "    }\n",
       "\n",
       "    .dataframe thead th {\n",
       "        text-align: right;\n",
       "    }\n",
       "</style>\n",
       "<table border=\"1\" class=\"dataframe\">\n",
       "  <thead>\n",
       "    <tr style=\"text-align: right;\">\n",
       "      <th></th>\n",
       "      <th>boarddocs_url</th>\n",
       "      <th>school_district</th>\n",
       "      <th>address</th>\n",
       "      <th>home_website</th>\n",
       "      <th>phone</th>\n",
       "    </tr>\n",
       "  </thead>\n",
       "  <tbody>\n",
       "    <tr>\n",
       "      <th>0</th>\n",
       "      <td>https://go.boarddocs.com/mi/sjs/Board.nsf/Public</td>\n",
       "      <td>St. Joseph Public Schools</td>\n",
       "      <td>NaN</td>\n",
       "      <td>https://www.sjschools.org</td>\n",
       "      <td>NaN</td>\n",
       "    </tr>\n",
       "    <tr>\n",
       "      <th>1</th>\n",
       "      <td>https://go.boarddocs.com/pa/cali/Board.nsf/Public</td>\n",
       "      <td>NaN</td>\n",
       "      <td>NaN</td>\n",
       "      <td>http://www.calsd.org</td>\n",
       "      <td>NaN</td>\n",
       "    </tr>\n",
       "    <tr>\n",
       "      <th>2</th>\n",
       "      <td>https://go.boarddocs.com/oh/mapleheights/Board...</td>\n",
       "      <td>Maple Heights City Schools</td>\n",
       "      <td>5740 Lawn Avenue | Maple Heights, OH 44137 | 2...</td>\n",
       "      <td>http://www.mapleschools.com</td>\n",
       "      <td>(216) 587-6100</td>\n",
       "    </tr>\n",
       "    <tr>\n",
       "      <th>3</th>\n",
       "      <td>https://go.boarddocs.com/oh/rlsd/Board.nsf/Public</td>\n",
       "      <td>Riverside Local School District</td>\n",
       "      <td>585 Riverside Drive | Painesville, Ohio 44077 ...</td>\n",
       "      <td>https://www.riversidelocalschools.com</td>\n",
       "      <td>(440) 352-0668</td>\n",
       "    </tr>\n",
       "    <tr>\n",
       "      <th>4</th>\n",
       "      <td>https://go.boarddocs.com/pa/shun/Board.nsf/Public</td>\n",
       "      <td>Southern Huntingdon County School District</td>\n",
       "      <td>NaN</td>\n",
       "      <td>http://www.shcsd.org</td>\n",
       "      <td>NaN</td>\n",
       "    </tr>\n",
       "  </tbody>\n",
       "</table>\n",
       "</div>"
      ],
      "text/plain": [
       "                                       boarddocs_url  \\\n",
       "0   https://go.boarddocs.com/mi/sjs/Board.nsf/Public   \n",
       "1  https://go.boarddocs.com/pa/cali/Board.nsf/Public   \n",
       "2  https://go.boarddocs.com/oh/mapleheights/Board...   \n",
       "3  https://go.boarddocs.com/oh/rlsd/Board.nsf/Public   \n",
       "4  https://go.boarddocs.com/pa/shun/Board.nsf/Public   \n",
       "\n",
       "                              school_district  \\\n",
       "0                   St. Joseph Public Schools   \n",
       "1                                         NaN   \n",
       "2                  Maple Heights City Schools   \n",
       "3             Riverside Local School District   \n",
       "4  Southern Huntingdon County School District   \n",
       "\n",
       "                                             address  \\\n",
       "0                                                NaN   \n",
       "1                                                NaN   \n",
       "2  5740 Lawn Avenue | Maple Heights, OH 44137 | 2...   \n",
       "3  585 Riverside Drive | Painesville, Ohio 44077 ...   \n",
       "4                                                NaN   \n",
       "\n",
       "                            home_website           phone  \n",
       "0              https://www.sjschools.org             NaN  \n",
       "1                   http://www.calsd.org             NaN  \n",
       "2            http://www.mapleschools.com  (216) 587-6100  \n",
       "3  https://www.riversidelocalschools.com  (440) 352-0668  \n",
       "4                   http://www.shcsd.org             NaN  "
      ]
     },
     "execution_count": 3,
     "metadata": {},
     "output_type": "execute_result"
    }
   ],
   "source": [
    "import pandas as pd\n",
    "\n",
    "df = pd.read_csv(\"../deliverable1/release/deliverable_1.csv\")\n",
    "df.head()"
   ]
  },
  {
   "cell_type": "code",
   "execution_count": null,
   "metadata": {},
   "outputs": [],
   "source": [
    "# get the states\n",
    "df[\"\"]"
   ]
  }
 ],
 "metadata": {
  "kernelspec": {
   "display_name": "Python (cepr_schoolboard)",
   "language": "python",
   "name": "cepr_schoolboard"
  },
  "language_info": {
   "codemirror_mode": {
    "name": "ipython",
    "version": 3
   },
   "file_extension": ".py",
   "mimetype": "text/x-python",
   "name": "python",
   "nbconvert_exporter": "python",
   "pygments_lexer": "ipython3",
   "version": "3.13.1"
  }
 },
 "nbformat": 4,
 "nbformat_minor": 2
}
